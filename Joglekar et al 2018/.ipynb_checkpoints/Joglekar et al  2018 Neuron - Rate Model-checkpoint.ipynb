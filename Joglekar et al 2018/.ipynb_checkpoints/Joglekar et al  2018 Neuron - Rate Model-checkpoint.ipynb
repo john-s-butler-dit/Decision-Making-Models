{
 "cells": [
  {
   "cell_type": "markdown",
   "metadata": {},
   "source": [
    "Inter-areal balanced amplification enhances signal propagation in a large-scale circuit model of the primate cortex\n",
    "======\n",
    "\n",
    "Joglekar MR, Mejias JF, Yang GR, Wang XJ.. Neuron. 2018 Apr 4;98(1):222-234.e8. doi: 10.1016/j.neuron.2018.02.031. Epub 2018 Mar 22. PMID: 29576389.\n",
    "\n",
    "\n",
    "Journal Club Tuesday 10th April 2018\n",
    "------\n"
   ]
  },
  {
   "cell_type": "markdown",
   "metadata": {},
   "source": [
    "#### Abstract\n",
    "This notebook implements an interative version of the models in the Joglekar et al 2018 paper."
   ]
  },
  {
   "cell_type": "markdown",
   "metadata": {},
   "source": [
    "## Introduction\n",
    "The paper discusses signal propagation from \n",
    "This notebook follows the stucture of the Joglekar et al. 2018 paper [1]:\n",
    "* Firstly describing the rate model;  \n",
    "* Secondly, describing the laminar model;  \n",
    "* Finally, describig the spiking network model."
   ]
  },
  {
   "cell_type": "code",
   "execution_count": 1,
   "metadata": {
    "collapsed": true
   },
   "outputs": [],
   "source": [
    "# LIBRARY\n",
    "# vector manipulation\n",
    "import numpy as np\n",
    "# math functions\n",
    "import math \n",
    "import sys\n",
    "\n",
    "# THIS IS FOR PLOTTING\n",
    "%matplotlib inline\n",
    "import matplotlib.pyplot as plt # side-stepping mpl backend\n",
    "import warnings\n",
    "warnings.filterwarnings(\"ignore\")"
   ]
  },
  {
   "cell_type": "markdown",
   "metadata": {},
   "source": [
    "## The Rate Model\n",
    "The rate model is motivated by work in a previous wang paper [2]. The equations describe excitatory (E) and inhibitory (I) firing rates of a neuronal population:\n",
    "\\begin{equation}  \\tau_E\\frac{dv_E}{dt} =-v_e+\\beta_E[I_E]_{+}, \\end{equation}\n",
    "\\begin{equation}  \\tau_I\\frac{dv_I}{dt} =-v_I+\\beta_I[I_I]_{+}, \\end{equation}\n",
    "where $[I]_+=\\max(I,0)$ is the input to the system, $\\tau_E$ and $\\tau_I$ are time constants. $\\beta_E$ and $\\beta_I$ are the slopes of the f-l??? curves."
   ]
  },
  {
   "cell_type": "markdown",
   "metadata": {},
   "source": [
    "### Parameters\n",
    "The parameters for the model are:\n",
    "\n",
    "| Parameter | Excitatory (E)  | Inhibitory (I) |\n",
    "|------|------|------|\n",
    "|   $\\tau$ (ms)| 20|10|\n",
    "|   $\\beta$ | 0.066|0.351|"
   ]
  },
  {
   "cell_type": "markdown",
   "metadata": {},
   "source": [
    "### Model Input\n",
    "The incoming current is given by \n",
    "\\begin{equation}\n",
    "I^i_E=(1+\\eta h_i)(w_{EE} v^i_E+I_{lr,E^i})-w_{EI}v_I^i+I_{ext,E^i}\n",
    "\\end{equation}\n",
    "\n",
    "\\begin{equation}\n",
    "I^i_I=(1+\\eta h_i)(w_{IE} v^i_E+I_{lr,I^i})-w_{II}v_I^i+I_{ext,I^i}\n",
    "\\end{equation}\n",
    "where $I^i_E$ and $I^i_I$ denote the input currents to the excitatory and inhibitory populations from area i.\n",
    "\n",
    "$w$ denotes the local-circuit excitatory and inhibitory connections.\n",
    "\n",
    "$h$ is the hierarchical position, it is normalised between $0$ and $1$.\n",
    "\n",
    "$\\eta$ scales the exciatory firing rate, it is set as $\\eta=0.68$.\n",
    "\n",
    "The local connectivity parameters for the input are:\n",
    "\n",
    "| Parameter | Value  |\n",
    "|------|------|\n",
    "|   $\\mu_{IE}$ | 25.3|\n",
    "|   $w_{EE}$ | 24.3|\n",
    "|   $w_{IE}$ | 12.2|\n",
    "|   $w_{II}$ | 12.5|"
   ]
  },
  {
   "cell_type": "code",
   "execution_count": 2,
   "metadata": {},
   "outputs": [
    {
     "data": {
      "image/png": "[encoded data removed]",
      "text/plain": [
       "<matplotlib.figure.Figure at 0x7f991057de10>"
      ]
     },
     "metadata": {},
     "output_type": "display_data"
    }
   ],
   "source": [
    "#### Model Parameters\n",
    "\n",
    "mu_IE=25.3\n",
    "mu_EE=33.7\n",
    "\n",
    "def Input(input_amp,time):\n",
    "    I=np.zeros((len(time)))     # CURRENT (INPUT)\n",
    "    \n",
    "    for k in range (0,len(time)):\n",
    "        if time[k] >0.1 and time[k]<0.35:\n",
    "            I[k]=input_amp # Input change\n",
    "    return I\n",
    "\n",
    "\n",
    "# Numerical Solution to the Izhikevich model\n",
    "def DiscreteMillerRateModel(u_E,u_I,I,kI,w):\n",
    "    tau_E=1000/20\n",
    "    tau_I=1000/10\n",
    "    w_EE=w\n",
    "    w_IE=kI*w\n",
    "    w_II=w\n",
    "    w_EI=kI*w\n",
    "    u_E = u_E + 0.0001*(-(1+w_EE)*u_E+w_EI*u_I+I)/tau_E # Discrete form of membrane potential of the neuron \n",
    "    u_I = u_I + 0.0001*(-(w_IE)*u_E+(w_II-1)*u_I+I)/tau_I            # Discrete form of membrane recovery variable\n",
    "   # u_E = u_E + 0.0001*(-1*u_E+I)/tau_E # Discrete form of membrane potential of the neuron \n",
    "    #u_I = u_I + 0.0001*(-1*u_I+I)/tau_I            # Discrete form of membrane recovery variable\n",
    "    return u_E,u_I\n",
    "\n",
    "time=np.arange(0,2,0.0001)  # time period 1000ms (1s)\n",
    "input_amp=0\n",
    "I=Input(input_amp,time)\n",
    "fig, ax1 = plt.subplots(figsize=(12,3))\n",
    "ax1.plot(time, Input(input_amp,time), 'b-') # y label\n",
    "ax1.set_xlabel('time (s)') # x label\n",
    "# Make the y-axis label, ticks and tick labels match the line color.\n",
    "ax1.set_ylabel('Input mV', color='b')\n",
    "ax1.set_ylim(0,3*input_amp) # setting the plotting range\n",
    "plt.title('Figure 2: Input to the system')\n",
    "plt.show()   "
   ]
  },
  {
   "cell_type": "code",
   "execution_count": 3,
   "metadata": {},
   "outputs": [
    {
     "data": {
      "image/png": "[encoded data removed]",
      "text/plain": [
       "<matplotlib.figure.Figure at 0x7f9936b6f9e8>"
      ]
     },
     "metadata": {},
     "output_type": "display_data"
    }
   ],
   "source": [
    "vE=1*np.ones(len(time))\n",
    "vI=1*np.ones(len(time))\n",
    "\n",
    "for k in range (0,len(time)-1):\n",
    "   vE[k+1], vI[k+1]= DiscreteMillerRateModel(vE[k],vI[k],I[k],1.1,4)\n",
    "\n",
    "fig, ax1 = plt.subplots(figsize=(12,3))\n",
    "ax1.plot( time,vE, 'b-', label = 'Output')\n",
    "ax1.set_xlabel('time (ms)')\n",
    "# Make the y-axis label, ticks and tick labels match the line color.\n",
    "ax1.set_ylabel('Output mV', color='b')\n",
    "ax1.tick_params('y', colors='b')\n",
    "ax2 = ax1.twinx()\n",
    "ax2.plot(time, I, 'r', label = 'Input')\n",
    "ax2.set_ylim(0,input_amp*20)\n",
    "ax2.set_ylabel('Input (mV)', color='r')\n",
    "ax2.tick_params('y', colors='r')\n",
    "fig.tight_layout()\n",
    "ax1.legend(loc=1)\n",
    "ax2.legend(loc=3)\n",
    "plt.show()"
   ]
  },
  {
   "cell_type": "markdown",
   "metadata": {},
   "source": [
    "The background firing rate are 10Hz for excitatory rate and 35Hz for inhibitory, which has been subtracted for the figures.\n",
    "\n",
    "The long-range input currents are given by \n",
    "\\begin{equation}\n",
    "I_{lr,E}^i=\\mu_{EE}\\sum_{j=1}^{N} FLN_{ij}v_{E}^j\n",
    "\\end{equation}\n",
    "\\begin{equation}\n",
    "I_{lr,I}^i=\\mu_{IE}\\sum_{j=1}^{N} FLN_{ij}v_{E}^j\n",
    "\\end{equation}\n",
    "\n",
    "\n",
    "To model global \n",
    "\n",
    "The parameters for the model are:\n",
    "\n",
    "| Parameter | weak GBA | strong GBA |\n",
    "|------|------|------|\n",
    "|   $w_{EI}$ | 19.7|25.2|\n",
    "|   $\\mu_{EE}$ | 33.7|51.5|"
   ]
  },
  {
   "cell_type": "code",
   "execution_count": 4,
   "metadata": {
    "collapsed": true
   },
   "outputs": [],
   "source": [
    "# Numerical Solution to the Izhikevich model\n",
    "def DiscreteRateModel(u_E,u_I,I_E,I_I):\n",
    "    tau_E=20\n",
    "    tau_I=10\n",
    "    beta_E=0.066\n",
    "    beta_I=0.351\n",
    "    u_E = u_E + 0.0001*(-u_E+beta_E*I_E)/tau_E # Discrete form of membrane potential of the neuron \n",
    "    u_I = u_I + 0.0001*(-u_I+beta_I*I_I)/tau_I            # Discrete form of membrane recovery variable\n",
    "    return u_E,u_I"
   ]
  },
  {
   "cell_type": "code",
   "execution_count": 5,
   "metadata": {
    "scrolled": true
   },
   "outputs": [
    {
     "ename": "SyntaxError",
     "evalue": "invalid syntax (<ipython-input-5-8bfad3dd2982>, line 32)",
     "output_type": "error",
     "traceback": [
      "\u001b[1;36m  File \u001b[1;32m\"<ipython-input-5-8bfad3dd2982>\"\u001b[1;36m, line \u001b[1;32m32\u001b[0m\n\u001b[1;33m    I_E=(1+eta)*(w_EE+v_e+)\u001b[0m\n\u001b[1;37m                          ^\u001b[0m\n\u001b[1;31mSyntaxError\u001b[0m\u001b[1;31m:\u001b[0m invalid syntax\n"
     ]
    }
   ],
   "source": [
    "\n",
    "\n",
    "FLN=np.random.rand(3,3)\n",
    "\n",
    "time=np.arange(0,2,0.0001)  # time period 1000ms (1s)\n",
    "vE=np.zeros((3,len(time)))\n",
    "vI=np.zeros((3,len(time)))\n",
    "INTERNAL= np.dot(FLN,vE[:,0])\n",
    "INTERNAL= np.dot(FLN,vI[:,0])\n",
    "u_E=np.zeros(3)\n",
    "u_I=np.zeros(3)\n",
    "\n",
    "I_E=np.zeros(3)\n",
    "I_I=np.zeros(3)\n",
    "\n",
    "\n",
    "\n",
    "for k in range (0,len(time)):\n",
    "    for i in range(0,3):\n",
    "         i+k\n",
    "         u_E, v_E= DiscreteRateModel(uE,u_I,I_E,I_I)\n",
    "\n",
    "        \n",
    "        \n",
    "\n",
    "\n",
    "def I_E(input_duration,input_amp,time):\n",
    "    eta=0.68\n",
    "    w_EE=24.3\n",
    "    mu_IE=25.3\n",
    "    w_IE=12.2\n",
    "    I_E=(1+eta)*(w_EE+v_e+)\n",
    "    I=np.zeros((len(time)))     # CURRENT (INPUT)\n",
    "    \n",
    "    for k in range (0,len(time)):\n",
    "        if time[k] >0.1 & time[k]<0.35:\n",
    "            I[k]=input_amp # Input change\n",
    "    return I\n"
   ]
  },
  {
   "cell_type": "markdown",
   "metadata": {
    "collapsed": true
   },
   "source": [
    "#### References\n",
    "\n",
    "1 Joglekar MR, Mejias JF, Yang GR, Wang XJ. Inter-areal Balanced Amplification Enhances Signal Propagation in a Large-Scale Circuit Model of the Primate Cortex. Neuron. 2018 Apr 4;98(1):222-234.e8. doi: 10.1016/j.neuron.2018.02.031. Epub 2018 Mar 22. PMID: 29576389.\n"
   ]
  },
  {
   "cell_type": "code",
   "execution_count": null,
   "metadata": {},
   "outputs": [],
   "source": []
  }
 ],
 "metadata": {
  "kernelspec": {
   "display_name": "Python 3 (ipykernel)",
   "language": "python",
   "name": "python3"
  },
  "language_info": {
   "codemirror_mode": {
    "name": "ipython",
    "version": 3
   },
   "file_extension": ".py",
   "mimetype": "text/x-python",
   "name": "python",
   "nbconvert_exporter": "python",
   "pygments_lexer": "ipython3",
   "version": "3.8.12"
  }
 },
 "nbformat": 4,
 "nbformat_minor": 1
}
