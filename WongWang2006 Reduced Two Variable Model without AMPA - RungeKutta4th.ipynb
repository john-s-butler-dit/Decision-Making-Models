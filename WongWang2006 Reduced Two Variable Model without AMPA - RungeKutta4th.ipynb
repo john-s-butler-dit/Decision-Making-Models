{
 "cells": [
  {
   "cell_type": "markdown",
   "metadata": {
    "colab_type": "text",
    "id": "view-in-github"
   },
   "source": [
    "<a href=\"https://colab.research.google.com/github/john-s-butler-dit/Decision-Making-Models/blob/master/WongWang2006%20Reduced%20Two%20Variable%20Model%20without%20AMPA%20-%20RungKutta4th.ipynb\" target=\"_parent\"><img src=\"https://colab.research.google.com/assets/colab-badge.svg\" alt=\"Open In Colab\"/></a>"
   ]
  },
  {
   "cell_type": "markdown",
   "metadata": {
    "id": "Bt6e-R4_cZ0q"
   },
   "source": [
    "# A Recurrent Network Mechanism of Time Integration in Perceptual Decisions\n",
    "Wong,  Wang\n",
    "Journal of Neuroscience, January 2006, 26(4):1212-1328\n",
    "\n",
    "TESTING\n",
    "Testing 4"
   ]
  },
  {
   "cell_type": "markdown",
   "metadata": {
    "id": "i8CKMuqvcZ0w"
   },
   "source": [
    "# Appendix Model\n",
    "## Reduced two-variable model without AMPA at recurrent synapses\n",
    "The reduced two-variable model is in its simplest form if we\n",
    "assume that there is no AMPA at the recurrent synapses."
   ]
  },
  {
   "cell_type": "markdown",
   "metadata": {
    "id": "eJv8wr9DcZ0x"
   },
   "source": [
    "### Calling Library Fuctions"
   ]
  },
  {
   "cell_type": "code",
   "execution_count": 1,
   "metadata": {
    "id": "c5Uj3unfcZ0x"
   },
   "outputs": [],
   "source": [
    "# LIBRARY\n",
    "\n",
    "import numpy as np # vector manipulation\n",
    "import math  # math functions\n",
    "import sys\n",
    "\n",
    "# THIS IS FOR PLOTTING\n",
    "%matplotlib inline\n",
    "import matplotlib.pyplot as plt # side-stepping mpl backend\n",
    "import warnings\n",
    "warnings.filterwarnings(\"ignore\")\n"
   ]
  },
  {
   "cell_type": "markdown",
   "metadata": {
    "id": "KcbqWhfkcZ0y"
   },
   "source": [
    "### The Reduced Network Model\n",
    "#### Firing rate\n",
    "$$ H_i=\\frac{a x_i-b}{(1-exp[-d(ax_i-b)]}$$\n",
    "\n",
    "$$ a=270 (VnC)^{-1},$$\n",
    "$$ b=108Hz,$$\n",
    "$$ d=0.154s$$"
   ]
  },
  {
   "cell_type": "code",
   "execution_count": 2,
   "metadata": {
    "colab": {
     "base_uri": "https://localhost:8080/",
     "height": 497
    },
    "id": "mrbgEtTTcZ0y",
    "outputId": "89d08252-69b5-4b4c-d2b7-2a477bcef4af"
   },
   "outputs": [
    {
     "data": {
      "image/png": "[encoded data removed]",
      "text/plain": [
       "<Figure size 576x576 with 1 Axes>"
      ]
     },
     "metadata": {
      "needs_background": "light"
     },
     "output_type": "display_data"
    }
   ],
   "source": [
    "def H_JB(x):\n",
    "    a = 270\n",
    "    b = 108\n",
    "    d = 0.154\n",
    "    f = (a*x-b)/(1-np.exp(-d*(a*x-b)))\n",
    "    return f\n",
    "\n",
    "def H(x):\n",
    "    a = 270\n",
    "    b = 108\n",
    "    d = 0.154\n",
    "    h = (a*x-b)/(1-np.exp(-d*(a*x-b)))\n",
    "    return h\n",
    "\n",
    "x=np.arange(-1,1,0.0001)\n",
    "fig = plt.figure(figsize=(8,8))\n",
    "plt.plot(x,H_JB(x))\n",
    "plt.plot(x,H(x),'r')\n",
    "\n",
    "plt.grid()\n",
    "plt.xlabel('x')\n",
    "plt.ylabel('H_JB(x)')\n",
    "#plt.legend(bbox_to_anchor=(1.05, 1), loc=2, borderaxespad=0.)\n",
    "plt.show()\n",
    "\n",
    "\n"
   ]
  },
  {
   "cell_type": "markdown",
   "metadata": {
    "id": "jTO5KLd4cZ0z"
   },
   "source": [
    "### Neural Circuit\n",
    "$$ x_{1}=J_{11}S_1-J_{12}S_2+I_{0}+I_{1}+I_{noise,1}$$\n",
    "$$ x_{2}=J_{22}S_2-J_{21}S_1+I_{0}+I_{2}+I_{noise,1}$$\n",
    "\n",
    "where the synaptic couplings are $J_{11}=0.2609$, $J_{22}=0.2609$, $J_{12}=0.0497$ and $J_{21}=0.0497$.\n",
    "$I_{0}=0.3255 nA$ represents external input \n"
   ]
  },
  {
   "cell_type": "code",
   "execution_count": 3,
   "metadata": {
    "id": "XWuDmjo1cZ0z"
   },
   "outputs": [],
   "source": [
    "def total_synaptic_current(S_L,S_R,I_L,I_R,I_noise_L,I_noise_R,direction):\n",
    "    # Synaptic coupling\n",
    "    J_LL=J_RR=0.2609 # nA\n",
    "    J_LR=J_RL=0.0497 # nA\n",
    "    I_0=0.3255  # nA\n",
    "    x_L=J_LL*S_L-J_LR*S_R+I_0+I_L+I_noise_L\n",
    "    x_R=J_RR*S_R-J_RL*S_L+I_0+I_R+I_noise_R\n",
    "    if (direction == \"L\"):\n",
    "        x=J_LL*S_L-J_LR*S_R+I_0+I_L+I_noise_L\n",
    "    elif(direction == \"R\"):\n",
    "        x=J_RR*S_R-J_RL*S_L+I_0+I_R+I_noise_R\n",
    "    return x#_1, x_2\n"
   ]
  },
  {
   "cell_type": "markdown",
   "metadata": {
    "id": "LHeRU2tScZ00"
   },
   "source": [
    "### Background activity\n",
    "$$ \\tau_{AMPA}\\frac{d I_{noise,i}(t)}{dt} =-I_{noise,i}(t)+\\eta_i(t)\\sqrt{\\tau_{AMPA}}\\sigma_{noise}$$\n",
    "$$ \\tau_{AMPA}=2ms,$$\n",
    "$$ \\sigma_{noise}=0.02,$$\n",
    "$$ \\eta- white \\ noise $$"
   ]
  },
  {
   "cell_type": "code",
   "execution_count": 4,
   "metadata": {
    "id": "qQdBjxrtcZ00"
   },
   "outputs": [],
   "source": [
    "def Background_Activity(I_noise,h):\n",
    "    sigma_noise=0.02 # nA\n",
    "    tau_AMPA=2/1000#ms\n",
    "    eta_noise=np.random.normal(0,1,1)\n",
    "    I_0=0.0#3255  # nA\n",
    "    k1=1/tau_AMPA*(-(I_noise-I_0)+eta_noise*np.sqrt(tau_AMPA)*sigma_noise)\n",
    "    k2=1/tau_AMPA*(-(I_noise+h/2*k1-I_0)+eta_noise*np.sqrt(tau_AMPA)*sigma_noise)\n",
    "    k3=1/tau_AMPA*(-(I_noise+h/2*k2-I_0)+eta_noise*np.sqrt(tau_AMPA)*sigma_noise)\n",
    "    k4=1/tau_AMPA*(-(I_noise+h*k3-I_0)+eta_noise*np.sqrt(tau_AMPA)*sigma_noise)\n",
    "    I_noise_new=I_noise+h/6*(k1+2*k2+2*k3+k4)\n",
    "    #I_noise_new=I_noise+h*(k1)\n",
    "    \n",
    "    return I_noise_new"
   ]
  },
  {
   "cell_type": "markdown",
   "metadata": {
    "id": "DmOpTSnscZ00"
   },
   "source": [
    "### Network Dynamics\n",
    "$$ \\frac{d S_{i}}{dt} =\\frac{-S_{i}}{\\tau_S}+\\big((1-S_i)\\gamma H(x_i)\\big)$$\n",
    "$$\\tau_S=100ms$$\n",
    "$$\\tau_S=0.1s$$\n",
    "$$\\gamma=0.641$$\n",
    "\n",
    "Euler \n",
    "w_{i+1}"
   ]
  },
  {
   "cell_type": "code",
   "execution_count": 5,
   "metadata": {
    "id": "9wL-JuOTcZ00"
   },
   "outputs": [],
   "source": [
    "def S_diff(S,x,h):\n",
    "    tau_S=100/1000#100 #ms\n",
    "    𝛾=0.641\n",
    "    h1=h\n",
    "    k1=((-S/tau_S)+(1-S)*𝛾*H(x))\n",
    "    k2=((-(S+h1/2*k1)/tau_S)+(1-(S+h1/2*k1))*𝛾*H(x))\n",
    "    k3=((-(S+h1/2*k2)/tau_S)+(1-(S+h1/2*k2))*𝛾*H(x))\n",
    "    k4=((-(S+h1*k3)/tau_S)+(1-(S+h1*k3))*𝛾*H(x))\n",
    "    S_new=S+h1*(k1+2*k2+2*k3+k4)\n",
    "    #S_new=S+h1*(k1)#+2*k2+2*k3+k4)\n",
    "    return S_new"
   ]
  },
  {
   "cell_type": "markdown",
   "metadata": {
    "id": "os0iz7N7cZ01"
   },
   "source": [
    "### Input Current Target\n",
    "\n",
    "$$ I_i=J_{A,ext}\\mu_0\\left(1\\pm \\frac{c'}{100} \\right) $$\n",
    "\n",
    "$$\\mu=30$$ Hz- spikes per second\n",
    "$$ f=1$$  Only in Wong et al 2007\n",
    "$$ J_{A,ext}=5.2 \\times 10^{-4}$$\n",
    "$$ c' $$ Coherence"
   ]
  },
  {
   "cell_type": "code",
   "execution_count": 6,
   "metadata": {
    "colab": {
     "base_uri": "https://localhost:8080/",
     "height": 544
    },
    "id": "_PSpnPVdcZ01",
    "outputId": "197106fe-7798-4eb2-927c-bb6e082f0817"
   },
   "outputs": [
    {
     "data": {
      "image/png": "[encoded data removed]",
      "text/plain": [
       "<Figure size 576x288 with 1 Axes>"
      ]
     },
     "metadata": {
      "needs_background": "light"
     },
     "output_type": "display_data"
    },
    {
     "data": {
      "image/png": "[encoded data removed]",
      "text/plain": [
       "<Figure size 576x288 with 1 Axes>"
      ]
     },
     "metadata": {
      "needs_background": "light"
     },
     "output_type": "display_data"
    }
   ],
   "source": [
    "def I_input_1(c_dash):\n",
    "    J_A_ext=5.2*(10**(-4))# nA/Hz\n",
    "    mu_0=30 # Hz\n",
    "    f=1\n",
    "    I_motion=J_A_ext*mu_0*(1+f*(c_dash)/100)\n",
    "    return I_motion\n",
    "\n",
    "All_coh=np.arange(-100,100,1)\n",
    "fig = plt.figure(figsize=(8,4))\n",
    "plt.plot(All_coh,I_input_1(All_coh))\n",
    "plt.grid()\n",
    "plt.xlabel('Coherence')\n",
    "plt.ylabel('I(Coherence)')\n",
    "#plt.legend(bbox_to_anchor=(1.05, 1), loc=2, borderaxespad=0.)\n",
    "plt.show()\n",
    "fig = plt.figure(figsize=(8,4))\n",
    "plt.plot(All_coh,H_JB(I_input_1(All_coh)))\n",
    "plt.grid()\n",
    "plt.xlabel('Coherence')\n",
    "plt.ylabel('Firing Rate')\n",
    "#plt.legend(bbox_to_anchor=(1.05, 1), loc=2, borderaxespad=0.)\n",
    "plt.show()\n",
    "\n"
   ]
  },
  {
   "cell_type": "markdown",
   "metadata": {
    "id": "hmCa41ZKcZ01"
   },
   "source": [
    "# Initial Conditions"
   ]
  },
  {
   "cell_type": "code",
   "execution_count": 7,
   "metadata": {
    "id": "jBoTk0uZcZ01"
   },
   "outputs": [],
   "source": [
    "h=0.1/1000\n",
    "time=np.arange(-1,2+h,h)\n",
    "J_A_ext=5.2*(10**(-4)) # nA/Hz\n",
    "mu_0=30.0\n",
    "M=20\n",
    "N=len(time)\n",
    "I_noise_L=0.0001*np.random.normal(0,1,[M, N])\n",
    "I_noise_R=0.0001*np.random.normal(0,1,[M, N])\n",
    "\n",
    "x_L=J_A_ext*mu_0*np.ones([M, N])\n",
    "x_R=J_A_ext*mu_0*np.ones([M, N])\n",
    "\n",
    "N=len(time)\n",
    "\n",
    "S_L=0.2+0.02*np.random.normal(0,1,[M, N])\n",
    "S_R=0.2+0.02*np.random.normal(0,1,[M, N])\n",
    "#I_L=J_A_ext*mu_0+0.0001*np.random.normal(0,1,[M, N])\n",
    "#I_R=J_A_ext*mu_0+0.0001*np.random.normal(0,1,[M, N])\n"
   ]
  },
  {
   "cell_type": "code",
   "execution_count": 8,
   "metadata": {},
   "outputs": [
    {
     "data": {
      "text/plain": [
       "(20, 30001)"
      ]
     },
     "execution_count": 8,
     "metadata": {},
     "output_type": "execute_result"
    }
   ],
   "source": [
    "S_L.shape"
   ]
  },
  {
   "cell_type": "code",
   "execution_count": 9,
   "metadata": {
    "id": "7n-tkx1ycZ02"
   },
   "outputs": [],
   "source": [
    "COHERENCE_LEVEL=.040\n",
    "γ = 0.641\n",
    "τ = 100/1000\n",
    "τ_ampa=2/1000\n",
    "sigma=0.02\n",
    "\n",
    "for j in range(0,M):\n",
    "    \n",
    "    for i in range (0,N-1):\n",
    "        ## INPUT\n",
    "        if time[i] >=0 and time[i]<1:\n",
    "            c_dash=COHERENCE_LEVEL\n",
    "           # I_L[j,i]=J_A_ext*mu_0*(1+(c_dash)/100)\n",
    "            #I_R[j,i]=J_A_ext*mu_0*(1-(c_dash)/100)\n",
    "            I_L=J_A_ext*mu_0*(1+(c_dash))\n",
    "            I_R=J_A_ext*mu_0*(1-(c_dash))\n",
    "           # IL = JA*μ*(1+(c_dash))\n",
    "           # IR = JA*μ*(1-(c_dash))\n",
    "\n",
    "        else:\n",
    "            c_dash=0.0\n",
    "            I_R=0\n",
    "            I_L=0\n",
    "            IL=0\n",
    "            IR=0\n",
    "\n",
    "\n",
    "        if i<2000:\n",
    "          #  SL[i+1,j] = SL[0,j]\n",
    "          #  SR[i+1,j] = SR[0,j]\n",
    "            S_L[j,i+1] = S_L[j,0]\n",
    "            S_R[j,i+1] = S_R[j,0]\n",
    "                \n",
    "            \n",
    "        #I_noise_1[i+1]=Background_Activity(I_noise_1[i],h)\n",
    "        #I_noise_2[i+1]=Background_Activity(I_noise_2[i],h)\n",
    "\n",
    "        #I_1[i]=I_input_1(c_dash)\n",
    "        #I_2[i]=I_input_1(-c_dash)\n",
    "        #x_1[i],x_2[i]=total_synaptic_current(S_1[i],S_2[i],I_1[i],\n",
    "        #                                  I_2[i],I_noise_1[i],I_noise_2[i])\n",
    "        S_L[j,i+1]=S_diff(S_L[j,i],x_L[j,i],h)\n",
    "        S_R[j,i+1]=S_diff(S_R[j,i],x_R[j,i],h)\n",
    "\n",
    "#        S_L[j,i+1]=S_L[j,i]+h*((-S_L[j,i]/τ) + (1-S_L[j,i])*γ*H(x_L[j,i]))\n",
    " #       S_R[j,i+1]=S_R[j,i]+h*((-S_R[j,i]/τ) + (1-S_R[j,i])*γ*H(x_R[j,i]))\n",
    "        x_R[j,i+1]=total_synaptic_current(S_L[j,i+1], S_R[j,i+1],I_L,I_R, \n",
    "                                                             I_noise_L[j,i+1], I_noise_R[j,i+1], \"R\")\n",
    "        x_L[j,i+1]=total_synaptic_current(S_L[j,i+1], S_R[j,i+1],I_L,I_R, \n",
    "                                                             I_noise_L[j,i+1], I_noise_R[j,i+1], \"L\")\n",
    "              \n",
    "      #  SL[i+1,j]=SL[i,j]+h*((-SL[i,j]/τ) + (1-SL[i,j])*γ*H(total_synaptic_current(SL[i,j], SR[i,j], noise_L[i], noise_R[i],IL,IR, \"L\")))\n",
    "      #  SR[i+1,j]=SR[i,j]+h*((-SR[i,j]/τ) + (1-SR[i,j])*γ*H(total_synaptic_current(SL[i,j], SR[i,j], noise_L[i], noise_R[i],IL,IR, \"R\")))\n",
    "      #  FR[i+1,j]=H(x(SL[i+1,j], SR[i+1,j], noise_L[i+1], noise_R[i+1],IL,IR, \"R\"))\n",
    "      #  FL[i+1,j]=H(x(SL[i+1,j], SR[i+1,j], noise_L[i+1], noise_R[i+1],IL,IR, \"L\"))\n"
   ]
  },
  {
   "cell_type": "markdown",
   "metadata": {
    "id": "8oJkYBngcZ02"
   },
   "source": [
    "### Plotting\n"
   ]
  },
  {
   "cell_type": "code",
   "execution_count": 10,
   "metadata": {
    "colab": {
     "base_uri": "https://localhost:8080/",
     "height": 297
    },
    "id": "h2k7FoOacZ02",
    "outputId": "5cb4b59c-89a7-49f5-9da7-8435eb480f02"
   },
   "outputs": [
    {
     "data": {
      "image/png": "[encoded data removed]",
      "text/plain": [
       "<Figure size 1008x288 with 2 Axes>"
      ]
     },
     "metadata": {
      "needs_background": "light"
     },
     "output_type": "display_data"
    }
   ],
   "source": [
    "fig = plt.figure(figsize=(14,4))\n",
    "\n",
    "plt.subplot(121)\n",
    "plt.plot(time,S_L[0,],'-',color='blue',label='Left Activity')\n",
    "plt.plot(time,S_R[0,],'-',color='red',label='Right Activity')\n",
    "\n",
    "#plt.plot([0,1],[0,1],':k')\n",
    "plt.grid()\n",
    "plt.xlabel('time(ms)')\n",
    "plt.ylabel('Activity  ')\n",
    "#plt.xlim((-100,1500))\n",
    "\n",
    "plt.subplot(122)\n",
    "\n",
    "plt.plot(time,H_JB(x_R[0,]),'-',color='blue',label=\"Right\")\n",
    "plt.plot(time,H_JB(x_L[0,]),'-',color='red',label=\"Left\")\n",
    "#plt.hlines(15,-100,1500,linestyles='dashed',label='Threshold')\n",
    "#plt.hlines(5,0,800)\n",
    "\n",
    "plt.grid()\n",
    "#plt.xlim((-100,1500))\n",
    "plt.xlabel('time(ms)')\n",
    "plt.ylabel('Firing Rate')\n",
    "\n",
    "#plt.legend(bbox_to_anchor=(1.05, 1), loc=2, borderaxespad=0.)\n",
    "\n",
    "\n",
    "\n",
    "\n",
    "plt.legend()\n",
    "plt.tight_layout()\n",
    "plt.show()\n"
   ]
  },
  {
   "cell_type": "code",
   "execution_count": 11,
   "metadata": {
    "colab": {
     "base_uri": "https://localhost:8080/",
     "height": 404
    },
    "id": "B5_BbtfqcZ02",
    "outputId": "fea0a491-4f68-4b78-aa30-6bc11e856cab"
   },
   "outputs": [
    {
     "data": {
      "image/png": "[encoded data removed]",
      "text/plain": [
       "<Figure size 432x432 with 1 Axes>"
      ]
     },
     "metadata": {
      "needs_background": "light"
     },
     "output_type": "display_data"
    }
   ],
   "source": [
    "Firing_target_L=H_JB(x_L)\n",
    "Firing_target_R=H_JB(x_R)\n",
    "\n",
    "fig = plt.figure(figsize=(6,6))\n",
    "plt.plot(Firing_target_L,Firing_target_R,'-',color='black')\n",
    "\n",
    "\n",
    "plt.plot([0,20],[0,20],':')\n",
    "plt.grid()\n",
    "plt.xlabel('Firing Rate R')\n",
    "plt.ylabel('Firing Rate R')\n",
    "plt.title('Phase Plane')\n",
    "plt.axis('square')\n",
    "plt.show()\n",
    "\n"
   ]
  },
  {
   "cell_type": "code",
   "execution_count": null,
   "metadata": {
    "id": "NHuyeEpLhsg4"
   },
   "outputs": [],
   "source": []
  },
  {
   "cell_type": "markdown",
   "metadata": {
    "id": "3JThKnaQcZ03"
   },
   "source": [
    "## References\n",
    "Wong KF, Wang XJ. A recurrent network mechanism of time integration in perceptual decisions. J Neurosci. 2006 Jan 25;26(4):1314-28. doi: 10.1523/JNEUROSCI.3733-05.2006. PMID: 16436619; PMCID: PMC6674568."
   ]
  },
  {
   "cell_type": "code",
   "execution_count": 12,
   "metadata": {
    "id": "FFPVc1lJcZ03"
   },
   "outputs": [
    {
     "data": {
      "text/plain": [
       "[<matplotlib.lines.Line2D at 0x7f8a34521590>]"
      ]
     },
     "execution_count": 12,
     "metadata": {},
     "output_type": "execute_result"
    },
    {
     "data": {
      "image/png": "[encoded data removed]",
      "text/plain": [
       "<Figure size 432x288 with 1 Axes>"
      ]
     },
     "metadata": {
      "needs_background": "light"
     },
     "output_type": "display_data"
    }
   ],
   "source": [
    "# Function definitons\n",
    "def x(SL, SR, noise_L, noise_R, direction):\n",
    "  if (direction == \"L\"):\n",
    "    x = JLL*SL - JLR*SR + I0 + IL + noise_L\n",
    "  elif(direction == \"R\"):\n",
    "    x = JRR*SR - JRL*SL + I0 + IR + noise_R\n",
    "  return x\n",
    "\n",
    "def H(x):\n",
    "    a = 270\n",
    "    b = 108\n",
    "    d = 0.154\n",
    "    h = (a*x-b)/(1-np.exp(-d*(a*x-b)))\n",
    "    return h\n",
    "\n",
    "# Define Variables\n",
    "N = len(time) # number of miliseconds (N*0.1) to run for\n",
    "h = 0.1/1000 # step size\n",
    "\n",
    "M = 20 # number of experiments for each coherence level\n",
    "\n",
    "# Initializing different coherence levels to test \n",
    "coherence = np.array([0, 0.005, 0.01, 0.015,0.02])#, 0.03, 0.04, 0.05, 0.1, 0.15, 0.25]) # (0, 1,2,3,4,5,10,15 and 25%)\n",
    "coherence = np.array([0, 0.01,0.02, 0.03, 0.04, 0.05, 0.1, 0.15, 0.25,0.5,0.75]) # (0, 1,2,3,4,5,10,15 and 25%)\n",
    "coherence = np.array([0.2]) # (0, 1,2,3,4,5,10,15 and 25%)\n",
    "\n",
    "\n",
    "C = len(coherence) # Number of times the outside loop below runs\n",
    "\n",
    "# Initial condition for Left and Right\n",
    "initial_condition_L = 0.3\n",
    "initial_condition_R = 0.3\n",
    "# Performing the Euler Method\n",
    "\n",
    "## Setting Constant Parameter Values\n",
    "γ = 0.641\n",
    "τ = 100/1000\n",
    "\n",
    "JLL = JRR = 0.2609\n",
    "JLR = JRL = 0.0497\n",
    "I0 = 0.3255\n",
    "JA = 5.2*(10**(-4))\n",
    "μ = 30\n",
    "\n",
    "# Left and Right input, based on coherence value\n",
    "IL = JA*μ*(1-(coherence))\n",
    "IR = JA*μ*(1+(coherence))\n",
    "\n",
    "\n",
    "plt.plot(coherence,H(IR),':o')"
   ]
  },
  {
   "cell_type": "code",
   "execution_count": 13,
   "metadata": {
    "id": "FFPVc1lJcZ03"
   },
   "outputs": [
    {
     "name": "stdout",
     "output_type": "stream",
     "text": [
      "[[803.7 790.8 767.5 784.8 824.2 828.1 805.2 766.8 774.7 813.7 810.2 852.1\n",
      "  778.3 707.5 748.5 781.8 799.  745.5 759.6 734.6]]\n",
      "[[1. 1. 1. 1. 1. 1. 1. 1. 1. 1. 1. 1. 1. 1. 1. 1. 1. 1. 1. 1.]]\n"
     ]
    }
   ],
   "source": [
    "# Initiaizing empty vectors\n",
    "SL = np.zeros([N+1, M])\n",
    "SR = np.zeros([N+1, M])\n",
    "FL = np.zeros([N, M])\n",
    "FR = np.zeros([N, M])\n",
    "\n",
    "Reaction_Time = np.zeros([C,M])\n",
    "Answer = np.zeros([C,M])\n",
    "#Reaction_Time[:,:] = np.nan\n",
    "#Answer[:,:] = np.nan\n",
    "\n",
    "# Setting Initial Conditions\n",
    "SL[0,0] = initial_condition_L\n",
    "SR[0,0] = initial_condition_R\n",
    "\n",
    "\n",
    "\n",
    "for k in range(0,C):\n",
    "    # Left and Right input, based on coherence value\n",
    "    IL = JA*μ*(1-(coherence[k]))\n",
    "    IR = JA*μ*(1+(coherence[k]))\n",
    "    for j in range (0,M):\n",
    "        count=0 # initialize the count to zero for the if statement\n",
    "        \n",
    "        noise_L = 0.0001*np.random.normal(0,1,N) # create the random noise for L\n",
    "        noise_R = 0.0001*np.random.normal(0,1,N) # create the random noise for R\n",
    "\n",
    "        # Set the initial conditions for each iteration\n",
    "        SL[0,j] = 0.2+0.02*np.random.normal(0,1,1)\n",
    "        SR[0,j] = 0.2+0.02*np.random.normal(0,1,1)\n",
    "        for i in range (0,N):\n",
    "            if i<2000:\n",
    "                SL[i+1,j] = SL[0,j]\n",
    "                SR[i+1,j] = SR[0,j]\n",
    "                \n",
    "            if i>4000:\n",
    "                IL = JA*μ*(1-(coherence[k]))\n",
    "                IR = JA*μ*(1+(coherence[k]))\n",
    "            else:\n",
    "                IL=0\n",
    "                IR=0\n",
    "\n",
    "\n",
    "            SL[i+1,j]=SL[i,j]+h*((-SL[i,j]/τ) + (1-SL[i,j])*γ*H(x(SL[i,j], SR[i,j], noise_L[i], noise_R[i], \"L\")))\n",
    "            SR[i+1,j]=SR[i,j]+h*((-SR[i,j]/τ) + (1-SR[i,j])*γ*H(x(SL[i,j], SR[i,j], noise_L[i], noise_R[i], \"R\")))\n",
    "            FR[i,j]=H(x(SL[i,j], SR[i,j], noise_L[i], noise_R[i], \"R\"))\n",
    "            FL[i,j]=H(x(SL[i,j], SR[i,j], noise_L[i], noise_R[i], \"L\"))\n",
    "            if count==0:\n",
    "                if FR[i,j]>15: # Run when the firing rate for Right is greater than the decision threshold\n",
    "                    Reaction_Time[k,j] = i*0.1\n",
    "                    count = 1 \n",
    "                    Answer[k,j] = 1\n",
    "                elif FL[i,j]>15:\n",
    "                    Reaction_Time[k,j] = i*0.1\n",
    "                    count = 1\n",
    "                    Answer[k,j] = 0 \n",
    "\n",
    "print(Reaction_Time)\n",
    "print(Answer)"
   ]
  },
  {
   "cell_type": "code",
   "execution_count": 14,
   "metadata": {},
   "outputs": [
    {
     "name": "stdout",
     "output_type": "stream",
     "text": [
      "[[783.83]]\n",
      "[[100.]]\n"
     ]
    }
   ],
   "source": [
    "Accuracy = np.zeros([C,1])\n",
    "Mean_Reaction_Time = np.zeros([C,1])\n",
    "Mean_Reaction_Time_WRONG = np.zeros([C,1])\n",
    "\n",
    "Accuracy[:,:] = np.nan\n",
    "Mean_Reaction_Time[:,:] = np.nan\n",
    "Mean_Reaction_Time_WRONG[:,:] = np.nan\n",
    "\n",
    "\n",
    "for k in range (0,C):\n",
    "    Accuracy[k] = (np.count_nonzero(Answer[k,:] == 1)/len(Answer[k,:]))*100\n",
    "\n",
    "for k in range (0,C):\n",
    "    Mean_Reaction_Time[k] = np.mean(Reaction_Time[k,Answer[k,:]==1])\n",
    "    Mean_Reaction_Time_WRONG[k] = np.mean(Reaction_Time[k,Answer[k,:]==0])\n",
    "    \n",
    "print(Mean_Reaction_Time)\n",
    "print(Accuracy)"
   ]
  },
  {
   "cell_type": "code",
   "execution_count": 15,
   "metadata": {},
   "outputs": [
    {
     "data": {
      "text/plain": [
       "[<matplotlib.lines.Line2D at 0x7f8a23ee9650>]"
      ]
     },
     "execution_count": 15,
     "metadata": {},
     "output_type": "execute_result"
    },
    {
     "data": {
      "image/png": "[encoded data removed]",
      "text/plain": [
       "<Figure size 432x288 with 1 Axes>"
      ]
     },
     "metadata": {
      "needs_background": "light"
     },
     "output_type": "display_data"
    }
   ],
   "source": [
    "plt.plot(FR[:,0])\n",
    "plt.plot(FL[:,0])"
   ]
  },
  {
   "cell_type": "code",
   "execution_count": 16,
   "metadata": {},
   "outputs": [
    {
     "data": {
      "image/png": "[encoded data removed]",
      "text/plain": [
       "<Figure size 432x432 with 1 Axes>"
      ]
     },
     "metadata": {
      "needs_background": "light"
     },
     "output_type": "display_data"
    }
   ],
   "source": [
    "\n",
    "fig = plt.figure(figsize=(6,6))\n",
    "plt.plot(FL[:,0],FR[:,0],'-',color='black')\n",
    "\n",
    "\n",
    "plt.plot([0,20],[0,20],':')\n",
    "plt.grid()\n",
    "plt.xlabel('Firing Rate R')\n",
    "plt.ylabel('Firing Rate R')\n",
    "plt.title('Phase Plane')\n",
    "plt.axis('square')\n",
    "plt.show()"
   ]
  },
  {
   "cell_type": "code",
   "execution_count": null,
   "metadata": {},
   "outputs": [],
   "source": []
  }
 ],
 "metadata": {
  "colab": {
   "include_colab_link": true,
   "name": "WongWang2006 Reduced Two Variable Model without AMPA - A Network Mechanism.ipynb",
   "provenance": []
  },
  "kernelspec": {
   "display_name": "Python 3",
   "language": "python",
   "name": "python3"
  },
  "language_info": {
   "codemirror_mode": {
    "name": "ipython",
    "version": 3
   },
   "file_extension": ".py",
   "mimetype": "text/x-python",
   "name": "python",
   "nbconvert_exporter": "python",
   "pygments_lexer": "ipython3",
   "version": "3.7.9"
  }
 },
 "nbformat": 4,
 "nbformat_minor": 1
}
