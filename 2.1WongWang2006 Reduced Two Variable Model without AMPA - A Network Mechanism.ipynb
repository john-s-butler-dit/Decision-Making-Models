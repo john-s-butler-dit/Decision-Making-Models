{
 "cells": [
  {
   "cell_type": "markdown",
   "metadata": {
    "colab_type": "text",
    "id": "view-in-github"
   },
   "source": [
    "<a href=\"https://colab.research.google.com/github/john-s-butler-dit/Decision-Making-Models/blob/master/2.1WongWang2006%20Reduced%20Two%20Variable%20Model%20without%20AMPA%20-%20A%20Network%20Mechanism.ipynb\" target=\"_parent\"><img src=\"https://colab.research.google.com/assets/colab-badge.svg\" alt=\"Open In Colab\"/></a>"
   ]
  },
  {
   "cell_type": "markdown",
   "metadata": {
    "id": "Bt6e-R4_cZ0q"
   },
   "source": [
    "# A Recurrent Network Mechanism of Time Integration in Perceptual Decisions\n",
    "Wong,  Wang\n",
    "Journal of Neuroscience, January 2006, 26(4):1212-1328\n",
    "\n",
    "TESTING"
   ]
  },
  {
   "cell_type": "markdown",
   "metadata": {
    "id": "joz0McipZJPX"
   },
   "source": [
    "Previous studies have implicated a correlation between ramping spike activity in LIP cortial neurons and behavioural responses of decision making (accuracy and reaction times). Here, a simplified two-variable model of a biophysically realistic cortical network is presented as a neuronal basis of temporal decision making."
   ]
  },
  {
   "cell_type": "markdown",
   "metadata": {
    "id": "i8CKMuqvcZ0w"
   },
   "source": [
    "# Appendix Model\n",
    "## Reduced two-variable model without AMPA at recurrent synapses\n",
    "The reduced two-variable model, shown in the image below, consists of two neural units recieving alternitave choice inputs, with self-excitation and reciprocal inhibition.\n",
    "\n",
    "The model is in its simplest form if we assume that NMDA receptors primaraly give rise to excitatory reverberation ($W_+$ in image below), thus excluding AMPA and GABA_A receptors at the recurrent synapses.   \n",
    "\n",
    "AMPA receptors are included in equations for the unidirectional synaptic inputs. "
   ]
  },
  {
   "cell_type": "markdown",
   "metadata": {
    "id": "rAqVFQ3daxOx"
   },
   "source": [
    "Arrows - Excitatory connections; circles - inhibitory connections  \n",
    "$1$ (blue) and $2$ (red) - two distinct neural populations  \n",
    "$I_1$ and $I_2$ - input from visual motion stimulus to respective population  \n",
    "$W_+$ - recurrent excitatory connections\n"
   ]
  },
  {
   "cell_type": "markdown",
   "metadata": {
    "id": "eJv8wr9DcZ0x"
   },
   "source": [
    "### Calling Library Fuctions"
   ]
  },
  {
   "cell_type": "code",
   "execution_count": 1,
   "metadata": {
    "id": "c5Uj3unfcZ0x"
   },
   "outputs": [],
   "source": [
    "# LIBRARY\n",
    "\n",
    "import numpy as np # vector manipulation\n",
    "import math  # math functions\n",
    "import sys\n",
    "\n",
    "# THIS IS FOR PLOTTING\n",
    "%matplotlib inline\n",
    "import matplotlib.pyplot as plt # side-stepping mpl backend\n",
    "import warnings\n",
    "warnings.filterwarnings(\"ignore\")\n"
   ]
  },
  {
   "cell_type": "markdown",
   "metadata": {
    "id": "KcbqWhfkcZ0y"
   },
   "source": [
    "### The Reduced Network Model\n",
    "#### Firing rate / Input-output function\n",
    "$$ H_i=\\frac{a x_i-b}{1-exp[-d(ax_i-b)]}$$\n",
    "\n",
    "#### Parameter values\n",
    "$$ a=270 (VnC)^{-1}; \\:\\:  b=108Hz; \\:\\:d=0.154s$$\n"
   ]
  },
  {
   "cell_type": "markdown",
   "metadata": {
    "id": "EuQ76wqFWouP"
   },
   "source": [
    "\n",
    "In Wang (2006), $r_i$, the firing rate, is a self-consisting nonlinear function. Rather than approximating the values itterivly in a costly computational mannor, $H_i$ is introduced as a simplification of the firing rate equation. This input-output function can be solved for any $x_i$ as defined in the neural circuit equation. Parameter values for $a$, $b$ and $d$ are chosen to fit the numerical solutions."
   ]
  },
  {
   "cell_type": "code",
   "execution_count": 2,
   "metadata": {
    "colab": {
     "base_uri": "https://localhost:8080/",
     "height": 497
    },
    "id": "mrbgEtTTcZ0y",
    "outputId": "38ebc3e7-ae7e-41c0-d0ca-1b1dc4d267c9"
   },
   "outputs": [
    {
     "data": {
      "image/png": "[encoded data removed]",
      "text/plain": [
       "<Figure size 576x576 with 1 Axes>"
      ]
     },
     "metadata": {
      "needs_background": "light"
     },
     "output_type": "display_data"
    }
   ],
   "source": [
    "def H(x):\n",
    "    a=270\n",
    "    b=108\n",
    "    d=0.154\n",
    "    f=(a*x-b)/(1-np.exp(-d*(a*x-b)))\n",
    "    return f\n",
    "\n",
    "x=np.arange(-1,1,0.0001)\n",
    "fig = plt.figure(figsize=(8,8))\n",
    "plt.plot(x,H(x))\n",
    "plt.grid()\n",
    "plt.xlabel('x')\n",
    "plt.ylabel('H(x)')\n",
    "#plt.legend(bbox_to_anchor=(1.05, 1), loc=2, borderaxespad=0.)\n",
    "plt.show()\n"
   ]
  },
  {
   "cell_type": "markdown",
   "metadata": {
    "id": "lfPETgXKXNJ_"
   },
   "source": [
    "Plot showing evolution of firing rate variable $H(x)_i$ as a function of values of $x_i$ from $-1$ to $1$. Firing rate is a ramping function."
   ]
  },
  {
   "cell_type": "markdown",
   "metadata": {
    "id": "jTO5KLd4cZ0z"
   },
   "source": [
    "### Neural Circuit\n",
    "$$ x_{1}=J_{11}S_1-J_{12}S_2+I_{0}+I_{1}+I_{noise,1}$$\n",
    "$$ x_{2}=J_{22}S_2-J_{21}S_1+I_{0}+I_{2}+I_{noise,1}$$\n",
    "\n",
    "where the synaptic couplings are $J_{11}=0.2609$, $J_{22}=0.2609$, $J_{12}=0.0497$ and $J_{21}=0.0497$.\n",
    "$I_{0}=0.3255 nA$ represents external input \n"
   ]
  },
  {
   "cell_type": "code",
   "execution_count": 3,
   "metadata": {
    "id": "XWuDmjo1cZ0z"
   },
   "outputs": [],
   "source": [
    "def total_synaptic_current(S_1,S_2,I_1,I_2,I_noise_1,I_noise_2):\n",
    "    # Synaptic coupling\n",
    "    J_11=0.2609 # nA\n",
    "    J_22=0.2609 # nA\n",
    "    J_12=0.0497 # nA\n",
    "    J_21=0.0497 # nA\n",
    "    I_0=0.3255  # nA\n",
    "    x_1=J_11*S_1-J_12*S_2+I_0+I_1+I_noise_1\n",
    "    x_2=J_22*S_2-J_21*S_1+I_0+I_2+I_noise_2\n",
    "    return x_1, x_2\n"
   ]
  },
  {
   "cell_type": "markdown",
   "metadata": {
    "id": "LHeRU2tScZ00"
   },
   "source": [
    "### Background activity\n",
    "#### Neural noise function\n",
    "$$ \\tau_{AMPA}\\frac{d I_{noise,i}(t)}{dt} =-I_{noise,i}(t)+\\eta_i(t)\\sqrt{\\tau_{AMPA}}\\sigma_{noise}$$\n",
    "#### Parameters\n",
    "$$ \\tau_{AMPA}=2ms; \\:\\: \\sigma_{noise}=0.02nA; \\:\\:\\eta- Gaussian \\ white \\ noise  $$"
   ]
  },
  {
   "cell_type": "markdown",
   "metadata": {
    "id": "QG9BZef_Xgn5"
   },
   "source": [
    "Simplyfing the model removes the noise term describing input from neurons outside the chosen motion sensitive populations. Here, a background activity function, $I_{noise,i}$, is introduced conisting of Gaussian white noise with zero mean and unit variance filtered by a short (AMPA synaptic) time constant."
   ]
  },
  {
   "cell_type": "code",
   "execution_count": 4,
   "metadata": {
    "id": "qQdBjxrtcZ00"
   },
   "outputs": [],
   "source": [
    "def Background_Activity(I_noise,h):\n",
    "    sigma_noise=0.02 # nA\n",
    "    tau_AMPA=2#ms\n",
    "    eta_noise=np.random.normal(0,1,1)\n",
    "    I_0=0.0#3255  # nA\n",
    "    I_noise_new=I_noise+(h)/tau_AMPA*(-(I_noise-I_0)+eta_noise*np.sqrt(tau_AMPA)*sigma_noise)\n",
    "    return I_noise_new"
   ]
  },
  {
   "cell_type": "markdown",
   "metadata": {
    "id": "DmOpTSnscZ00"
   },
   "source": [
    "### Network Dynamics\n",
    "$$ \\frac{d S_{i}}{dt} =\\frac{-S_{i}}{\\tau_S}+\\big((1-S_i)\\gamma H(x_i)\\big)$$\n",
    "$$\\tau_S=100ms$$\n",
    "$$\\tau_S=0.1s$$\n",
    "$$\\gamma=0.641$$\n",
    "\n",
    "Euler \n",
    "w_{i+1}"
   ]
  },
  {
   "cell_type": "markdown",
   "metadata": {
    "id": "jVIHozdccETq"
   },
   "source": [
    "The equation above describes the time evolution of the reduced two-varable system of excititory populations, $i={1,2}$. \n",
    "\n",
    "\n",
    "The system is dependant on the synaptic gating variable and time constant for NMDA receptors, $S_{NMDA}$ and $\\tau_{NMDA}$, denoted $S$ and $\\tau_S$ here for short, as well as the input-outpuut function, $H(x_i)$ described earlier."
   ]
  },
  {
   "cell_type": "code",
   "execution_count": 5,
   "metadata": {
    "id": "9wL-JuOTcZ00"
   },
   "outputs": [],
   "source": [
    "def S_diff(S,x,h):\n",
    "    tau_S=100/1000#100 #ms\n",
    "    𝛾=0.641\n",
    "    S_new=S+h/1000*((-S/tau_S)+(1-S)*𝛾*H(x))\n",
    "    return S_new"
   ]
  },
  {
   "cell_type": "markdown",
   "metadata": {
    "id": "os0iz7N7cZ01"
   },
   "source": [
    "### Input Current Target\n",
    "\n",
    "$$ I_i=J_{A,ext}\\mu_0\\left(1\\pm \\frac{c'}{100} \\right) $$\n",
    "\n",
    "$$\\mu=30$$ Hz- spikes per second\n",
    "$$ f=1$$  Only in Wong et al 2007\n",
    "$$ J_{A,ext}=5.2 \\times 10^{-4}$$\n",
    "$$ c' $$ Coherence"
   ]
  },
  {
   "cell_type": "markdown",
   "metadata": {
    "id": "dEc9m-ZbdXtr"
   },
   "source": [
    "\n",
    "$I_i$ represents encoded motion stimulus information from the MT area. This input is dependant on the strength and direction of the cohearence, $c'$, aboslute stimulius strength $\\mu_0$ and the average synaptic coupling with AMPA receptors, $J_{A,ext}$."
   ]
  },
  {
   "cell_type": "code",
   "execution_count": 6,
   "metadata": {
    "colab": {
     "base_uri": "https://localhost:8080/",
     "height": 544
    },
    "id": "_PSpnPVdcZ01",
    "outputId": "20529620-dfb0-429e-a97f-943f66025269"
   },
   "outputs": [
    {
     "data": {
      "image/png": "[encoded data removed]",
      "text/plain": [
       "<Figure size 576x288 with 1 Axes>"
      ]
     },
     "metadata": {
      "needs_background": "light"
     },
     "output_type": "display_data"
    },
    {
     "data": {
      "image/png": "[encoded data removed]",
      "text/plain": [
       "<Figure size 576x288 with 1 Axes>"
      ]
     },
     "metadata": {
      "needs_background": "light"
     },
     "output_type": "display_data"
    }
   ],
   "source": [
    "def I_input_1(c_dash):\n",
    "    J_A_ext=5.2/10000# nA/Hz\n",
    "    mu_0=30 # Hz\n",
    "    f=1.0\n",
    "    p=0\n",
    "    I_motion=J_A_ext*mu_0*(1+f*(c_dash+p)/100)\n",
    "    return I_motion\n",
    "\n",
    "All_coh=np.arange(-100,100,1)\n",
    "fig = plt.figure(figsize=(8,4))\n",
    "plt.plot(All_coh,I_input_1(All_coh)+0.3255)\n",
    "plt.grid()\n",
    "plt.xlabel('Coherence')\n",
    "plt.ylabel('I(Coherence)')\n",
    "#plt.legend(bbox_to_anchor=(1.05, 1), loc=2, borderaxespad=0.)\n",
    "plt.show()\n",
    "fig = plt.figure(figsize=(8,4))\n",
    "plt.plot(All_coh,H(I_input_1(All_coh)+0.3255),'ob',label='Firing Rate Right')\n",
    "plt.plot(All_coh,H(I_input_1(-All_coh)+0.3255),'or',label='Firing Rate Left')\n",
    "plt.hlines(15,-100,100,linestyles='dashed',label='Threshold')\n",
    "\n",
    "\n",
    "plt.grid()\n",
    "plt.xlabel('Coherence')\n",
    "plt.ylabel('H(I(Coherence))')\n",
    "plt.legend(bbox_to_anchor=(1.05, 1), loc=2, borderaxespad=0.)\n",
    "plt.show()\n",
    "\n"
   ]
  },
  {
   "cell_type": "markdown",
   "metadata": {
    "id": "hmCa41ZKcZ01"
   },
   "source": [
    "# Initial Conditions\n",
    "Parameter values set as per appexdix directions, based on fitting data from Roitman and Shadlen (2002).\n",
    "\n",
    "\n",
    "\n"
   ]
  },
  {
   "cell_type": "code",
   "execution_count": 7,
   "metadata": {
    "id": "jBoTk0uZcZ01"
   },
   "outputs": [],
   "source": [
    "h=0.1\n",
    "time=np.arange(-200,2000,h) \n",
    "J_A_ext=5.2/10000 # nA/Hz\n",
    "mu_0=30.0\n",
    "I_noise_1=0.004*np.random.normal(0,1,len(time))   # initalise noisy input as normal distribution\n",
    "I_noise_2=0.004*np.random.normal(0,1,len(time))   # why multiply by 0.004? Or how to know to do this  ?\n",
    "\n",
    "x_1=np.ones(len(time)) #list of 40,000 values of 0.156\n",
    "x_2=np.ones(len(time))\n",
    "x_1[0]=J_A_ext*mu_0 #list of 40,000 values of 0.156\n",
    "x_2[0]=J_A_ext*mu_0\n",
    "\n",
    "\n",
    "\n",
    "S=0.3\n",
    "S_1=S+np.random.uniform(0,0.001,len(time))  # initialise gating variables for uniform dist \n",
    "S_2=S+np.random.uniform(0,0.001,len(time))  # why does this have a different effect than S*np.ones(len(time)) ?\n",
    "\n",
    "I_1=np.zeros((len(time))) #initialise as 0 \n",
    "I_2=np.zeros((len(time)))\n"
   ]
  },
  {
   "cell_type": "code",
   "execution_count": 8,
   "metadata": {
    "id": "7n-tkx1ycZ02"
   },
   "outputs": [],
   "source": [
    "COHERENCE_LEVEL=15\n",
    "Response=False\n",
    "Threshold=15\n",
    "for i in range (0,len(time)-1):\n",
    "    ## INPUT\n",
    "    if time[i] >=0 and time[i]<1000:\n",
    "        c_dash=COHERENCE_LEVEL   # coherence is 5 when stimulus starts at time = 0\n",
    "    else:\n",
    "        c_dash=0.0\n",
    "    \n",
    "    \n",
    "    I_noise_1[i+1]=Background_Activity(I_noise_1[i],h)\n",
    "    I_noise_2[i+1]=Background_Activity(I_noise_2[i],h)\n",
    "    \n",
    "    I_1[i+1]=I_input_1(c_dash) # inputs I1 and I2 solved at each time point for coherence \n",
    "    I_2[i+1]=I_input_1(-c_dash)\n",
    "   \n",
    "    x_1[i+1],x_2[i+1]=total_synaptic_current(S_1[i],S_2[i],I_1[i],\n",
    "                                      I_2[i],I_noise_1[i],I_noise_2[i])\n",
    "    S_1[i+1]=S_diff(S_1[i],x_1[i],h)\n",
    "    S_2[i+1]=S_diff(S_2[i],x_2[i],h)\n",
    "\n",
    "    # GETS REACTION TIME\n",
    "    if Response==False:\n",
    "        if H(S_1[i]) >=Threshold: \n",
    "            ANSWER=1\n",
    "            RT=time[i]\n",
    "            Response=True\n",
    "        elif H(S_2[i]) >=Threshold:\n",
    "            ANSWER=0\n",
    "            RT=time[i]\n",
    "            Response=True\n"
   ]
  },
  {
   "cell_type": "markdown",
   "metadata": {
    "id": "8oJkYBngcZ02"
   },
   "source": [
    "### Plotting\n"
   ]
  },
  {
   "cell_type": "code",
   "execution_count": 9,
   "metadata": {
    "colab": {
     "base_uri": "https://localhost:8080/",
     "height": 297
    },
    "id": "h2k7FoOacZ02",
    "outputId": "a3478b41-3252-4bd7-a35d-621cf56dad97"
   },
   "outputs": [
    {
     "data": {
      "image/png": "[encoded data removed]",
      "text/plain": [
       "<Figure size 1008x288 with 3 Axes>"
      ]
     },
     "metadata": {
      "needs_background": "light"
     },
     "output_type": "display_data"
    }
   ],
   "source": [
    "fig = plt.figure(figsize=(14,4))\n",
    "plt.subplot(131)\n",
    "plt.plot(time,S_1,'-',color='blue',label='Right Activity')\n",
    "plt.plot(time,S_2,'-',color='red',label='Left Activity')\n",
    "\n",
    "#plt.plot([0,1],[0,1],':k')\n",
    "plt.grid()\n",
    "plt.xlabel('time(ms)')\n",
    "plt.ylabel('Activity')\n",
    "#plt.xlim((-100,1500))\n",
    "\n",
    "\n",
    "plt.subplot(132)\n",
    "\n",
    "plt.plot(time,H(S_1),'-',color='blue',label=\"Right\")\n",
    "plt.plot(time,H(S_2),'-',color='red',label=\"Left\")\n",
    "plt.hlines(15,-100,1500,linestyles='dashed',label='Threshold')\n",
    "plt.hlines(5,0,1000,color='black',label='Stimulus')\n",
    "plt.vlines(RT,0,30,color='black',linestyles='dashed',label='Reaction Time')\n",
    "\n",
    "\n",
    "plt.grid()\n",
    "#plt.xlim((-100,1500))\n",
    "plt.xlabel('time(ms)')\n",
    "plt.ylabel('Firing Rate')\n",
    "plt.legend()\n",
    "\n",
    "\n",
    "#plt.legend(bbox_to_anchor=(1.05, 1), loc=2, borderaxespad=0.)\n",
    "\n",
    "\n",
    "plt.subplot(133)\n",
    "\n",
    "plt.plot(time,H(S_1)-H(S_2),'-',color='blue',label=\"Right-Left\")\n",
    "plt.hlines(15,-100,1500,linestyles='dashed',label='Threshold')\n",
    "plt.hlines(5,0,800)\n",
    "plt.grid()\n",
    "#plt.xlim((-100,1500))\n",
    "plt.xlabel('time(ms)')\n",
    "plt.ylabel('Firing Rate')\n",
    "\n",
    "\n",
    "plt.tight_layout()\n",
    "plt.show()\n"
   ]
  },
  {
   "cell_type": "code",
   "execution_count": 10,
   "metadata": {
    "colab": {
     "base_uri": "https://localhost:8080/",
     "height": 404
    },
    "id": "B5_BbtfqcZ02",
    "outputId": "4cf9b0cf-015f-40c6-fab1-9c3e9b81df5b"
   },
   "outputs": [
    {
     "data": {
      "image/png": "[encoded data removed]",
      "text/plain": [
       "<Figure size 432x432 with 1 Axes>"
      ]
     },
     "metadata": {
      "needs_background": "light"
     },
     "output_type": "display_data"
    }
   ],
   "source": [
    "Firing_target_1=H(S_1)\n",
    "Firing_target_2=H(S_2)\n",
    "\n",
    "fig = plt.figure(figsize=(6,6))\n",
    "plt.plot(Firing_target_1,Firing_target_2,'-',color='black')\n",
    "\n",
    "\n",
    "plt.plot([0,30],[0,30],':')\n",
    "plt.grid()\n",
    "plt.xlabel('Firing Rate 1')\n",
    "plt.ylabel('Firing Rate 2')\n",
    "plt.title('Phase Plane')\n",
    "plt.axis('square')\n",
    "plt.show()\n",
    "\n"
   ]
  },
  {
   "cell_type": "code",
   "execution_count": null,
   "metadata": {
    "id": "NHuyeEpLhsg4"
   },
   "outputs": [],
   "source": []
  },
  {
   "cell_type": "markdown",
   "metadata": {
    "id": "3JThKnaQcZ03"
   },
   "source": [
    "## References\n",
    "Wong KF, Wang XJ. A recurrent network mechanism of time integration in perceptual decisions. J Neurosci. 2006 Jan 25;26(4):1314-28. doi: 10.1523/JNEUROSCI.3733-05.2006. PMID: 16436619; PMCID: PMC6674568."
   ]
  },
  {
   "cell_type": "code",
   "execution_count": null,
   "metadata": {
    "id": "FFPVc1lJcZ03"
   },
   "outputs": [],
   "source": []
  }
 ],
 "metadata": {
  "colab": {
   "include_colab_link": true,
   "name": "WongWang2006 Reduced Two Variable Model without AMPA - A Network Mechanism.ipynb",
   "provenance": []
  },
  "kernelspec": {
   "display_name": "Python 3",
   "language": "python",
   "name": "python3"
  },
  "language_info": {
   "codemirror_mode": {
    "name": "ipython",
    "version": 3
   },
   "file_extension": ".py",
   "mimetype": "text/x-python",
   "name": "python",
   "nbconvert_exporter": "python",
   "pygments_lexer": "ipython3",
   "version": "3.7.9"
  }
 },
 "nbformat": 4,
 "nbformat_minor": 1
}
