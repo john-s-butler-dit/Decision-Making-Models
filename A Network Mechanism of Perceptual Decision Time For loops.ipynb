{
 "cells": [
  {
   "cell_type": "markdown",
   "metadata": {},
   "source": [
    "# A Recurrent Network Mechanism of Time Integration in Perceptual Decisions\n",
    "Wong,  Wang\n",
    "Journal of Neuroscience, January 2006, 26(4):1212-1328"
   ]
  },
  {
   "cell_type": "markdown",
   "metadata": {},
   "source": [
    "## Material and Methods\n",
    "### The two-variable network model"
   ]
  },
  {
   "cell_type": "markdown",
   "metadata": {},
   "source": [
    "### Calling Library Fuctions"
   ]
  },
  {
   "cell_type": "code",
   "execution_count": 1,
   "metadata": {},
   "outputs": [],
   "source": [
    "# LIBRARY\n",
    "\n",
    "import numpy as np # vector manipulation\n",
    "import math  # math functions\n",
    "import sys\n",
    "\n",
    "# THIS IS FOR PLOTTING\n",
    "%matplotlib inline\n",
    "import matplotlib.pyplot as plt # side-stepping mpl backend\n",
    "import warnings\n",
    "warnings.filterwarnings(\"ignore\")\n"
   ]
  },
  {
   "cell_type": "markdown",
   "metadata": {},
   "source": [
    "### The Reduced Network Model"
   ]
  },
  {
   "cell_type": "code",
   "execution_count": 2,
   "metadata": {},
   "outputs": [
    {
     "data": {
      "image/png": "[encoded data removed]",
      "text/plain": [
       "<Figure size 576x576 with 1 Axes>"
      ]
     },
     "metadata": {
      "needs_background": "light"
     },
     "output_type": "display_data"
    }
   ],
   "source": [
    "def H(x):\n",
    "    a=270\n",
    "    b=108\n",
    "    d=0.154\n",
    "    f=(a*x-b)/(1-np.exp(-d*(a*x-b)))\n",
    "    return f\n",
    "\n",
    "x=np.arange(-1,1,0.0001)\n",
    "fig = plt.figure(figsize=(8,8))\n",
    "plt.plot(x,H(x))\n",
    "plt.grid()\n",
    "plt.xlabel('x')\n",
    "plt.ylabel('H(x)')\n",
    "#plt.legend(bbox_to_anchor=(1.05, 1), loc=2, borderaxespad=0.)\n",
    "plt.show()\n",
    "\n"
   ]
  },
  {
   "cell_type": "markdown",
   "metadata": {},
   "source": [
    "### Neural Circuit\n",
    "$$ x_{1}=J_{11}S_1-J_{12}S_2+I_{0}+I_{1}+I_{noise,1}$$\n",
    "$$ x_{2}=J_{22}S_2-J_{21}S_1+I_{0}+I_{2}+I_{noise,1}$$\n",
    "\n",
    "where the synaptic couplings are $J_{11}=0.2609$, $J_{22}=0.2609$, $J_{12}=0.0497$ and $J_{21}=0.0497$.\n",
    "$I_{0}=0.3255 nA$ represents external input \n"
   ]
  },
  {
   "cell_type": "code",
   "execution_count": 3,
   "metadata": {},
   "outputs": [],
   "source": [
    "def total_synaptic_current(S_1,S_2,I_1,I_2,I_noise_1,I_noise_2):\n",
    "    # Synaptic coupling\n",
    "    J_22=J_11=0.2609 # nA\n",
    "    J_21=J_12=0.0497 # nA\n",
    "    I_0=0.3255  # nA\n",
    "    x_1=J_11*S_1-J_12*S_2+I_0+I_1+I_noise_1\n",
    "    x_2=J_22*S_2-J_21*S_1+I_0+I_2+I_noise_2\n",
    "    return x_1, x_2\n"
   ]
  },
  {
   "cell_type": "markdown",
   "metadata": {},
   "source": [
    "### Background activity\n",
    "$$ \\tau_{AMPA}\\frac{d I_{noise,i}(t)}{dt} =-I_{noise,i}(t)+\\eta_i(t)\\sqrt{\\tau_{AMPA}}\\sigma_{noise}$$"
   ]
  },
  {
   "cell_type": "code",
   "execution_count": 4,
   "metadata": {},
   "outputs": [],
   "source": [
    "def Background_Activity(I_noise,h):\n",
    "    sigma_noise=0.02 # nA\n",
    "    tau_AMPA=2/1000#ms\n",
    "    eta_noise=np.random.normal(0,1,1)\n",
    "    I_0=0.0#3255  # nA\n",
    "    I_noise_new=I_noise+(h/1000)/tau_AMPA*(-(I_noise-I_0)+eta_noise*np.sqrt(tau_AMPA)*sigma_noise)\n",
    "    return I_noise_new"
   ]
  },
  {
   "cell_type": "markdown",
   "metadata": {},
   "source": [
    "### Network Dynamics\n",
    "$$ \\frac{d S_{i}}{dt} =-\\frac{S_{i}}{\\tau_S}+(1-S_{i})\\gamma H_{i}$$"
   ]
  },
  {
   "cell_type": "code",
   "execution_count": 5,
   "metadata": {},
   "outputs": [],
   "source": [
    "def Network_Dynamics_old(S,x,h):\n",
    "    h1=0.1/1000 #ms\n",
    "    gamma=0.641\n",
    "    tau_S=100/1000 #s\n",
    "    k=(-S/tau_S+(1-S)*gamma*H(x))\n",
    "    S_new=S+h1*(-(S+h/2*k)/tau_S+(1-S+h1/2*k)*gamma*H(x))\n",
    "    return S_new\n",
    "def Network_Dynamics(S,x,h):\n",
    "    tau_S=100/1000#100 #ms\n",
    "    𝛾=0.641\n",
    "    S_new=S+h/1000*((-S/tau_S)+(1-S)*𝛾*H(x))\n",
    "    return S_new"
   ]
  },
  {
   "cell_type": "markdown",
   "metadata": {},
   "source": [
    "### Input Current Target\n",
    "\n",
    "$$ I_i=J_{A,ext}\\mu_0\\left(1+ \\frac{c'}{100} \\right) $$\n"
   ]
  },
  {
   "cell_type": "code",
   "execution_count": 6,
   "metadata": {},
   "outputs": [],
   "source": [
    "def I_input_1(c_dash):\n",
    "    J_A_ext=5.2/10000# nA/Hz\n",
    "    mu_0=30 # Hz\n",
    "    f=1\n",
    "    I_motion=J_A_ext*mu_0*(1+f*(c_dash)/100)\n",
    "    return I_motion"
   ]
  },
  {
   "cell_type": "markdown",
   "metadata": {},
   "source": [
    "$$ I_2=J_{A,ext}\\mu_0\\left(1- \\frac{c'}{100} \\right) $$"
   ]
  },
  {
   "cell_type": "code",
   "execution_count": 7,
   "metadata": {},
   "outputs": [],
   "source": [
    "def I_input_2(c_dash):\n",
    "    J_A_ext=5.2*10**-4# nA/Hz\n",
    "    mu_0=30 # Hz\n",
    "    f=1.0\n",
    "    p=0\n",
    "    I_motion=J_A_ext*mu_0*(1-f*(c_dash+p)/100)\n",
    "    return I_motion"
   ]
  },
  {
   "cell_type": "code",
   "execution_count": 8,
   "metadata": {},
   "outputs": [],
   "source": [
    "h=0.1\n",
    "time=np.arange(-100,2000,h)\n",
    "J_A_ext=5.2/10000 # nA/Hz\n",
    "mu_0=30 # Hz\n",
    "Vector_coherence=[0.5,1,2,3, 5,10,20.0]#0.5,2.5,5,7.5,10,15]\n",
    "\n",
    "Threshold=15\n",
    "N=501\n",
    "RT_coh_hit=np.zeros(len(Vector_coherence))\n",
    "RT_coh_miss=np.zeros(len(Vector_coherence))\n",
    "Prob=np.zeros(len(Vector_coherence))\n",
    "count=0\n",
    "#fig = plt.figure(figsize=(12,8))\n",
    "\n",
    "ALL_F_1=0.2*np.ones((N,len(time)))\n",
    "ALL_F_2=0.2*np.ones((N,len(time)))\n",
    "I_1=0.0*np.ones(len(time)) # np.zeros((1,len(time)))\n",
    "I_2=0.0*np.ones(len(time)) # np.zeros((1,len(time)))\n",
    "Firing_target_1=0*time # np.zeros((1,len(time)))\n",
    "Firing_target_2=0*time # np.zeros((1,len(time)))"
   ]
  },
  {
   "cell_type": "code",
   "execution_count": 9,
   "metadata": {},
   "outputs": [
    {
     "name": "stdout",
     "output_type": "stream",
     "text": [
      "Coherence:  0.5\n",
      "Trial Number:  0\n",
      "Trial Number:  100\n",
      "Trial Number:  200\n",
      "Trial Number:  300\n",
      "Trial Number:  400\n",
      "Trial Number:  500\n",
      "Coherence:  1\n",
      "Trial Number:  0\n",
      "Trial Number:  100\n",
      "Trial Number:  200\n",
      "Trial Number:  300\n",
      "Trial Number:  400\n",
      "Trial Number:  500\n",
      "Coherence:  2\n",
      "Trial Number:  0\n",
      "Trial Number:  100\n",
      "Trial Number:  200\n",
      "Trial Number:  300\n",
      "Trial Number:  400\n",
      "Trial Number:  500\n",
      "Coherence:  3\n",
      "Trial Number:  0\n",
      "Trial Number:  100\n",
      "Trial Number:  200\n",
      "Trial Number:  300\n",
      "Trial Number:  400\n",
      "Trial Number:  500\n",
      "Coherence:  5\n",
      "Trial Number:  0\n",
      "Trial Number:  100\n",
      "Trial Number:  200\n",
      "Trial Number:  300\n",
      "Trial Number:  400\n",
      "Trial Number:  500\n",
      "Coherence:  10\n",
      "Trial Number:  0\n",
      "Trial Number:  100\n",
      "Trial Number:  200\n",
      "Trial Number:  300\n",
      "Trial Number:  400\n",
      "Trial Number:  500\n",
      "Coherence:  20.0\n",
      "Trial Number:  0\n",
      "Trial Number:  100\n",
      "Trial Number:  200\n",
      "Trial Number:  300\n",
      "Trial Number:  400\n",
      "Trial Number:  500\n"
     ]
    }
   ],
   "source": [
    "for j in range(0,len(Vector_coherence)): # COHERENCE\n",
    "    print(\"Coherence: \",Vector_coherence[j])\n",
    "    ANSWER=np.zeros(N)\n",
    "    RT=np.zeros(N)\n",
    "\n",
    "\n",
    "    for n in range(0,N): # TRIAL LOOP\n",
    "        if n%100==0:\n",
    "            print(\"Trial Number: \",n)\n",
    "        I_noise_1=np.random.uniform(0,0.01,len(time))#0.004*np.random.normal(0,1,len(time))   # initalise noisy input as normal distribution\n",
    "        I_noise_2=np.random.uniform(0,0.01,len(time))#0.004*np.random.normal(0,1,len(time))   # why multiply by 0.004? Or how to know to do this  ?\n",
    "\n",
    "\n",
    "        x_1=J_A_ext*mu_0*np.ones(len(time))\n",
    "        x_2=J_A_ext*mu_0*np.ones(len(time))\n",
    "\n",
    "        S_1=0.2+np.random.uniform(0,0.01,len(time))#0.1*np.random.uniform(0,1,len(time))# np.random.normal(0,1,len(time))*0.0004\n",
    "        S_2=0.2+np.random.uniform(0,0.01,len(time)) #0.1*np.random.uniform(0,1,len(time)) #np.random.normal(0,1,len(time))*0.0004\n",
    "\n",
    "        Firing_target_1[0]=H(S_1[0])\n",
    "        Firing_target_2[0]=H(S_2[0])\n",
    "\n",
    "\n",
    "        Decision=False\n",
    "        for i in range (0,len(time)-1):\n",
    "            if time[i] >=0 and time[i]<1000:\n",
    "                c_dash=Vector_coherence[j]\n",
    "            else:\n",
    "                c_dash=0.0\n",
    "\n",
    "        \n",
    "            I_noise_1[i+1]=Background_Activity(I_noise_1[i],h)\n",
    "            I_noise_2[i+1]=Background_Activity(I_noise_2[i],h)\n",
    "\n",
    "            I_1[i+1]=I_input_1(c_dash)\n",
    "            I_2[i+1]=I_input_1(-c_dash)\n",
    "\n",
    "            S_1[i+1]=Network_Dynamics(S_1[i],x_1[i],h)\n",
    "            S_2[i+1]=Network_Dynamics(S_2[i],x_2[i],h)\n",
    "            x_1[i+1],x_2[i+1]=total_synaptic_current(S_1[i],S_2[i],I_1[i],\n",
    "                                                     I_2[i],I_noise_1[i],I_noise_2[i])\n",
    "\n",
    "            Firing_target_1[i+1]=H(x_1[i+1])\n",
    "            Firing_target_2[i+1]=H(x_2[i+1])\n",
    "           # ALL_F_1[n,i]=Firing_target_1[i]\n",
    "\n",
    "            if (Decision==False):\n",
    "                if Firing_target_1[i] >=Threshold: \n",
    "                    ANSWER[n]=1\n",
    "                    RT[n]=time[i]\n",
    "                    Decision=True\n",
    "                elif Firing_target_2[i] >=Threshold:\n",
    "                    ANSWER[n]=0\n",
    "                    RT[n]=time[i]\n",
    "                    count=1\n",
    "                    Decision=True              \n",
    "\n",
    "    RT_coh_hit[j]=np.average(RT[ANSWER==1])\n",
    "    RT_coh_miss[j]=np.average(RT[ANSWER==0])\n",
    "    Prob[j]=np.average(ANSWER)\n",
    "    RT_coh_hit[j]=np.average(RT[ANSWER==1])\n",
    "    RT_coh_miss[j]=np.average(RT[ANSWER==0])\n",
    "    Prob[j]=np.average(ANSWER)\n",
    "\n",
    "#plt.savefig('Wang_individual_trials.png', bbox_inches='tight',dpi=300)\n",
    "#plt.show()\n",
    "    "
   ]
  },
  {
   "cell_type": "markdown",
   "metadata": {},
   "source": [
    "### Plotting\n",
    "#### Input"
   ]
  },
  {
   "cell_type": "code",
   "execution_count": 10,
   "metadata": {
    "scrolled": true
   },
   "outputs": [
    {
     "data": {
      "image/png": "[encoded data removed]",
      "text/plain": [
       "<Figure size 576x288 with 1 Axes>"
      ]
     },
     "metadata": {
      "needs_background": "light"
     },
     "output_type": "display_data"
    }
   ],
   "source": [
    "fig = plt.figure(figsize=(8,4))\n",
    "\n",
    "plt.plot(time,Firing_target_1,'-',color='blue',label=\"Right\")\n",
    "plt.plot(time,Firing_target_2,'-',color='red',label=\"Left\")\n",
    "plt.grid()\n",
    "plt.xlabel('time(ms)')\n",
    "plt.ylabel('Firing Rate (Hz)')\n",
    "#plt.xlim((-100,1000))\n",
    "#plt.ylim((0,Threshold))\n",
    "plt.legend(bbox_to_anchor=(1.05, 1), loc=2, borderaxespad=0.)\n",
    "plt.savefig('Example_Firing_Pattern.png', bbox_inches='tight',dpi=300)\n",
    "\n",
    "# plt.\n",
    "#plt.ylim((30,50))\n",
    "plt.show()\n"
   ]
  },
  {
   "cell_type": "code",
   "execution_count": 11,
   "metadata": {
    "scrolled": true
   },
   "outputs": [
    {
     "data": {
      "image/png": "[encoded data removed]",
      "text/plain": [
       "<Figure size 720x288 with 2 Axes>"
      ]
     },
     "metadata": {
      "needs_background": "light"
     },
     "output_type": "display_data"
    }
   ],
   "source": [
    "from scipy.optimize import curve_fit\n",
    "from scipy.stats import norm\n",
    "#Vector_coh=np.arange(np.min(Vector_coherence),np.max(Vector_coherence),0.1)/100\n",
    "Vector_coh=np.array(Vector_coherence)\n",
    "\n",
    "\n",
    "def func_temp(coh,alpha,beta):\n",
    "    return 1-0.5*np.exp(-(coh/alpha)**beta)\n",
    "\n",
    "#Vector_coh=[0.01,0.03,f0.05,0.075,0.1,.15]\n",
    "#popr, pcov=curve_fit(func_temp,Prob,Vector_coh)\n",
    "\n",
    "#mu,sigma=curve_fit(norm.cdf,Vector_coh,Prob,p0=[0,1])[0]\n",
    "\n",
    "\n",
    "fig = plt.figure(figsize=(10,4))\n",
    "plt.subplot(121)\n",
    "plt.plot(Vector_coh,Prob,'o:',label='Model data')\n",
    "#plt.plot(Vector_coh,norm.cdf(Vector_coh,mu,sigma),'k',label='Fit: a= %0.4f, b= %0.4f'% tuple(popr))\n",
    "\n",
    "\n",
    "plt.legend()\n",
    "\n",
    "\n",
    "\n",
    "plt.xlabel('Coherence')\n",
    "plt.ylabel('Probability')\n",
    "#plt.xscale('log')\n",
    "plt.ylim(0,1)\n",
    "plt.subplot(122)\n",
    "plt.plot((Vector_coherence),RT_coh_hit,'o:',color='blue',label=\"Correct\")\n",
    "plt.plot((Vector_coherence),RT_coh_miss,'o:',fillstyle='none',color='red',label=\"Incorrect\")\n",
    "#plt.xscale('log')\n",
    "plt.legend()\n",
    "#plt.ylim(0,900)\n",
    "plt.xlabel('Coherence')\n",
    "plt.ylabel('Reaction Time')\n",
    "plt.show()"
   ]
  },
  {
   "cell_type": "code",
   "execution_count": 12,
   "metadata": {},
   "outputs": [],
   "source": [
    "from scipy.optimize import curve_fit\n",
    "from scipy.stats import norm\n",
    "def func_temp(coh,alpha,beta):\n",
    "    return 1-0.5*np.exp(-(coh/alpha)**beta)\n",
    "\n",
    "#Vector_coh=[0.01,0.03,0.05,0.075,0.1,.15]\n",
    "popr, pcov=curve_fit(func_temp,Prob,Vector_coherence)"
   ]
  },
  {
   "cell_type": "code",
   "execution_count": 13,
   "metadata": {},
   "outputs": [
    {
     "data": {
      "image/png": "[encoded data removed]",
      "text/plain": [
       "<Figure size 720x288 with 1 Axes>"
      ]
     },
     "metadata": {
      "needs_background": "light"
     },
     "output_type": "display_data"
    }
   ],
   "source": [
    "fig = plt.figure(figsize=(10,4))\n",
    "plt.plot(Vector_coherence,Prob,'o:')\n",
    "Vector_coh=np.arange(0,0.15,0.001)\n",
    "plt.plot(Vector_coh*100,func_temp(Vector_coh,*popr),'k')\n",
    "plt.xlabel('Coherence')\n",
    "plt.ylabel('Probability')\n",
    "plt.xscale('log')\n",
    "#plt.ylim(0,1)"
   ]
  },
  {
   "cell_type": "code",
   "execution_count": 14,
   "metadata": {},
   "outputs": [
    {
     "data": {
      "text/plain": [
       "array([273.9, 279. , 315.5, 297.3, 263.5, 300.4, 302.2, 294.7, 299.7,\n",
       "       289.9, 294.7, 306.6, 285.9, 296. , 283.8, 283.3, 270.4, 265.8,\n",
       "       293.6, 280.6, 317.3, 294.4, 278.6, 269.1, 279.8, 305.2, 277.8,\n",
       "       302.4, 307. , 289.6, 279.6, 266.3, 288. , 312.5, 274.3, 317.5,\n",
       "       271.6, 290.3, 275.9, 287.2, 282.9, 312.1, 278.2, 293.9, 273.8,\n",
       "       303.3, 282.2, 305.4, 290. , 268.1, 272. , 285.4, 295.7, 285.7,\n",
       "       291.1, 274. , 279.8, 289.2, 284.1, 283.1, 287.5, 299.3, 281.4,\n",
       "       294.8, 294.2, 273.5, 289.8, 269.9, 313.3, 288.9, 294.6, 291.6,\n",
       "       277.2, 291.8, 271.3, 318.9, 307.9, 292.6, 304. , 304.8, 271.7,\n",
       "       317.2, 284.5, 310.3, 300.9, 267.7, 277. , 263.3, 313.5, 279.6,\n",
       "       276.6, 265. , 277.4, 279.6, 277.3, 266.6, 280. , 271.7, 271.1,\n",
       "       312.4, 307.2, 279.1, 289.7, 288. , 306.4, 302. , 290.8, 294. ,\n",
       "       278. , 292.1, 270.4, 270.9, 266.7, 315.9, 303.9, 271.6, 278.3,\n",
       "       272.8, 300.3, 305.5, 297.4, 293.2, 287.8, 307.8, 288.9, 313.4,\n",
       "       296.7, 294.4, 285.2, 288.1, 264.8, 276.1, 308.2, 271. , 290.4,\n",
       "       286. , 276.4, 273.7, 280.7, 293.8, 286.6, 277.6, 317.2, 274. ,\n",
       "       275.5, 285.5, 289.4, 295.3, 287.4, 298.1, 264.3, 267.4, 314. ,\n",
       "       307.4, 279.5, 280.2, 301.5, 309.7, 312.1, 297.4, 282.2, 301.6,\n",
       "       293.3, 282.9, 295.5, 281.5, 301.3, 276. , 285.3, 306.6, 281.7,\n",
       "       279.9, 276.5, 312.1, 281.4, 312.3, 298.9, 276. , 303. , 276.1,\n",
       "       295.9, 264.6, 293.9, 282.7, 322.4, 290.1, 275. , 270.3, 284.7,\n",
       "       297.7, 278.1, 296.2, 270.4, 281.5, 294.8, 300.2, 288.9, 278. ,\n",
       "       278.7, 295.1, 276.7, 285.5, 263.5, 305. , 284.4, 281.6, 303.9,\n",
       "       288.5, 307.8, 307.6, 293.7, 282.4, 282.8, 270.6, 300.2, 290.8,\n",
       "       304.5, 291.8, 291.6, 315.5, 286.4, 278.8, 293.6, 284.9, 307.7,\n",
       "       301.3, 284.5, 290.2, 277.4, 277.5, 286.1, 296.8, 290.4, 304.9,\n",
       "       289. , 301.4, 285.9, 289.5, 305.4, 280.6, 286.4, 294.2, 283.9,\n",
       "       312.9, 311.6, 278.5, 293.9, 313.5, 274. , 262.9, 284.3, 268.9,\n",
       "       274.1, 288.2, 263.7, 296. , 304.4, 304.4, 307.9, 295.2, 312.5,\n",
       "       297.6, 296.6, 286.5, 290.5, 293.6, 270.2, 286.9, 289.3, 289.2,\n",
       "       283.5, 291.4, 312.8, 285.4, 304.3, 274.6, 289.7, 296.3, 269.9,\n",
       "       298.9, 286.4, 285.4, 276.9, 269.7, 301.6, 293.1, 276.2, 263.4,\n",
       "       302.4, 289.4, 323.1, 309.6, 280.2, 296.4, 286.4, 278.2, 276.1,\n",
       "       296.9, 270.1, 310.9, 305.6, 273. , 302.1, 296.4, 311.5, 287.7,\n",
       "       303.8, 274.6, 299.2, 287.1, 275.3, 295.5, 292.5, 290.3, 290.7,\n",
       "       288.2, 274.8, 292. , 282.9, 283.3, 285.6, 273. , 292.4, 259.5,\n",
       "       310.1, 275.8, 306.1, 280.6, 268.7, 299.3, 292.6, 276.6, 289.6,\n",
       "       301.3, 302.8, 264.8, 303.8, 307.8, 291. , 282.5, 293.5, 319. ,\n",
       "       264.8, 300.6, 282.3, 318.8, 286.4, 266.4, 283.9, 282.9, 276.1,\n",
       "       296.1, 266.4, 267. , 320.5, 295.5, 294.6, 300.8, 300.6, 289.3,\n",
       "       272.7, 292.9, 288.2, 302.1, 274. , 300.6, 284.8, 312.3, 317.9,\n",
       "       270.5, 290.4, 289.8, 294.3, 282.8, 315.9, 284.6, 317. , 273. ,\n",
       "       288.6, 297.3, 299.1, 280. , 317.4, 302.9, 283. , 277.9, 308.2,\n",
       "       297.5, 282.4, 294.4, 287.1, 292.8, 297.3, 281.8, 297.2, 289.6,\n",
       "       289.3, 298.7, 288.9, 299.5, 277.5, 291.3, 282.3, 284.7, 300.2,\n",
       "       314.5, 282.6, 293.9, 276.5, 285.7, 276.5, 278.2, 281.4, 265.6,\n",
       "       275.2, 292.8, 318.9, 309.3, 285.1, 280.7, 263.2, 267.8, 293.5,\n",
       "       313.5, 293.3, 274.9, 282.8, 289.4, 268.3, 293.4, 291.2, 275.1,\n",
       "       293. , 283.8, 274. , 310.7, 293.1, 281.3, 289.6, 285.1, 317.3,\n",
       "       293.1, 299.8, 306.6, 283.6, 281. , 286.5, 280.7, 291.1, 273.4,\n",
       "       291.3, 291.7, 261.3, 290.8, 302.8, 292.9, 299.9, 307.2, 278.2,\n",
       "       279.4, 277. , 300.7, 291.6, 283.3, 261.4, 283.6, 318.3, 265.4,\n",
       "       285.2, 299.6, 263.2, 284.9, 298.1, 295. , 309.7, 288.8, 279.7,\n",
       "       275.2, 308.4, 279.9, 274.1, 307.9, 278.2, 279.8, 311.2, 306.1,\n",
       "       266.8, 283.9, 289. , 285.1, 275.3, 309.1, 276.9, 304.4, 281.1,\n",
       "       306.6, 285.6, 265.8, 295.4, 294.9, 299.2])"
      ]
     },
     "execution_count": 14,
     "metadata": {},
     "output_type": "execute_result"
    }
   ],
   "source": [
    "RT"
   ]
  },
  {
   "cell_type": "code",
   "execution_count": 15,
   "metadata": {},
   "outputs": [
    {
     "data": {
      "text/plain": [
       "array([1., 1., 1., 1., 1., 1., 1., 1., 1., 1., 1., 1., 1., 1., 1., 1., 1.,\n",
       "       1., 1., 1., 1., 1., 1., 1., 1., 1., 1., 1., 1., 1., 1., 1., 1., 1.,\n",
       "       1., 1., 1., 1., 1., 1., 1., 1., 1., 1., 1., 1., 1., 1., 1., 1., 1.,\n",
       "       1., 1., 1., 1., 1., 1., 1., 1., 1., 1., 1., 1., 1., 1., 1., 1., 1.,\n",
       "       1., 1., 1., 1., 1., 1., 1., 1., 1., 1., 1., 1., 1., 1., 1., 1., 1.,\n",
       "       1., 1., 1., 1., 1., 1., 1., 1., 1., 1., 1., 1., 1., 1., 1., 1., 1.,\n",
       "       1., 1., 1., 1., 1., 1., 1., 1., 1., 1., 1., 1., 1., 1., 1., 1., 1.,\n",
       "       1., 1., 1., 1., 1., 1., 1., 1., 1., 1., 1., 1., 1., 1., 1., 1., 1.,\n",
       "       1., 1., 1., 1., 1., 1., 1., 1., 1., 1., 1., 1., 1., 1., 1., 1., 1.,\n",
       "       1., 1., 1., 1., 1., 1., 1., 1., 1., 1., 1., 1., 1., 1., 1., 1., 1.,\n",
       "       1., 1., 1., 1., 1., 1., 1., 1., 1., 1., 1., 1., 1., 1., 1., 1., 1.,\n",
       "       1., 1., 1., 1., 1., 1., 1., 1., 1., 1., 1., 1., 1., 1., 1., 1., 1.,\n",
       "       1., 1., 1., 1., 1., 1., 1., 1., 1., 1., 1., 1., 1., 1., 1., 1., 1.,\n",
       "       1., 1., 1., 1., 1., 1., 1., 1., 1., 1., 1., 1., 1., 1., 1., 1., 1.,\n",
       "       1., 1., 1., 1., 1., 1., 1., 1., 1., 1., 1., 1., 1., 1., 1., 1., 1.,\n",
       "       1., 1., 1., 1., 1., 1., 1., 1., 1., 1., 1., 1., 1., 1., 1., 1., 1.,\n",
       "       1., 1., 1., 1., 1., 1., 1., 1., 1., 1., 1., 1., 1., 1., 1., 1., 1.,\n",
       "       1., 1., 1., 1., 1., 1., 1., 1., 1., 1., 1., 1., 1., 1., 1., 1., 1.,\n",
       "       1., 1., 1., 1., 1., 1., 1., 1., 1., 1., 1., 1., 1., 1., 1., 1., 1.,\n",
       "       1., 1., 1., 1., 1., 1., 1., 1., 1., 1., 1., 1., 1., 1., 1., 1., 1.,\n",
       "       1., 1., 1., 1., 1., 1., 1., 1., 1., 1., 1., 1., 1., 1., 1., 1., 1.,\n",
       "       1., 1., 1., 1., 1., 1., 1., 1., 1., 1., 1., 1., 1., 1., 1., 1., 1.,\n",
       "       1., 1., 1., 1., 1., 1., 1., 1., 1., 1., 1., 1., 1., 1., 1., 1., 1.,\n",
       "       1., 1., 1., 1., 1., 1., 1., 1., 1., 1., 1., 1., 1., 1., 1., 1., 1.,\n",
       "       1., 1., 1., 1., 1., 1., 1., 1., 1., 1., 1., 1., 1., 1., 1., 1., 1.,\n",
       "       1., 1., 1., 1., 1., 1., 1., 1., 1., 1., 1., 1., 1., 1., 1., 1., 1.,\n",
       "       1., 1., 1., 1., 1., 1., 1., 1., 1., 1., 1., 1., 1., 1., 1., 1., 1.,\n",
       "       1., 1., 1., 1., 1., 1., 1., 1., 1., 1., 1., 1., 1., 1., 1., 1., 1.,\n",
       "       1., 1., 1., 1., 1., 1., 1., 1., 1., 1., 1., 1., 1., 1., 1., 1., 1.,\n",
       "       1., 1., 1., 1., 1., 1., 1., 1.])"
      ]
     },
     "execution_count": 15,
     "metadata": {},
     "output_type": "execute_result"
    }
   ],
   "source": [
    "ANSWER"
   ]
  },
  {
   "cell_type": "code",
   "execution_count": null,
   "metadata": {},
   "outputs": [],
   "source": []
  }
 ],
 "metadata": {
  "kernelspec": {
   "display_name": "Python 3",
   "language": "python",
   "name": "python3"
  },
  "language_info": {
   "codemirror_mode": {
    "name": "ipython",
    "version": 3
   },
   "file_extension": ".py",
   "mimetype": "text/x-python",
   "name": "python",
   "nbconvert_exporter": "python",
   "pygments_lexer": "ipython3",
   "version": "3.7.9"
  }
 },
 "nbformat": 4,
 "nbformat_minor": 1
}
