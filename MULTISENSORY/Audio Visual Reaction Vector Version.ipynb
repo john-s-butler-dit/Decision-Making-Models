{
 "cells": [
  {
   "cell_type": "code",
   "execution_count": 1,
   "metadata": {},
   "outputs": [],
   "source": [
    "# LIBRARY\n",
    "\n",
    "import numpy as np # vector manipulation\n",
    "import sys\n",
    "from scipy.stats import ttest_ind\n",
    "import pandas as pd\n",
    "import seaborn as sns\n",
    "# THIS IS FOR PLOTTING\n",
    "%matplotlib inline\n",
    "import matplotlib.pyplot as plt # side-stepping mpl backend\n",
    "import warnings\n",
    "warnings.filterwarnings(\"ignore\")\n",
    "\n"
   ]
  },
  {
   "cell_type": "code",
   "execution_count": 2,
   "metadata": {},
   "outputs": [],
   "source": [
    "def H(x):\n",
    "    a=270 # Hz/nA\n",
    "    b=108 # Hz\n",
    "    d=.154 # seconds\n",
    "    f=(a*x-b)/(1-np.exp(-d*(a*x-b)))\n",
    "    return f"
   ]
  },
  {
   "cell_type": "code",
   "execution_count": 3,
   "metadata": {},
   "outputs": [],
   "source": [
    "def total_synaptic_current(S_1,S_2,S_3,S_4,I_1,I_2,I_noise_1,I_noise_2):\n",
    "    # Synaptic coupling\n",
    "    J_11=0.2609 # nA\n",
    "    J_22=0.2609 # nA\n",
    "    J_13=0*0.000497/np.sqrt(2) # nA\n",
    "    J_24=0*0.000497/np.sqrt(2) # nA\n",
    "  \n",
    "    J_12=0.0497 # nA\n",
    "    J_21=0.0497 # nA\n",
    "    I_0=0.3255  # nA\n",
    "    x_1=J_11*S_1-J_12*S_2+J_13*S_3+I_0+I_1+I_noise_1\n",
    "    x_2=J_22*S_2-J_21*S_1+J_24*S_4+I_0+I_2+I_noise_2\n",
    "    return x_1, x_2\n",
    "\n"
   ]
  },
  {
   "cell_type": "code",
   "execution_count": 4,
   "metadata": {},
   "outputs": [],
   "source": [
    "def Background_Activity(I_noise):\n",
    "    h=0.1\n",
    "    sigma_noise=0.02 # nA\n",
    "    tau_AMPA=2 #ms\n",
    "    eta_noise=np.random.normal(0,1,1)\n",
    "    k=0#(-(I_noise)+eta_noise*np.sqrt(tau_AMPA)*sigma_noise)\n",
    "    I_noise_new=I_noise+h/tau_AMPA*(-(I_noise+h/2*k)+eta_noise\n",
    "                                *np.sqrt(tau_AMPA)*sigma_noise)\n",
    "    return I_noise_new"
   ]
  },
  {
   "cell_type": "code",
   "execution_count": 5,
   "metadata": {},
   "outputs": [],
   "source": [
    "def Network_Dynamics_VIS(S,x):\n",
    "    h=0.1/1000 #ms\n",
    "    gamma=0.641\n",
    "    tau_S=.100 #s\n",
    "    k=(-S/tau_S+(1-S)*gamma*H(x)/1)\n",
    "    S_new=S+h*(-(S+h/2*k)/tau_S+(1-S+h/2*k)*gamma*H(x))\n",
    "    return S_new\n",
    "\n",
    "def Network_Dynamics_AUDIO(S,x):\n",
    "    h=0.1/1000 #ms\n",
    "    gamma=0.641\n",
    "    #tau_S=.10 #s\n",
    "    tau_S=.100 #s\n",
    "    k=(-S/tau_S+(1-S)*gamma*H(x)/1)\n",
    "    S_new=S+h*(-(S+h/2*k)/tau_S+(1-S+h/2*k)*gamma*H(x))\n",
    "    return S_new"
   ]
  },
  {
   "cell_type": "code",
   "execution_count": 6,
   "metadata": {},
   "outputs": [],
   "source": [
    "def I_input_1(c_dash):\n",
    "    J_A_ext=5.2/10000 # nA/Hz\n",
    "    mu_0=30 # Hz\n",
    "    I_motion=J_A_ext*mu_0*(1+(c_dash)/100)\n",
    "    return I_motion"
   ]
  },
  {
   "cell_type": "code",
   "execution_count": 7,
   "metadata": {},
   "outputs": [],
   "source": [
    "h=0.1\n",
    "time=np.arange(-100,1500,h)\n",
    "J_A_ext=0.00052 # nA/Hz\n",
    "mu_0=30 # Hz\n",
    "STIMULUS=[15.0]#,7.5,10.0,15.0]\n",
    "\n",
    "\n",
    "Threshold=20\n",
    "N=1000\n",
    "\n",
    "\n",
    "ALL_F_1=0.2*np.ones((N,len(time)))\n",
    "ALL_F_2=0.2*np.ones((N,len(time)))\n",
    "I_VIS_EXCITE=0.0*np.ones((N,len(time))) # np.zeros((1,len(time)))\n",
    "I_VIS_INHIB=0.0*np.ones((N,len(time))) # np.zeros((1,len(time)))\n",
    "Firing_target_VIS_EXCITE=0.2*np.ones((N,len(time))) # np.zeros((1,len(time)))\n",
    "Firing_target_VIS_INHIB=0.2*np.ones((N,len(time))) # np.zeros((1,len(time)))\n",
    "Firing_target_AUDIO_EXCITE=0.2*np.ones((N,len(time))) # np.zeros((1,len(time)))\n",
    "Firing_target_AUDIO_INHIB=0.2*np.ones((N,len(time))) # np.zeros((1,len(time)))\n",
    "\n",
    "\n",
    "\n",
    "\n",
    "j=0\n",
    "#for j in range(0,len(Vector_coherence)):\n",
    "for k in range(0,1):\n",
    "  \n",
    "    ANSWER_VIS=np.zeros(N)\n",
    "    RT_VIS=np.zeros(N)\n",
    "    ANSWER_AUDIO=np.zeros(N)\n",
    "    RT_AUDIO=np.zeros(N)\n",
    "    ANSWER_AV=np.zeros(N)\n",
    "    RT_AV=np.zeros(N)\n",
    "\n",
    "\n",
    "\n",
    "\n",
    "    \n",
    "    I_noise_VIS_EXCITE=0.001*np.random.normal(0,1,(N,len(time)))\n",
    "    I_noise_VIS_INHIB=0.001*np.random.normal(0,1,(N,len(time)))\n",
    "\n",
    "    x_VIS_EXCITE=J_A_ext*mu_0*np.random.uniform(0,1,(N,len(time)))\n",
    "    x_VIS_INHIB=J_A_ext*mu_0*np.random.uniform(0,1,(N,len(time)))\n",
    "    x_AUDIO_EXCITE=J_A_ext*mu_0*np.random.uniform(0,1,(N,len(time)))\n",
    "    x_AUDIO_INHIB=J_A_ext*mu_0*np.random.uniform(0,1,(N,len(time)))\n",
    "\n",
    "\n",
    "    S_VIS_EXCITE=0.2*np.ones((N,len(time)))+0.01*np.random.normal(0,1,(N,len(time)))\n",
    "    S_VIS_INHIB=0.2*np.ones((N,len(time)))+0.01*np.random.normal(0,1,(N,len(time))) \n",
    "    S_AUDIO_EXCITE=0.2*np.ones((N,len(time)))+0.01*np.random.normal(0,1,(N,len(time)))\n",
    "    S_AUDIO_INHIB=0.2*np.ones((N,len(time)))+0.01*np.random.normal(0,1,(N,len(time))) \n",
    "\n",
    "\n",
    "\n",
    "\n",
    "    Firing_target_VIS_EXCITE[:,0]=H(x_VIS_EXCITE[:,0])\n",
    "    Firing_target_VIS_INHIB[:,0]=H(x_VIS_INHIB[:,0])\n",
    "    Firing_target_AUDIO_EXCITE[:,0]=H(x_VIS_EXCITE[:,0])\n",
    "    Firing_target_AUDIO_INHIB[:,0]=H(x_VIS_INHIB[:,0])\n",
    "\n",
    "\n",
    "\n",
    "    count_AUDIO=np.zeros(N)\n",
    "\n",
    "    count_VIS=np.zeros(N)\n",
    "    count_AV=np.zeros(N)\n",
    "    for i in range (0,len(time)-1):\n",
    "        if time[i] >=0 and time[i]<1000:\n",
    "            c_dash=STIMULUS[0]\n",
    "        else:\n",
    "            c_dash=0.0\n",
    "\n",
    "\n",
    "        I_noise_VIS_EXCITE[:,i+1]=Background_Activity(I_noise_VIS_EXCITE[:,i])\n",
    "        I_noise_VIS_INHIB[:,i+1]=Background_Activity(I_noise_VIS_INHIB[:,i])\n",
    "\n",
    "        I_VIS_EXCITE[:,i+1]=I_input_1(c_dash)\n",
    "        I_VIS_INHIB[:,i+1]=I_input_1(-c_dash)\n",
    "\n",
    "        S_VIS_EXCITE[:,i+1]=Network_Dynamics_VIS(S_VIS_EXCITE[:,i],x_VIS_EXCITE[:,i])\n",
    "        S_VIS_INHIB[:,i+1]=Network_Dynamics_VIS(S_VIS_INHIB[:,i],x_VIS_INHIB[:,i])\n",
    "        x_VIS_EXCITE[:,i+1],x_VIS_INHIB[:,i+1]=total_synaptic_current(S_VIS_EXCITE[:,i],S_VIS_INHIB[:,i],S_AUDIO_EXCITE[:,i],S_AUDIO_INHIB[:,i],I_VIS_EXCITE[:,i],I_VIS_INHIB[:,i],I_noise_VIS_EXCITE[:,i],I_noise_VIS_INHIB[:,i])\n",
    "        \n",
    "        Firing_target_VIS_EXCITE[:,i+1]=H(x_VIS_EXCITE[:,i+1])\n",
    "        Firing_target_VIS_INHIB[:,i+1]=H(x_VIS_INHIB[:,i+1])\n",
    "        \n",
    "        \n",
    "        I_noise_VIS_EXCITE[:,i+1]=Background_Activity(I_noise_VIS_EXCITE[:,i])\n",
    "        I_noise_VIS_INHIB[:,i+1]=Background_Activity(I_noise_VIS_INHIB[:,i])\n",
    "\n",
    "\n",
    "        x_AUDIO_EXCITE[:,i+1],x_AUDIO_INHIB[:,i+1]=total_synaptic_current(S_AUDIO_EXCITE[:,i],S_AUDIO_INHIB[:,i],S_VIS_EXCITE[:,i],S_VIS_INHIB[:,i],I_VIS_EXCITE[:,i],I_VIS_INHIB[:,i],I_noise_VIS_EXCITE[:,i],I_noise_VIS_INHIB[:,i])\n",
    "        S_AUDIO_EXCITE[:,i+1]=Network_Dynamics_AUDIO(S_AUDIO_EXCITE[:,i],x_AUDIO_EXCITE[:,i])\n",
    "        S_AUDIO_INHIB[:,i+1]=Network_Dynamics_AUDIO(S_AUDIO_INHIB[:,i],x_AUDIO_INHIB[:,i])\n",
    "        Firing_target_AUDIO_EXCITE[:,i+1]=H(x_AUDIO_EXCITE[:,i+1])\n",
    "        Firing_target_AUDIO_INHIB[:,i+1]=H(x_AUDIO_INHIB[:,i+1])\n",
    "       \n",
    "        A_VIS=Firing_target_VIS_EXCITE[:,i]>=Threshold\n",
    "        B=count_VIS <0.5 \n",
    "        RT_VIS[A_VIS&B]=time[i]\n",
    "        count_VIS[A_VIS&B]=1\n",
    "        \n",
    "        A_AUDIO=Firing_target_AUDIO_EXCITE[:,i]>=Threshold\n",
    "        B=count_AUDIO <0.5 \n",
    "        RT_AUDIO[A_AUDIO&B]=time[i]\n",
    "        count_AUDIO[A_AUDIO&B]=1\n",
    "        \n",
    "        A_AV=A_AUDIO|A_VIS\n",
    "\n",
    "        B=count_AV <0.5 \n",
    "        RT_AV[A_AV&B]=time[i]\n",
    "        count_AV[A_AV&B]=1\n",
    "\n"
   ]
  },
  {
   "cell_type": "code",
   "execution_count": 14,
   "metadata": {},
   "outputs": [
    {
     "data": {
      "image/png": "[encoded data removed]",
      "text/plain": [
       "<Figure size 720x288 with 2 Axes>"
      ]
     },
     "metadata": {
      "needs_background": "light"
     },
     "output_type": "display_data"
    }
   ],
   "source": [
    "fig = plt.figure(figsize=(10,4))\n",
    "plt.subplot(121)\n",
    "plt.plot(time,Firing_target_AUDIO_EXCITE.T,'b')\n",
    "plt.plot(time,Firing_target_AUDIO_INHIB.T,'r')\n",
    "plt.title('Audio')\n",
    "plt.subplot(122)\n",
    "plt.plot(time,Firing_target_VIS_EXCITE.T,'b')\n",
    "plt.plot(time,Firing_target_VIS_INHIB.T,'r')\n",
    "plt.title('Visual')\n",
    "plt.show()"
   ]
  },
  {
   "cell_type": "code",
   "execution_count": 15,
   "metadata": {},
   "outputs": [
    {
     "data": {
      "image/png": "[encoded data removed]",
      "text/plain": [
       "<Figure size 720x288 with 3 Axes>"
      ]
     },
     "metadata": {
      "needs_background": "light"
     },
     "output_type": "display_data"
    },
    {
     "name": "stdout",
     "output_type": "stream",
     "text": [
      "397.31979999997174\n",
      "393.6486999999719\n"
     ]
    },
    {
     "data": {
      "text/plain": [
       "360.1944999999738"
      ]
     },
     "execution_count": 15,
     "metadata": {},
     "output_type": "execute_result"
    }
   ],
   "source": [
    "fig = plt.figure(figsize=(10,4))\n",
    "plt.subplot(131)\n",
    "plt.hist(RT_VIS)\n",
    "plt.vlines(np.mean(RT_VIS),0,600,color='red')\n",
    "plt.xlim(0,1000)\n",
    "\n",
    "plt.xlabel('Visual Reaction Time')\n",
    "plt.title('V')\n",
    "\n",
    "\n",
    "plt.subplot(132)\n",
    "plt.hist(RT_AUDIO)\n",
    "plt.xlabel('Audio Reaction Time')\n",
    "plt.vlines(np.mean(RT_AUDIO),0,600,color='red')\n",
    "plt.xlim(0,1000)\n",
    "\n",
    "\n",
    "\n",
    "plt.title('A')\n",
    "\n",
    "plt.subplot(133)\n",
    "plt.hist(RT_AV)\n",
    "plt.vlines(np.mean(RT_AV),0,600,color='red')\n",
    "plt.xlabel('AV Reaction Time')\n",
    "plt.title('AV')\n",
    "plt.xlim(0,1000)\n",
    "\n",
    "\n",
    "plt.savefig('AV_Behavioural.png', bbox_inches='tight',dpi=300)\n",
    "plt.show()\n",
    "print(np.mean(RT_AUDIO))\n",
    "print(np.mean(RT_VIS))\n",
    "\n",
    "np.mean(RT_AV)"
   ]
  },
  {
   "cell_type": "code",
   "execution_count": 16,
   "metadata": {},
   "outputs": [
    {
     "data": {
      "image/png": "[encoded data removed]",
      "text/plain": [
       "<Figure size 432x288 with 1 Axes>"
      ]
     },
     "metadata": {
      "needs_background": "light"
     },
     "output_type": "display_data"
    },
    {
     "data": {
      "text/plain": [
       "Ttest_indResult(statistic=12.085489110533416, pvalue=1.6649620465563193e-32)"
      ]
     },
     "execution_count": 16,
     "metadata": {},
     "output_type": "execute_result"
    }
   ],
   "source": [
    "df=pd.DataFrame({'Audio': RT_AUDIO, 'Visual': RT_VIS,'AV':RT_AV})\n",
    "#from matplotlib import pyplot as plt\n",
    "\n",
    "fig = plt.figure(figsize=(6,4))\n",
    "ax=df.boxplot(grid=False, rot=45, fontsize=15)\n",
    "#fig.set_ylabel('RT')\n",
    "ax.set_ylabel('RT', fontsize=15)\n",
    "ax.set_ylim((0,1000))\n",
    "#df.boxplot(grid=False, rot=45, fontsize=15)\n",
    "plt.show()\n",
    "\n",
    "\n",
    "ttest_ind(df['Visual'],df['AV'])"
   ]
  },
  {
   "cell_type": "code",
   "execution_count": 17,
   "metadata": {},
   "outputs": [],
   "source": [
    "df_melt = pd.melt(df.reset_index(), id_vars=['index'], value_vars=['Audio', 'Visual', 'AV'])\n",
    "# replace column names\n",
    "df_melt.columns = ['index', 'condition', 'RT']"
   ]
  },
  {
   "cell_type": "code",
   "execution_count": 20,
   "metadata": {},
   "outputs": [
    {
     "data": {
      "image/png": "[encoded data removed]",
      "text/plain": [
       "<Figure size 432x288 with 1 Axes>"
      ]
     },
     "metadata": {
      "needs_background": "light"
     },
     "output_type": "display_data"
    }
   ],
   "source": [
    "\n",
    "fig = plt.figure(figsize=(6,4))\n",
    "ax=sns.boxplot(x='condition', y='RT', data=df_melt)\n",
    "ax.set_ylabel('RT', fontsize=15)\n",
    "ax.set_ylim((0,1000))\n",
    "plt.show()"
   ]
  },
  {
   "cell_type": "code",
   "execution_count": 13,
   "metadata": {},
   "outputs": [
    {
     "data": {
      "text/html": [
       "<div>\n",
       "<style scoped>\n",
       "    .dataframe tbody tr th:only-of-type {\n",
       "        vertical-align: middle;\n",
       "    }\n",
       "\n",
       "    .dataframe tbody tr th {\n",
       "        vertical-align: top;\n",
       "    }\n",
       "\n",
       "    .dataframe thead th {\n",
       "        text-align: right;\n",
       "    }\n",
       "</style>\n",
       "<table border=\"1\" class=\"dataframe\">\n",
       "  <thead>\n",
       "    <tr style=\"text-align: right;\">\n",
       "      <th></th>\n",
       "      <th>sum_sq</th>\n",
       "      <th>df</th>\n",
       "      <th>F</th>\n",
       "      <th>PR(&gt;F)</th>\n",
       "    </tr>\n",
       "  </thead>\n",
       "  <tbody>\n",
       "    <tr>\n",
       "      <th>C(condition)</th>\n",
       "      <td>8.369828e+05</td>\n",
       "      <td>2.0</td>\n",
       "      <td>100.402344</td>\n",
       "      <td>6.229599e-43</td>\n",
       "    </tr>\n",
       "    <tr>\n",
       "      <th>Residual</th>\n",
       "      <td>1.249193e+07</td>\n",
       "      <td>2997.0</td>\n",
       "      <td>NaN</td>\n",
       "      <td>NaN</td>\n",
       "    </tr>\n",
       "  </tbody>\n",
       "</table>\n",
       "</div>"
      ],
      "text/plain": [
       "                    sum_sq      df           F        PR(>F)\n",
       "C(condition)  8.369828e+05     2.0  100.402344  6.229599e-43\n",
       "Residual      1.249193e+07  2997.0         NaN           NaN"
      ]
     },
     "execution_count": 13,
     "metadata": {},
     "output_type": "execute_result"
    }
   ],
   "source": [
    "\n",
    "# get ANOVA table as R like output\n",
    "import statsmodels.api as sm\n",
    "from statsmodels.formula.api import ols\n",
    "\n",
    "# Ordinary Least Squares (OLS) model\n",
    "model = ols('RT ~ C(condition)', data=df_melt).fit()\n",
    "anova_table = sm.stats.anova_lm(model, typ=2)\n",
    "anova_table\n",
    "\n"
   ]
  }
 ],
 "metadata": {
  "kernelspec": {
   "display_name": "Python 3",
   "language": "python",
   "name": "python3"
  },
  "language_info": {
   "codemirror_mode": {
    "name": "ipython",
    "version": 3
   },
   "file_extension": ".py",
   "mimetype": "text/x-python",
   "name": "python",
   "nbconvert_exporter": "python",
   "pygments_lexer": "ipython3",
   "version": "3.7.9"
  }
 },
 "nbformat": 4,
 "nbformat_minor": 4
}
