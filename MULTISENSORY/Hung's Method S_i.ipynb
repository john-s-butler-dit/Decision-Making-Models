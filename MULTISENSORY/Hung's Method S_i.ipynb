{
 "cells": [
  {
   "cell_type": "markdown",
   "metadata": {},
   "source": [
    "## Derivation of S_i approximation Hung's Method "
   ]
  },
  {
   "cell_type": "markdown",
   "metadata": {},
   "source": [
    "### Network Dynamics\n",
    "$$ \\frac{d S_{i}}{dt} =-\\frac{S_{i}}{\\tau_S}+(1-S_{i})\\gamma H_{i}$$"
   ]
  },
  {
   "cell_type": "markdown",
   "metadata": {},
   "source": [
    "Hung's method  states $$y_{i+1} = y_{i} + \\frac{h}{2}[f(y_i) + f(y_i + hf(y_i))]$$.\n",
    "\n",
    "Here, $$S_{i+1} = S_i + \\frac{h}{2}[f(S_i) + f(S_i + hf(S_i))]$$ \n",
    "\n",
    "$$S_{i+1} = S_i + \\frac{h}{2}[-\\frac{S}{\\tau_S}+(1-S)\\gamma H(x) -\\frac{S+k}{\\tau_S}+(1-S+k)\\gamma H(x)]$$\n",
    "\n",
    "where $$k=hf(S_i)=h(-\\frac{S}{\\tau_S}+(1-S)\\gamma H(x))$$\n",
    "\n",
    "$$S_{i+1} = S_i + \\frac{h}{2}[-\\frac{S}{\\tau_S}+(1-S)\\gamma H(x) -\\frac{S+k}{\\tau_S}+(1-S+k)\\gamma H(x)]$$\n",
    "\n",
    "$$S_{i+1} = S_i + \\frac{h}{2}[\\frac{-2S+k}{\\tau_S}+(2-2S+k)\\gamma H(x)]$$\n",
    "\n",
    "$$S_{i+1} = S_i + h[-\\frac{S+\\frac{k}{2}}{\\tau_S}+(1-S+\\frac{k}{2})\\gamma H(x)]$$\n",
    "\n"
   ]
  }
 ],
 "metadata": {
  "kernelspec": {
   "display_name": "Python 3 (ipykernel)",
   "language": "python",
   "name": "python3"
  },
  "language_info": {
   "codemirror_mode": {
    "name": "ipython",
    "version": 3
   },
   "file_extension": ".py",
   "mimetype": "text/x-python",
   "name": "python",
   "nbconvert_exporter": "python",
   "pygments_lexer": "ipython3",
   "version": "3.8.12"
  }
 },
 "nbformat": 4,
 "nbformat_minor": 4
}
