{
 "cells": [
  {
   "cell_type": "markdown",
   "metadata": {},
   "source": [
    "# A Recurrent Network Mechanism of Time Integration in Perceptual Decisions\n",
    "Wong,  Wang\n",
    "Journal of Neuroscience, January 2006, 26(4):1212-1328"
   ]
  },
  {
   "cell_type": "markdown",
   "metadata": {},
   "source": [
    "## Material and Methods\n",
    "### The two-variable network model"
   ]
  },
  {
   "cell_type": "markdown",
   "metadata": {},
   "source": [
    "### Calling Library Fuctions"
   ]
  },
  {
   "cell_type": "code",
   "execution_count": 1,
   "metadata": {},
   "outputs": [],
   "source": [
    "# LIBRARY\n",
    "\n",
    "import numpy as np # vector manipulation\n",
    "import math  # math functions\n",
    "import sys\n",
    "\n",
    "# THIS IS FOR PLOTTING\n",
    "%matplotlib inline\n",
    "import matplotlib.pyplot as plt # side-stepping mpl backend\n",
    "import warnings\n",
    "warnings.filterwarnings(\"ignore\")\n",
    "# THIS IS FOR PLOTTING\n",
    "%matplotlib inline\n",
    "import matplotlib.pyplot as plt # side-stepping mpl backend\n",
    "import warnings\n",
    "warnings.filterwarnings(\"ignore\")\n",
    "\n"
   ]
  },
  {
   "cell_type": "markdown",
   "metadata": {},
   "source": [
    "### The Reduced Network Model"
   ]
  },
  {
   "cell_type": "code",
   "execution_count": 2,
   "metadata": {},
   "outputs": [],
   "source": [
    "def H(x):\n",
    "    a=270 # Hz/nA\n",
    "    b=108 # Hz\n",
    "    d=.154 # seconds\n",
    "    f=(a*x-b)/(1-np.exp(-d*(a*x-b)))\n",
    "    return f\n",
    "x=np.arange(-1,1,0.01)\n"
   ]
  },
  {
   "cell_type": "markdown",
   "metadata": {},
   "source": [
    "### Neural Circuit\n",
    "$$ x_{1}=J_{11}S_1-J_{12}S_2+I_{0}+I_{1}+I_{noise,1}$$\n",
    "$$ x_{2}=J_{22}S_2-J_{21}S_1+I_{0}+I_{2}+I_{noise,1}$$\n",
    "\n",
    "where the synaptic couplings are $J_{11}=0.2609$, $J_{22}=0.2609$, $J_{12}=0.0497$ and $J_{21}=0.0497$.\n",
    "$I_{0}=0.3255 nA$ represents external input \n"
   ]
  },
  {
   "cell_type": "code",
   "execution_count": 3,
   "metadata": {},
   "outputs": [],
   "source": [
    "def total_synaptic_current(S_1,S_2,I_1,I_2,I_noise_1,I_noise_2):\n",
    "    # Synaptic coupling\n",
    "    J_11=0.2609 # nA\n",
    "    J_22=0.2609 # nA\n",
    "    J_12=0.0497 # nA\n",
    "    J_21=0.0497 # nA\n",
    "    I_0=0.3255  # nA\n",
    "    x_1=J_11*S_1-J_12*S_2+I_0+I_1+I_noise_1\n",
    "    x_2=J_22*S_2-J_21*S_1+I_0+I_2+I_noise_2\n",
    "    return x_1, x_2\n"
   ]
  },
  {
   "cell_type": "markdown",
   "metadata": {},
   "source": [
    "### Background activity\n",
    "$$ \\tau_{AMPA}\\frac{d I_{noise,i}(t)}{dt} =-I_{noise,i}(t)+\\eta_i(t)\\sqrt{\\tau_{AMPA}}\\sigma_{noise}$$"
   ]
  },
  {
   "cell_type": "code",
   "execution_count": 4,
   "metadata": {},
   "outputs": [],
   "source": [
    "def Background_Activity(I_noise):\n",
    "    h=0.1\n",
    "    sigma_noise=0.02 # nA\n",
    "    tau_AMPA=2 #ms\n",
    "    eta_noise=np.random.normal(0,1,1)\n",
    "    k=0#(-(I_noise)+eta_noise*np.sqrt(tau_AMPA)*sigma_noise)\n",
    "    I_noise_new=I_noise+h/tau_AMPA*(-(I_noise+h/2*k)+eta_noise\n",
    "                                *np.sqrt(tau_AMPA)*sigma_noise)\n",
    "    return I_noise_new"
   ]
  },
  {
   "cell_type": "markdown",
   "metadata": {},
   "source": [
    "### Network Dynamics\n",
    "$$ \\frac{d S_{i}}{dt} =-\\frac{S_{i}}{\\tau_S}+(1-S_{i})\\gamma H_{i}$$"
   ]
  },
  {
   "cell_type": "code",
   "execution_count": 5,
   "metadata": {},
   "outputs": [],
   "source": [
    "def Network_Dynamics_VIS(S,x):\n",
    "    h=0.1/1000 #ms\n",
    "    gamma=0.641\n",
    "    tau_S=.100 #s\n",
    "    k=(-S/tau_S+(1-S)*gamma*H(x)/1)\n",
    "    S_new=S+h*(-(S+h/2*k)/tau_S+(1-S+h/2*k)*gamma*H(x))\n",
    "    return S_new\n",
    "\n",
    "def Network_Dynamics_VEST(S,x,tau_VEST):\n",
    "    h=0.1/1000 #ms\n",
    "    gamma=0.641\n",
    "    #tau_S=.10 #s\n",
    "    k=(-S/tau_VEST+(1-S)*gamma*H(x)/1)\n",
    "    S_new=S+h*(-(S+h/2*k)/tau_VEST+(1-S+h/2*k)*gamma*H(x))\n",
    "    return S_new\n",
    "\n",
    "\n",
    "\n",
    "\n",
    "\n"
   ]
  },
  {
   "cell_type": "markdown",
   "metadata": {},
   "source": [
    "### Input Current Target\n",
    "\n",
    "$$ I_i=J_{A,ext}\\mu_0\\left(1+ \\frac{c'}{100} \\right) $$\n"
   ]
  },
  {
   "cell_type": "code",
   "execution_count": 6,
   "metadata": {},
   "outputs": [],
   "source": [
    "def I_input_1(c_dash):\n",
    "    J_A_ext=5.2/10000 # nA/Hz\n",
    "    mu_0=30 # Hz\n",
    "    I_motion=J_A_ext*mu_0*(1+(c_dash)/100)\n",
    "    return I_motion"
   ]
  },
  {
   "cell_type": "markdown",
   "metadata": {},
   "source": [
    "$$ I_2=J_{A,ext}\\mu_0\\left(1- \\frac{c'}{100} \\right) $$"
   ]
  },
  {
   "cell_type": "code",
   "execution_count": 7,
   "metadata": {},
   "outputs": [],
   "source": [
    "def I_input_2(c_dash):\n",
    "    J_A_ext=0.00052 # nA/Hz\n",
    "    mu_0=30 # Hz\n",
    "    I_motion=J_A_ext*mu_0*(1-(c_dash)/100)\n",
    "    return I_motion\n",
    "\n",
    "        \n",
    "def Reaction_Time(Firing_Rate_1,Firing_Rate_2,Threshold,time):\n",
    "    ANSWER=0\n",
    "    RT=0\n",
    "    count=0\n",
    "    if Firing_Rate_1 >=Threshold: \n",
    "        ANSWER=1\n",
    "        RT=time\n",
    "        count=1\n",
    "    elif Firing_Rate_2 >=Threshold:\n",
    "        ANSWER=0\n",
    "        RT=time\n",
    "        count=1\n",
    "    return ANSWER,RT,count"
   ]
  },
  {
   "cell_type": "code",
   "execution_count": 8,
   "metadata": {},
   "outputs": [],
   "source": [
    "h=0.1\n",
    "time=np.arange(-100,1500,h)\n",
    "J_A_ext=0.00052 # nA/Hz\n",
    "mu_0=30 # Hz\n",
    "Vector_coherence=[1.0,3.0,5.0]#,7.5,10.0,15.0]\n",
    "Vector_coherence=[10.0]#,7.5,10.0,15.0]\n",
    "\n",
    "TAU_VEST=np.arange(0.09,0.11,0.002)#Vector_coherence=[1.0,3.0,5.0]\n",
    "TAU_VEST=0.1\n",
    "\n",
    "Threshold=15\n",
    "N=1000\n",
    "RT_VEST_coh_hit=np.zeros(len(Vector_coherence))\n",
    "RT_VEST_coh_miss=np.zeros(len(Vector_coherence))\n",
    "Prob_VEST=np.zeros(len(Vector_coherence))\n",
    "RT_VIS_coh_hit=np.zeros(len(Vector_coherence))\n",
    "RT_VIS_coh_miss=np.zeros(len(Vector_coherence))\n",
    "Prob_VIS=np.zeros(len(Vector_coherence))\n",
    "\n",
    "#fig = plt.figure(figsize=(12,8))\n",
    "\n",
    "ALL_F_1=0.2*np.ones((N,len(time)))\n",
    "ALL_F_2=0.2*np.ones((N,len(time)))\n",
    "I_1=0.0*np.ones(len(time)) # np.zeros((1,len(time)))\n",
    "I_2=0.0*np.ones(len(time)) # np.zeros((1,len(time)))\n",
    "Firing_target_1=0*time # np.zeros((1,len(time)))\n",
    "Firing_target_2=0*time # np.zeros((1,len(time)))\n",
    "Firing_target_3=0*time # np.zeros((1,len(time)))\n",
    "Firing_target_4=0*time # np.zeros((1,len(time)))"
   ]
  },
  {
   "cell_type": "code",
   "execution_count": 9,
   "metadata": {},
   "outputs": [
    {
     "name": "stdout",
     "output_type": "stream",
     "text": [
      "Tau 0.0900000.4 : n: 0\n",
      "Tau 0.0900000.4 : n: 250\n",
      "Tau 0.0900000.4 : n: 500\n",
      "Tau 0.0900000.4 : n: 750\n",
      "Tau 0.0920000.4 : n: 0\n",
      "Tau 0.0920000.4 : n: 250\n",
      "Tau 0.0920000.4 : n: 500\n",
      "Tau 0.0920000.4 : n: 750\n",
      "Tau 0.0940000.4 : n: 0\n",
      "Tau 0.0940000.4 : n: 250\n",
      "Tau 0.0940000.4 : n: 500\n",
      "Tau 0.0940000.4 : n: 750\n",
      "Tau 0.0960000.4 : n: 0\n",
      "Tau 0.0960000.4 : n: 250\n",
      "Tau 0.0960000.4 : n: 500\n",
      "Tau 0.0960000.4 : n: 750\n",
      "Tau 0.0980000.4 : n: 0\n",
      "Tau 0.0980000.4 : n: 250\n",
      "Tau 0.0980000.4 : n: 500\n",
      "Tau 0.0980000.4 : n: 750\n",
      "Tau 0.1000000.4 : n: 0\n",
      "Tau 0.1000000.4 : n: 250\n",
      "Tau 0.1000000.4 : n: 500\n",
      "Tau 0.1000000.4 : n: 750\n",
      "Tau 0.1020000.4 : n: 0\n",
      "Tau 0.1020000.4 : n: 250\n",
      "Tau 0.1020000.4 : n: 500\n",
      "Tau 0.1020000.4 : n: 750\n",
      "Tau 0.1040000.4 : n: 0\n",
      "Tau 0.1040000.4 : n: 250\n",
      "Tau 0.1040000.4 : n: 500\n",
      "Tau 0.1040000.4 : n: 750\n",
      "Tau 0.1060000.4 : n: 0\n",
      "Tau 0.1060000.4 : n: 250\n",
      "Tau 0.1060000.4 : n: 500\n",
      "Tau 0.1060000.4 : n: 750\n",
      "Tau 0.1080000.4 : n: 0\n",
      "Tau 0.1080000.4 : n: 250\n",
      "Tau 0.1080000.4 : n: 500\n",
      "Tau 0.1080000.4 : n: 750\n",
      "Tau 0.1100000.4 : n: 0\n",
      "Tau 0.1100000.4 : n: 250\n",
      "Tau 0.1100000.4 : n: 500\n",
      "Tau 0.1100000.4 : n: 750\n"
     ]
    }
   ],
   "source": [
    "RT_VEST_coh_hit=[]\n",
    "RT_VEST_coh_miss=[]#np.zeros(len(Vector_coherence))\n",
    "Prob_VEST=[]#np.zeros(len(Vector_coherence))\n",
    "RT_VIS_coh_hit=[]#np.zeros(len(Vector_coherence))\n",
    "RT_VIS_coh_miss=[]#np.zeros(len(Vector_coherence))\n",
    "Prob_VIS=[]#np.zeros(len(Vector_coherence))\n",
    "\n",
    "\n",
    "\n",
    "j=0\n",
    "#for j in range(0,len(Vector_coherence)):\n",
    "for k in range(0,len(TAU_VEST)):\n",
    "  \n",
    "    ANSWER_VIS=np.zeros(N)\n",
    "    RT_VIS=np.zeros(N)\n",
    "    ANSWER_VEST=np.zeros(N)\n",
    "    RT_VEST=np.zeros(N)\n",
    "\n",
    "\n",
    "\n",
    "    for n in range(0,N):\n",
    "        if n%250==0:\n",
    "            print('Tau %0.4f : n: %d' %(TAU_VEST[k],n))\n",
    "        I_noise_1=0.001*np.random.normal(0,1,len(time))\n",
    "        I_noise_2=0.001*np.random.normal(0,1,len(time))\n",
    "\n",
    "        x_1=J_A_ext*mu_0*np.random.uniform(0,1,len(time))\n",
    "        x_2=J_A_ext*mu_0*np.random.uniform(0,1,len(time))\n",
    "        x_3=J_A_ext*mu_0*np.random.uniform(0,1,len(time))\n",
    "        x_4=J_A_ext*mu_0*np.random.uniform(0,1,len(time))\n",
    "\n",
    "\n",
    "        S_1=0.2*np.ones(len(time))+0.01*np.random.normal(0,1,len(time))#0.1*np.random.uniform(0,1,len(time))# np.random.normal(0,1,len(time))*0.0004\n",
    "        S_2=0.2*np.ones(len(time))+0.01*np.random.normal(0,1,len(time)) #0.1*np.random.uniform(0,1,len(time)) #np.random.normal(0,1,len(time))*0.0004\n",
    "        S_3=0.2*np.ones(len(time))+0.01*np.random.normal(0,1,len(time))#0.1*np.random.uniform(0,1,len(time))# np.random.normal(0,1,len(time))*0.0004\n",
    "        S_4=0.2*np.ones(len(time))+0.01*np.random.normal(0,1,len(time)) #0.1*np.random.uniform(0,1,len(time)) #np.random.normal(0,1,len(time))*0.0004\n",
    "\n",
    "\n",
    " \n",
    "\n",
    "        Firing_target_1[0]=H(x_1[0])\n",
    "        Firing_target_2[0]=H(x_2[0])\n",
    "        Firing_target_3[0]=H(x_1[0])\n",
    "        Firing_target_4[0]=H(x_2[0])\n",
    "\n",
    "\n",
    "\n",
    "        count=0\n",
    "        count2=0\n",
    "        for i in range (0,len(time)-1):\n",
    "            if time[i] >=0 and time[i]<1000:\n",
    "                c_dash=Vector_coherence[j]\n",
    "            else:\n",
    "                c_dash=0.0\n",
    "\n",
    "        \n",
    "            I_noise_1[i+1]=Background_Activity(I_noise_1[i])\n",
    "            I_noise_2[i+1]=Background_Activity(I_noise_2[i])\n",
    "\n",
    "            I_1[i+1]=I_input_1(c_dash)\n",
    "            I_2[i+1]=I_input_1(-c_dash)\n",
    "\n",
    "            x_1[i+1],x_2[i+1]=total_synaptic_current(S_1[i],S_2[i],I_1[i],I_2[i],I_noise_1[i],I_noise_2[i])\n",
    "            S_1[i+1]=Network_Dynamics_VIS(S_1[i],x_1[i+1])\n",
    "            S_2[i+1]=Network_Dynamics_VIS(S_2[i],x_2[i+1])\n",
    "            Firing_target_1[i]=H(x_1[i])\n",
    "            Firing_target_2[i]=H(x_2[i])\n",
    "            I_noise_1[i+1]=Background_Activity(I_noise_1[i])\n",
    "            I_noise_2[i+1]=Background_Activity(I_noise_2[i])\n",
    "\n",
    " \n",
    "            x_3[i+1],x_4[i+1]=total_synaptic_current(S_3[i],S_4[i],I_1[i],I_2[i],I_noise_1[i],I_noise_2[i])\n",
    "            S_3[i+1]=Network_Dynamics_VEST(S_3[i],x_3[i+1],TAU_VEST[k])\n",
    "            S_4[i+1]=Network_Dynamics_VEST(S_4[i],x_4[i+1],TAU_VEST[k])\n",
    "            Firing_target_3[i]=H(x_3[i])\n",
    "            Firing_target_4[i]=H(x_4[i])\n",
    "            if count <0.5:\n",
    "                ANSWER_VIS[n],RT_VIS[n],count=Reaction_Time(Firing_target_1[i],Firing_target_2[i],Threshold,time[i])\n",
    "            if count2 <0.5:\n",
    "                ANSWER_VEST[n],RT_VEST[n],count2=Reaction_Time(Firing_target_3[i],Firing_target_4[i],Threshold,time[i])\n",
    "\n",
    "            \n",
    "    \n",
    "    RT_VIS_coh_hit.append(np.average(RT_VIS[ANSWER_VIS==1]))\n",
    "    RT_VIS_coh_miss.append(np.average(RT_VIS[ANSWER_VIS==0]))\n",
    "    Prob_VIS.append(np.average(ANSWER_VIS))\n",
    "    RT_VEST_coh_hit.append(np.average(RT_VEST[ANSWER_VEST==1]))\n",
    "    RT_VEST_coh_miss.append(np.average(RT_VEST[ANSWER_VEST==0]))\n",
    "    Prob_VEST.append(np.average(ANSWER_VEST))"
   ]
  },
  {
   "cell_type": "markdown",
   "metadata": {},
   "source": [
    "### Plotting\n",
    "#### Input"
   ]
  },
  {
   "cell_type": "code",
   "execution_count": 5,
   "metadata": {
    "scrolled": true
   },
   "outputs": [
    {
     "ename": "NameError",
     "evalue": "name 'plt' is not defined",
     "output_type": "error",
     "traceback": [
      "\u001b[0;31m---------------------------------------------------------------------------\u001b[0m",
      "\u001b[0;31mNameError\u001b[0m                                 Traceback (most recent call last)",
      "\u001b[0;32m<ipython-input-5-7bec13d8ce5d>\u001b[0m in \u001b[0;36m<module>\u001b[0;34m\u001b[0m\n\u001b[0;32m----> 1\u001b[0;31m \u001b[0mfig\u001b[0m \u001b[0;34m=\u001b[0m \u001b[0mplt\u001b[0m\u001b[0;34m.\u001b[0m\u001b[0mfigure\u001b[0m\u001b[0;34m(\u001b[0m\u001b[0mfigsize\u001b[0m\u001b[0;34m=\u001b[0m\u001b[0;34m(\u001b[0m\u001b[0;36m8\u001b[0m\u001b[0;34m,\u001b[0m\u001b[0;36m4\u001b[0m\u001b[0;34m)\u001b[0m\u001b[0;34m)\u001b[0m\u001b[0;34m\u001b[0m\u001b[0;34m\u001b[0m\u001b[0m\n\u001b[0m\u001b[1;32m      2\u001b[0m \u001b[0;34m\u001b[0m\u001b[0m\n\u001b[1;32m      3\u001b[0m \u001b[0mplt\u001b[0m\u001b[0;34m.\u001b[0m\u001b[0mplot\u001b[0m\u001b[0;34m(\u001b[0m\u001b[0mtime\u001b[0m\u001b[0;34m,\u001b[0m\u001b[0mFiring_target_1\u001b[0m\u001b[0;34m,\u001b[0m\u001b[0;34m'-'\u001b[0m\u001b[0;34m,\u001b[0m\u001b[0mcolor\u001b[0m\u001b[0;34m=\u001b[0m\u001b[0;34m'blue'\u001b[0m\u001b[0;34m,\u001b[0m\u001b[0mlabel\u001b[0m\u001b[0;34m=\u001b[0m\u001b[0;34m\"Vis Right\"\u001b[0m\u001b[0;34m)\u001b[0m\u001b[0;34m\u001b[0m\u001b[0;34m\u001b[0m\u001b[0m\n\u001b[1;32m      4\u001b[0m \u001b[0mplt\u001b[0m\u001b[0;34m.\u001b[0m\u001b[0mplot\u001b[0m\u001b[0;34m(\u001b[0m\u001b[0mtime\u001b[0m\u001b[0;34m,\u001b[0m\u001b[0mFiring_target_2\u001b[0m\u001b[0;34m,\u001b[0m\u001b[0;34m'-'\u001b[0m\u001b[0;34m,\u001b[0m\u001b[0mcolor\u001b[0m\u001b[0;34m=\u001b[0m\u001b[0;34m'red'\u001b[0m\u001b[0;34m,\u001b[0m\u001b[0mlabel\u001b[0m\u001b[0;34m=\u001b[0m\u001b[0;34m\"Vis Left\"\u001b[0m\u001b[0;34m)\u001b[0m\u001b[0;34m\u001b[0m\u001b[0;34m\u001b[0m\u001b[0m\n\u001b[1;32m      5\u001b[0m \u001b[0mplt\u001b[0m\u001b[0;34m.\u001b[0m\u001b[0mplot\u001b[0m\u001b[0;34m(\u001b[0m\u001b[0mtime\u001b[0m\u001b[0;34m,\u001b[0m\u001b[0mFiring_target_3\u001b[0m\u001b[0;34m,\u001b[0m\u001b[0;34m':'\u001b[0m\u001b[0;34m,\u001b[0m\u001b[0mcolor\u001b[0m\u001b[0;34m=\u001b[0m\u001b[0;34m'blue'\u001b[0m\u001b[0;34m,\u001b[0m\u001b[0mlabel\u001b[0m\u001b[0;34m=\u001b[0m\u001b[0;34m\"Vest Right\"\u001b[0m\u001b[0;34m)\u001b[0m\u001b[0;34m\u001b[0m\u001b[0;34m\u001b[0m\u001b[0m\n",
      "\u001b[0;31mNameError\u001b[0m: name 'plt' is not defined"
     ]
    }
   ],
   "source": [
    "fig = plt.figure(figsize=(8,4))\n",
    "\n",
    "plt.plot(time,Firing_target_1,'-',color='blue',label=\"Vis Right\")\n",
    "plt.plot(time,Firing_target_2,'-',color='red',label=\"Vis Left\")\n",
    "plt.plot(time,Firing_target_3,':',color='blue',label=\"Vest Right\")\n",
    "plt.plot(time,Firing_target_4,':',color='red',label=\"Vest Left\")\n",
    "\n",
    "plt.grid()\n",
    "plt.xlabel('time(ms)')\n",
    "plt.ylabel('Firing Rate (Hz)')\n",
    "plt.xlim((-100,1000))\n",
    "plt.ylim((0,Threshold*1.5))\n",
    "plt.legend(bbox_to_anchor=(1.05, 1), loc=2, borderaxespad=0.)\n",
    "plt.savefig('Multisensory_Example_Firing_Pattern.png', bbox_inches='tight',dpi=300)\n",
    "\n",
    "# plt.\n",
    "#plt.ylim((30,50))\n",
    "plt.show()\n"
   ]
  },
  {
   "cell_type": "code",
   "execution_count": 11,
   "metadata": {
    "scrolled": true
   },
   "outputs": [
    {
     "ename": "ValueError",
     "evalue": "x and y must have same first dimension, but have shapes (1,) and (11,)",
     "output_type": "error",
     "traceback": [
      "\u001b[0;31m---------------------------------------------------------------------------\u001b[0m",
      "\u001b[0;31mValueError\u001b[0m                                Traceback (most recent call last)",
      "\u001b[0;32m<ipython-input-11-fe0c9aebbedc>\u001b[0m in \u001b[0;36m<module>\u001b[0;34m\u001b[0m\n\u001b[1;32m      1\u001b[0m \u001b[0mfig\u001b[0m \u001b[0;34m=\u001b[0m \u001b[0mplt\u001b[0m\u001b[0;34m.\u001b[0m\u001b[0mfigure\u001b[0m\u001b[0;34m(\u001b[0m\u001b[0mfigsize\u001b[0m\u001b[0;34m=\u001b[0m\u001b[0;34m(\u001b[0m\u001b[0;36m10\u001b[0m\u001b[0;34m,\u001b[0m\u001b[0;36m4\u001b[0m\u001b[0;34m)\u001b[0m\u001b[0;34m)\u001b[0m\u001b[0;34m\u001b[0m\u001b[0;34m\u001b[0m\u001b[0m\n\u001b[1;32m      2\u001b[0m \u001b[0mplt\u001b[0m\u001b[0;34m.\u001b[0m\u001b[0msubplot\u001b[0m\u001b[0;34m(\u001b[0m\u001b[0;36m121\u001b[0m\u001b[0;34m)\u001b[0m\u001b[0;34m\u001b[0m\u001b[0;34m\u001b[0m\u001b[0m\n\u001b[0;32m----> 3\u001b[0;31m \u001b[0mplt\u001b[0m\u001b[0;34m.\u001b[0m\u001b[0mplot\u001b[0m\u001b[0;34m(\u001b[0m\u001b[0mVector_coherence\u001b[0m\u001b[0;34m,\u001b[0m\u001b[0mProb_VIS\u001b[0m\u001b[0;34m,\u001b[0m\u001b[0;34m'o:'\u001b[0m\u001b[0;34m,\u001b[0m\u001b[0mcolor\u001b[0m\u001b[0;34m=\u001b[0m\u001b[0;34m'red'\u001b[0m\u001b[0;34m)\u001b[0m\u001b[0;34m\u001b[0m\u001b[0;34m\u001b[0m\u001b[0m\n\u001b[0m\u001b[1;32m      4\u001b[0m \u001b[0mplt\u001b[0m\u001b[0;34m.\u001b[0m\u001b[0mplot\u001b[0m\u001b[0;34m(\u001b[0m\u001b[0mVector_coherence\u001b[0m\u001b[0;34m,\u001b[0m\u001b[0mProb_VEST\u001b[0m\u001b[0;34m,\u001b[0m\u001b[0;34m'o:'\u001b[0m\u001b[0;34m,\u001b[0m\u001b[0mcolor\u001b[0m\u001b[0;34m=\u001b[0m\u001b[0;34m'blue'\u001b[0m\u001b[0;34m)\u001b[0m\u001b[0;34m\u001b[0m\u001b[0;34m\u001b[0m\u001b[0m\n\u001b[1;32m      5\u001b[0m \u001b[0;34m\u001b[0m\u001b[0m\n",
      "\u001b[0;32m~/anaconda3/lib/python3.7/site-packages/matplotlib/pyplot.py\u001b[0m in \u001b[0;36mplot\u001b[0;34m(scalex, scaley, data, *args, **kwargs)\u001b[0m\n\u001b[1;32m   2787\u001b[0m     return gca().plot(\n\u001b[1;32m   2788\u001b[0m         *args, scalex=scalex, scaley=scaley, **({\"data\": data} if data\n\u001b[0;32m-> 2789\u001b[0;31m         is not None else {}), **kwargs)\n\u001b[0m\u001b[1;32m   2790\u001b[0m \u001b[0;34m\u001b[0m\u001b[0m\n\u001b[1;32m   2791\u001b[0m \u001b[0;34m\u001b[0m\u001b[0m\n",
      "\u001b[0;32m~/anaconda3/lib/python3.7/site-packages/matplotlib/axes/_axes.py\u001b[0m in \u001b[0;36mplot\u001b[0;34m(self, scalex, scaley, data, *args, **kwargs)\u001b[0m\n\u001b[1;32m   1664\u001b[0m         \"\"\"\n\u001b[1;32m   1665\u001b[0m         \u001b[0mkwargs\u001b[0m \u001b[0;34m=\u001b[0m \u001b[0mcbook\u001b[0m\u001b[0;34m.\u001b[0m\u001b[0mnormalize_kwargs\u001b[0m\u001b[0;34m(\u001b[0m\u001b[0mkwargs\u001b[0m\u001b[0;34m,\u001b[0m \u001b[0mmlines\u001b[0m\u001b[0;34m.\u001b[0m\u001b[0mLine2D\u001b[0m\u001b[0;34m.\u001b[0m\u001b[0m_alias_map\u001b[0m\u001b[0;34m)\u001b[0m\u001b[0;34m\u001b[0m\u001b[0;34m\u001b[0m\u001b[0m\n\u001b[0;32m-> 1666\u001b[0;31m         \u001b[0mlines\u001b[0m \u001b[0;34m=\u001b[0m \u001b[0;34m[\u001b[0m\u001b[0;34m*\u001b[0m\u001b[0mself\u001b[0m\u001b[0;34m.\u001b[0m\u001b[0m_get_lines\u001b[0m\u001b[0;34m(\u001b[0m\u001b[0;34m*\u001b[0m\u001b[0margs\u001b[0m\u001b[0;34m,\u001b[0m \u001b[0mdata\u001b[0m\u001b[0;34m=\u001b[0m\u001b[0mdata\u001b[0m\u001b[0;34m,\u001b[0m \u001b[0;34m**\u001b[0m\u001b[0mkwargs\u001b[0m\u001b[0;34m)\u001b[0m\u001b[0;34m]\u001b[0m\u001b[0;34m\u001b[0m\u001b[0;34m\u001b[0m\u001b[0m\n\u001b[0m\u001b[1;32m   1667\u001b[0m         \u001b[0;32mfor\u001b[0m \u001b[0mline\u001b[0m \u001b[0;32min\u001b[0m \u001b[0mlines\u001b[0m\u001b[0;34m:\u001b[0m\u001b[0;34m\u001b[0m\u001b[0;34m\u001b[0m\u001b[0m\n\u001b[1;32m   1668\u001b[0m             \u001b[0mself\u001b[0m\u001b[0;34m.\u001b[0m\u001b[0madd_line\u001b[0m\u001b[0;34m(\u001b[0m\u001b[0mline\u001b[0m\u001b[0;34m)\u001b[0m\u001b[0;34m\u001b[0m\u001b[0;34m\u001b[0m\u001b[0m\n",
      "\u001b[0;32m~/anaconda3/lib/python3.7/site-packages/matplotlib/axes/_base.py\u001b[0m in \u001b[0;36m__call__\u001b[0;34m(self, *args, **kwargs)\u001b[0m\n\u001b[1;32m    223\u001b[0m                 \u001b[0mthis\u001b[0m \u001b[0;34m+=\u001b[0m \u001b[0margs\u001b[0m\u001b[0;34m[\u001b[0m\u001b[0;36m0\u001b[0m\u001b[0;34m]\u001b[0m\u001b[0;34m,\u001b[0m\u001b[0;34m\u001b[0m\u001b[0;34m\u001b[0m\u001b[0m\n\u001b[1;32m    224\u001b[0m                 \u001b[0margs\u001b[0m \u001b[0;34m=\u001b[0m \u001b[0margs\u001b[0m\u001b[0;34m[\u001b[0m\u001b[0;36m1\u001b[0m\u001b[0;34m:\u001b[0m\u001b[0;34m]\u001b[0m\u001b[0;34m\u001b[0m\u001b[0;34m\u001b[0m\u001b[0m\n\u001b[0;32m--> 225\u001b[0;31m             \u001b[0;32myield\u001b[0m \u001b[0;32mfrom\u001b[0m \u001b[0mself\u001b[0m\u001b[0;34m.\u001b[0m\u001b[0m_plot_args\u001b[0m\u001b[0;34m(\u001b[0m\u001b[0mthis\u001b[0m\u001b[0;34m,\u001b[0m \u001b[0mkwargs\u001b[0m\u001b[0;34m)\u001b[0m\u001b[0;34m\u001b[0m\u001b[0;34m\u001b[0m\u001b[0m\n\u001b[0m\u001b[1;32m    226\u001b[0m \u001b[0;34m\u001b[0m\u001b[0m\n\u001b[1;32m    227\u001b[0m     \u001b[0;32mdef\u001b[0m \u001b[0mget_next_color\u001b[0m\u001b[0;34m(\u001b[0m\u001b[0mself\u001b[0m\u001b[0;34m)\u001b[0m\u001b[0;34m:\u001b[0m\u001b[0;34m\u001b[0m\u001b[0;34m\u001b[0m\u001b[0m\n",
      "\u001b[0;32m~/anaconda3/lib/python3.7/site-packages/matplotlib/axes/_base.py\u001b[0m in \u001b[0;36m_plot_args\u001b[0;34m(self, tup, kwargs)\u001b[0m\n\u001b[1;32m    389\u001b[0m             \u001b[0mx\u001b[0m\u001b[0;34m,\u001b[0m \u001b[0my\u001b[0m \u001b[0;34m=\u001b[0m \u001b[0mindex_of\u001b[0m\u001b[0;34m(\u001b[0m\u001b[0mtup\u001b[0m\u001b[0;34m[\u001b[0m\u001b[0;34m-\u001b[0m\u001b[0;36m1\u001b[0m\u001b[0;34m]\u001b[0m\u001b[0;34m)\u001b[0m\u001b[0;34m\u001b[0m\u001b[0;34m\u001b[0m\u001b[0m\n\u001b[1;32m    390\u001b[0m \u001b[0;34m\u001b[0m\u001b[0m\n\u001b[0;32m--> 391\u001b[0;31m         \u001b[0mx\u001b[0m\u001b[0;34m,\u001b[0m \u001b[0my\u001b[0m \u001b[0;34m=\u001b[0m \u001b[0mself\u001b[0m\u001b[0;34m.\u001b[0m\u001b[0m_xy_from_xy\u001b[0m\u001b[0;34m(\u001b[0m\u001b[0mx\u001b[0m\u001b[0;34m,\u001b[0m \u001b[0my\u001b[0m\u001b[0;34m)\u001b[0m\u001b[0;34m\u001b[0m\u001b[0;34m\u001b[0m\u001b[0m\n\u001b[0m\u001b[1;32m    392\u001b[0m \u001b[0;34m\u001b[0m\u001b[0m\n\u001b[1;32m    393\u001b[0m         \u001b[0;32mif\u001b[0m \u001b[0mself\u001b[0m\u001b[0;34m.\u001b[0m\u001b[0mcommand\u001b[0m \u001b[0;34m==\u001b[0m \u001b[0;34m'plot'\u001b[0m\u001b[0;34m:\u001b[0m\u001b[0;34m\u001b[0m\u001b[0;34m\u001b[0m\u001b[0m\n",
      "\u001b[0;32m~/anaconda3/lib/python3.7/site-packages/matplotlib/axes/_base.py\u001b[0m in \u001b[0;36m_xy_from_xy\u001b[0;34m(self, x, y)\u001b[0m\n\u001b[1;32m    268\u001b[0m         \u001b[0;32mif\u001b[0m \u001b[0mx\u001b[0m\u001b[0;34m.\u001b[0m\u001b[0mshape\u001b[0m\u001b[0;34m[\u001b[0m\u001b[0;36m0\u001b[0m\u001b[0;34m]\u001b[0m \u001b[0;34m!=\u001b[0m \u001b[0my\u001b[0m\u001b[0;34m.\u001b[0m\u001b[0mshape\u001b[0m\u001b[0;34m[\u001b[0m\u001b[0;36m0\u001b[0m\u001b[0;34m]\u001b[0m\u001b[0;34m:\u001b[0m\u001b[0;34m\u001b[0m\u001b[0;34m\u001b[0m\u001b[0m\n\u001b[1;32m    269\u001b[0m             raise ValueError(\"x and y must have same first dimension, but \"\n\u001b[0;32m--> 270\u001b[0;31m                              \"have shapes {} and {}\".format(x.shape, y.shape))\n\u001b[0m\u001b[1;32m    271\u001b[0m         \u001b[0;32mif\u001b[0m \u001b[0mx\u001b[0m\u001b[0;34m.\u001b[0m\u001b[0mndim\u001b[0m \u001b[0;34m>\u001b[0m \u001b[0;36m2\u001b[0m \u001b[0;32mor\u001b[0m \u001b[0my\u001b[0m\u001b[0;34m.\u001b[0m\u001b[0mndim\u001b[0m \u001b[0;34m>\u001b[0m \u001b[0;36m2\u001b[0m\u001b[0;34m:\u001b[0m\u001b[0;34m\u001b[0m\u001b[0;34m\u001b[0m\u001b[0m\n\u001b[1;32m    272\u001b[0m             raise ValueError(\"x and y can be no greater than 2-D, but have \"\n",
      "\u001b[0;31mValueError\u001b[0m: x and y must have same first dimension, but have shapes (1,) and (11,)"
     ]
    },
    {
     "data": {
      "image/png": "[encoded data removed]",
      "text/plain": [
       "<Figure size 720x288 with 1 Axes>"
      ]
     },
     "metadata": {
      "needs_background": "light"
     },
     "output_type": "display_data"
    }
   ],
   "source": [
    "fig = plt.figure(figsize=(10,4))\n",
    "plt.subplot(121)\n",
    "plt.plot(Vector_coherence,Prob_VIS,'o:',color='red')\n",
    "plt.plot(Vector_coherence,Prob_VEST,'o:',color='blue')\n",
    "\n",
    "plt.xlabel('Coherence')\n",
    "plt.ylabel('Probability')\n",
    "plt.xscale('log')\n",
    "plt.ylim(0,1)\n",
    "plt.subplot(122)\n",
    "plt.plot((Vector_coherence),RT_VIS_coh_hit,'o:',color='red',label=\"Visual Correct\")\n",
    "plt.plot((Vector_coherence),RT_VIS_coh_miss,'o:',fillstyle='none',color='red',label=\"Visual Incorrect\")\n",
    "plt.plot((Vector_coherence),RT_VEST_coh_hit,'o:',color='blue',label=\"Vestibular Correct\")\n",
    "plt.plot((Vector_coherence),RT_VEST_coh_miss,'o:',fillstyle='none',color='blue',label=\"Vestibular Incorrect\")\n",
    "\n",
    "\n",
    "plt.xscale('log')\n",
    "plt.legend()\n",
    "plt.ylim(0,1400)\n",
    "plt.xlabel('Coherence')\n",
    "plt.ylabel('Reaction Time')\n",
    "plt.savefig('Behavioural.png', bbox_inches='tight',dpi=300)\n",
    "plt.show()"
   ]
  },
  {
   "cell_type": "code",
   "execution_count": 1,
   "metadata": {},
   "outputs": [
    {
     "ename": "NameError",
     "evalue": "name 'plt' is not defined",
     "output_type": "error",
     "traceback": [
      "\u001b[0;31m---------------------------------------------------------------------------\u001b[0m",
      "\u001b[0;31mNameError\u001b[0m                                 Traceback (most recent call last)",
      "\u001b[0;32m<ipython-input-1-22dc87fe7402>\u001b[0m in \u001b[0;36m<module>\u001b[0;34m\u001b[0m\n\u001b[0;32m----> 1\u001b[0;31m \u001b[0mfig\u001b[0m \u001b[0;34m=\u001b[0m \u001b[0mplt\u001b[0m\u001b[0;34m.\u001b[0m\u001b[0mfigure\u001b[0m\u001b[0;34m(\u001b[0m\u001b[0mfigsize\u001b[0m\u001b[0;34m=\u001b[0m\u001b[0;34m(\u001b[0m\u001b[0;36m10\u001b[0m\u001b[0;34m,\u001b[0m\u001b[0;36m4\u001b[0m\u001b[0;34m)\u001b[0m\u001b[0;34m)\u001b[0m\u001b[0;34m\u001b[0m\u001b[0;34m\u001b[0m\u001b[0m\n\u001b[0m\u001b[1;32m      2\u001b[0m \u001b[0mplt\u001b[0m\u001b[0;34m.\u001b[0m\u001b[0msubplot\u001b[0m\u001b[0;34m(\u001b[0m\u001b[0;36m121\u001b[0m\u001b[0;34m)\u001b[0m\u001b[0;34m\u001b[0m\u001b[0;34m\u001b[0m\u001b[0m\n\u001b[1;32m      3\u001b[0m \u001b[0mplt\u001b[0m\u001b[0;34m.\u001b[0m\u001b[0mplot\u001b[0m\u001b[0;34m(\u001b[0m\u001b[0mTAU_VEST\u001b[0m\u001b[0;34m,\u001b[0m\u001b[0mProb_VIS\u001b[0m\u001b[0;34m,\u001b[0m\u001b[0;34m'o:'\u001b[0m\u001b[0;34m,\u001b[0m\u001b[0mcolor\u001b[0m\u001b[0;34m=\u001b[0m\u001b[0;34m'red'\u001b[0m\u001b[0;34m)\u001b[0m\u001b[0;34m\u001b[0m\u001b[0;34m\u001b[0m\u001b[0m\n\u001b[1;32m      4\u001b[0m \u001b[0mplt\u001b[0m\u001b[0;34m.\u001b[0m\u001b[0mplot\u001b[0m\u001b[0;34m(\u001b[0m\u001b[0mTAU_VEST\u001b[0m\u001b[0;34m,\u001b[0m\u001b[0mProb_VEST\u001b[0m\u001b[0;34m,\u001b[0m\u001b[0;34m'o:'\u001b[0m\u001b[0;34m,\u001b[0m\u001b[0mcolor\u001b[0m\u001b[0;34m=\u001b[0m\u001b[0;34m'blue'\u001b[0m\u001b[0;34m)\u001b[0m\u001b[0;34m\u001b[0m\u001b[0;34m\u001b[0m\u001b[0m\n\u001b[1;32m      5\u001b[0m \u001b[0;31m#plt.plot(Prob_VIS,'o:',color='red')\u001b[0m\u001b[0;34m\u001b[0m\u001b[0;34m\u001b[0m\u001b[0;34m\u001b[0m\u001b[0m\n",
      "\u001b[0;31mNameError\u001b[0m: name 'plt' is not defined"
     ]
    }
   ],
   "source": [
    "fig = plt.figure(figsize=(10,4))\n",
    "plt.subplot(121)\n",
    "plt.plot(TAU_VEST,Prob_VIS,'o:',color='red')\n",
    "plt.plot(TAU_VEST,Prob_VEST,'o:',color='blue')\n",
    "#plt.plot(Prob_VIS,'o:',color='red')\n",
    "#plt.plot(Prob_VEST,'o:',color='blue')\n",
    "plt.xlabel('Tau Vest')\n",
    "plt.ylabel('Probability')\n",
    "#plt.xscale('log')\n",
    "#plt.ylim(0,1)\n",
    "plt.subplot(122)\n",
    "plt.plot(TAU_VEST,RT_VIS_coh_hit,'o:',color='red',label=\"Visual Correct\")\n",
    "plt.plot(TAU_VEST,RT_VIS_coh_miss,'o:',fillstyle='none',color='red',label=\"Visual Incorrect\")\n",
    "plt.plot(TAU_VEST,RT_VEST_coh_hit,'o:',color='blue',label=\"Vestibular Correct\")\n",
    "plt.plot(TAU_VEST,RT_VEST_coh_miss,'o:',fillstyle='none',color='blue',label=\"Vestibular Incorrect\")\n",
    "\n",
    "\n",
    "#plt.xscale('log')\n",
    "plt.legend()\n",
    "plt.ylim(0,1400)\n",
    "plt.xlabel('Coherence')\n",
    "plt.ylabel('Reaction Time')\n",
    "plt.savefig('Tau_Multisensory_Behavioural.png', bbox_inches='tight',dpi=300)\n",
    "plt.show()"
   ]
  },
  {
   "cell_type": "code",
   "execution_count": 2,
   "metadata": {},
   "outputs": [
    {
     "ename": "NameError",
     "evalue": "name 'RT_VEST_coh_hit' is not defined",
     "output_type": "error",
     "traceback": [
      "\u001b[0;31m---------------------------------------------------------------------------\u001b[0m",
      "\u001b[0;31mNameError\u001b[0m                                 Traceback (most recent call last)",
      "\u001b[0;32m<ipython-input-2-e7811a5dd1c9>\u001b[0m in \u001b[0;36m<module>\u001b[0;34m\u001b[0m\n\u001b[0;32m----> 1\u001b[0;31m \u001b[0mRT_VEST_coh_hit\u001b[0m\u001b[0;34m\u001b[0m\u001b[0;34m\u001b[0m\u001b[0m\n\u001b[0m",
      "\u001b[0;31mNameError\u001b[0m: name 'RT_VEST_coh_hit' is not defined"
     ]
    }
   ],
   "source": [
    "RT_VEST_coh_hit"
   ]
  },
  {
   "cell_type": "code",
   "execution_count": 3,
   "metadata": {},
   "outputs": [
    {
     "ename": "NameError",
     "evalue": "name 'Prob_VEST' is not defined",
     "output_type": "error",
     "traceback": [
      "\u001b[0;31m---------------------------------------------------------------------------\u001b[0m",
      "\u001b[0;31mNameError\u001b[0m                                 Traceback (most recent call last)",
      "\u001b[0;32m<ipython-input-3-86ce16c9db7a>\u001b[0m in \u001b[0;36m<module>\u001b[0;34m\u001b[0m\n\u001b[0;32m----> 1\u001b[0;31m \u001b[0mProb_VEST\u001b[0m\u001b[0;34m\u001b[0m\u001b[0;34m\u001b[0m\u001b[0m\n\u001b[0m",
      "\u001b[0;31mNameError\u001b[0m: name 'Prob_VEST' is not defined"
     ]
    }
   ],
   "source": [
    "Prob_VEST"
   ]
  },
  {
   "cell_type": "code",
   "execution_count": 4,
   "metadata": {},
   "outputs": [
    {
     "ename": "NameError",
     "evalue": "name 'TAU_VEST' is not defined",
     "output_type": "error",
     "traceback": [
      "\u001b[0;31m---------------------------------------------------------------------------\u001b[0m",
      "\u001b[0;31mNameError\u001b[0m                                 Traceback (most recent call last)",
      "\u001b[0;32m<ipython-input-4-17a775e73b28>\u001b[0m in \u001b[0;36m<module>\u001b[0;34m\u001b[0m\n\u001b[0;32m----> 1\u001b[0;31m \u001b[0mTAU_VEST\u001b[0m\u001b[0;34m[\u001b[0m\u001b[0;36m0\u001b[0m\u001b[0;34m]\u001b[0m\u001b[0;34m\u001b[0m\u001b[0;34m\u001b[0m\u001b[0m\n\u001b[0m",
      "\u001b[0;31mNameError\u001b[0m: name 'TAU_VEST' is not defined"
     ]
    }
   ],
   "source": [
    "TAU_VEST[0]"
   ]
  },
  {
   "cell_type": "code",
   "execution_count": null,
   "metadata": {},
   "outputs": [],
   "source": [
    "TAU_VEST=np.arange(0.09,0.11,0.002)"
   ]
  },
  {
   "cell_type": "code",
   "execution_count": null,
   "metadata": {},
   "outputs": [],
   "source": [
    "TAU_VEST"
   ]
  },
  {
   "cell_type": "code",
   "execution_count": null,
   "metadata": {},
   "outputs": [],
   "source": []
  }
 ],
 "metadata": {
  "kernelspec": {
   "display_name": "Python 3 (ipykernel)",
   "language": "python",
   "name": "python3"
  },
  "language_info": {
   "codemirror_mode": {
    "name": "ipython",
    "version": 3
   },
   "file_extension": ".py",
   "mimetype": "text/x-python",
   "name": "python",
   "nbconvert_exporter": "python",
   "pygments_lexer": "ipython3",
   "version": "3.8.12"
  }
 },
 "nbformat": 4,
 "nbformat_minor": 1
}
