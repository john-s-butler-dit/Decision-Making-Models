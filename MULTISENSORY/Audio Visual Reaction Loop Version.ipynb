{
 "cells": [
  {
   "cell_type": "markdown",
   "metadata": {},
   "source": [
    "# Audio Visual Reaction Time Simulation\n",
    "This notebook use the decision making model by Wang and colleagues to simuate multisensry reaction time task.\n",
    "To simulate adu"
   ]
  },
  {
   "cell_type": "code",
   "execution_count": 1,
   "metadata": {},
   "outputs": [
    {
     "name": "stdout",
     "output_type": "stream",
     "text": [
      "3.8.8\n"
     ]
    }
   ],
   "source": [
    "from platform import python_version\n",
    "\n",
    "print(python_version())"
   ]
  },
  {
   "cell_type": "markdown",
   "metadata": {},
   "source": [
    "## Material and Methods\n",
    "### The two-variable network model"
   ]
  },
  {
   "cell_type": "markdown",
   "metadata": {},
   "source": [
    "### Calling Library Fuctions"
   ]
  },
  {
   "cell_type": "code",
   "execution_count": 1,
   "metadata": {},
   "outputs": [],
   "source": [
    "# LIBRARY\n",
    "\n",
    "import numpy as np # vector manipulation\n",
    "import math  # math functions\n",
    "import sys\n",
    "import pandas as pd\n",
    "from scipy.stats import ttest_ind\n",
    "# THIS IS FOR PLOTTING\n",
    "%matplotlib inline\n",
    "import matplotlib.pyplot as plt # side-stepping mpl backend\n",
    "import warnings\n",
    "warnings.filterwarnings(\"ignore\")\n"
   ]
  },
  {
   "cell_type": "markdown",
   "metadata": {},
   "source": [
    "### The Reduced Network Model"
   ]
  },
  {
   "cell_type": "code",
   "execution_count": 2,
   "metadata": {},
   "outputs": [],
   "source": [
    "def H(x):\n",
    "    a=270 # Hz/nA\n",
    "    b=108 # Hz\n",
    "    d=.154 # seconds\n",
    "    f=(a*x-b)/(1-np.exp(-d*(a*x-b)))\n",
    "    return f\n",
    "x=np.arange(-1,1,0.01)\n"
   ]
  },
  {
   "cell_type": "markdown",
   "metadata": {},
   "source": [
    "### Neural Circuit\n",
    "$$ x_{1}=J_{11}S_1-J_{12}S_2+J_{13}S_3-J_{14}S_4+I_{0}+I_{1}+I_{noise,1}$$\n",
    "$$ x_{2}=J_{22}S_2-J_{21}S_1+I_{0}+I_{2}+I_{noise,1}$$\n",
    "\n",
    "where the synaptic couplings are $J_{11}=0.2609$, $J_{22}=0.2609$, $J_{12}=0.0497$ and $J_{21}=0.0497$.\n",
    "$I_{0}=0.3255 nA$ represents external input \n"
   ]
  },
  {
   "cell_type": "code",
   "execution_count": 3,
   "metadata": {},
   "outputs": [],
   "source": [
    "def total_synaptic_current(S_1,S_2,S_3,S_4,I_1,I_2,I_noise_1,I_noise_2):\n",
    "    # Synaptic coupling\n",
    "    J_11=0.2609 # nA\n",
    "    J_22=0.2609 # nA\n",
    "    J_13=0*0.000497/np.sqrt(2) # nA\n",
    "    J_24=0*0.000497/np.sqrt(2) # nA\n",
    "  \n",
    "    J_12=0.0497 # nA\n",
    "    J_21=0.0497 # nA\n",
    "    I_0=0.3255  # nA\n",
    "    x_1=J_11*S_1-J_12*S_2+J_13*S_3+I_0+I_1+I_noise_1\n",
    "    x_2=J_22*S_2-J_21*S_1+J_24*S_4+I_0+I_2+I_noise_2\n",
    "    return x_1, x_2\n"
   ]
  },
  {
   "cell_type": "markdown",
   "metadata": {},
   "source": [
    "### Background activity\n",
    "$$ \\tau_{AMPA}\\frac{d I_{noise,i}(t)}{dt} =-I_{noise,i}(t)+\\eta_i(t)\\sqrt{\\tau_{AMPA}}\\sigma_{noise}$$"
   ]
  },
  {
   "cell_type": "code",
   "execution_count": 4,
   "metadata": {},
   "outputs": [],
   "source": [
    "def Background_Activity(I_noise):\n",
    "    h=0.1\n",
    "    sigma_noise=0.02 # nA\n",
    "    tau_AMPA=2 #ms\n",
    "    eta_noise=np.random.normal(0,1,1)\n",
    "    k=0#(-(I_noise)+eta_noise*np.sqrt(tau_AMPA)*sigma_noise)\n",
    "    I_noise_new=I_noise+h/tau_AMPA*(-(I_noise+h/2*k)+eta_noise\n",
    "                                *np.sqrt(tau_AMPA)*sigma_noise)\n",
    "    return I_noise_new"
   ]
  },
  {
   "cell_type": "markdown",
   "metadata": {},
   "source": [
    "### Network Dynamics\n",
    "$$ \\frac{d S_{i}}{dt} =-\\frac{S_{i}}{\\tau_S}+(1-S_{i})\\gamma H_{i}$$"
   ]
  },
  {
   "cell_type": "code",
   "execution_count": 5,
   "metadata": {},
   "outputs": [],
   "source": [
    "def Network_Dynamics_VIS(S,x):\n",
    "    h=0.1/1000 #ms\n",
    "    gamma=0.641\n",
    "    tau_S=.100 #s\n",
    "    k=(-S/tau_S+(1-S)*gamma*H(x)/1)\n",
    "    S_new=S+h*(-(S+h/2*k)/tau_S+(1-S+h/2*k)*gamma*H(x))\n",
    "    return S_new\n",
    "\n",
    "def Network_Dynamics_AUDIO(S,x):\n",
    "    h=0.1/1000 #ms\n",
    "    gamma=0.641\n",
    "    #tau_S=.10 #s\n",
    "    tau_S=.100 #s\n",
    "    k=(-S/tau_S+(1-S)*gamma*H(x)/1)\n",
    "    S_new=S+h*(-(S+h/2*k)/tau_S+(1-S+h/2*k)*gamma*H(x))\n",
    "    return S_new"
   ]
  },
  {
   "cell_type": "markdown",
   "metadata": {},
   "source": [
    "### Input Current Target\n",
    "\n",
    "$$ I_i=J_{A,ext}\\mu_0\\left(1+ \\frac{c'}{100} \\right) $$\n"
   ]
  },
  {
   "cell_type": "code",
   "execution_count": 6,
   "metadata": {},
   "outputs": [],
   "source": [
    "def I_input_1(c_dash):\n",
    "    J_A_ext=5.2/10000 # nA/Hz\n",
    "    mu_0=30 # Hz\n",
    "    I_motion=J_A_ext*mu_0*(1+(c_dash)/100)\n",
    "    return I_motion"
   ]
  },
  {
   "cell_type": "markdown",
   "metadata": {},
   "source": [
    "$$ I_2=J_{A,ext}\\mu_0\\left(1- \\frac{c'}{100} \\right) $$"
   ]
  },
  {
   "cell_type": "code",
   "execution_count": 7,
   "metadata": {},
   "outputs": [],
   "source": [
    "def I_input_2(c_dash):\n",
    "    J_A_ext=0.00052 # nA/Hz\n",
    "    mu_0=30 # Hz\n",
    "    I_motion=J_A_ext*mu_0*(1-(c_dash)/100)\n",
    "    return I_motion"
   ]
  },
  {
   "cell_type": "code",
   "execution_count": 8,
   "metadata": {},
   "outputs": [],
   "source": [
    "        \n",
    "def Reaction_Time_MULT(Firing_Rate_1,Firing_Rate_2,Firing_Rate_3,Firing_Rate_4,Threshold,time):\n",
    "    ANSWER=0\n",
    "    RT=0\n",
    "    count=0\n",
    "    if (Firing_Rate_1>=Threshold )| (Firing_Rate_3 >=Threshold): \n",
    "        ANSWER=1\n",
    "        RT=time\n",
    "        count=1\n",
    "    elif (Firing_Rate_2>=Threshold)|(Firing_Rate_4 >=Threshold):\n",
    "        ANSWER=0\n",
    "        RT=time\n",
    "        count=1\n",
    "    return ANSWER,RT,count"
   ]
  },
  {
   "cell_type": "code",
   "execution_count": 9,
   "metadata": {},
   "outputs": [],
   "source": [
    "def Reaction_Time_UNI(Firing_Rate_1,Firing_Rate_2,Threshold,time):\n",
    "    ANSWER=0\n",
    "    RT=0\n",
    "    count=0\n",
    "    if (Firing_Rate_1>=Threshold ): \n",
    "        ANSWER=1\n",
    "        RT=time\n",
    "        count=1\n",
    "    elif (Firing_Rate_2>=Threshold):\n",
    "        ANSWER=0\n",
    "        RT=time\n",
    "        count=1\n",
    "    return ANSWER,RT,count"
   ]
  },
  {
   "cell_type": "code",
   "execution_count": 10,
   "metadata": {},
   "outputs": [],
   "source": [
    "h=0.1\n",
    "time=np.arange(-100,1500,h)\n",
    "J_A_ext=0.00052 # nA/Hz\n",
    "mu_0=30 # Hz\n",
    "STIMULUS=[10.0]#,7.5,10.0,15.0]\n",
    "\n",
    "\n",
    "Threshold=20\n",
    "N=100\n",
    "\n",
    "\n",
    "ALL_F_1=0.2*np.ones((N,len(time)))\n",
    "ALL_F_2=0.2*np.ones((N,len(time)))\n",
    "I_VIS_EXCITE=0.0*np.ones(len(time)) # np.zeros((1,len(time)))\n",
    "I_VIS_INHIB=0.0*np.ones(len(time)) # np.zeros((1,len(time)))\n",
    "Firing_target_VIS_EXCITE=0*time # np.zeros((1,len(time)))\n",
    "Firing_target_VIS_INHIB=0*time # np.zeros((1,len(time)))\n",
    "Firing_target_AUDIO_EXCITE=0*time # np.zeros((1,len(time)))\n",
    "Firing_target_AUDIO_INHIB=0*time # np.zeros((1,len(time)))"
   ]
  },
  {
   "cell_type": "code",
   "execution_count": 11,
   "metadata": {},
   "outputs": [
    {
     "name": "stdout",
     "output_type": "stream",
     "text": [
      " n: 0\n",
      " n: 50\n"
     ]
    }
   ],
   "source": [
    "RT_AUDIO_coh_hit=[]\n",
    "RT_AUDIO_coh_miss=[]#np.zeros(len(Vector_coherence))\n",
    "Prob_AUDIO=[]#np.zeros(len(Vector_coherence))\n",
    "RT_VIS_coh_hit=[]#np.zeros(len(Vector_coherence))\n",
    "RT_VIS_coh_miss=[]#np.zeros(len(Vector_coherence))\n",
    "Prob_VIS=[]#np.zeros(len(Vector_coherence))\n",
    "\n",
    "\n",
    "\n",
    "j=0\n",
    "#for j in range(0,len(Vector_coherence)):\n",
    "for k in range(0,1):\n",
    "  \n",
    "    ANSWER_VIS=np.zeros(N)\n",
    "    RT_VIS=np.zeros(N)\n",
    "    ANSWER_AUDIO=np.zeros(N)\n",
    "    RT_AUDIO=np.zeros(N)\n",
    "    ANSWER_AV=np.zeros(N)\n",
    "    RT_AV=np.zeros(N)\n",
    "\n",
    "\n",
    "\n",
    "\n",
    "    for n in range(0,N):\n",
    "        if n%50==0:\n",
    "            print(' n: %d' %(n))\n",
    "        I_noise_VIS_EXCITE=0.001*np.random.normal(0,1,len(time))\n",
    "        I_noise_VIS_INHIB=0.001*np.random.normal(0,1,len(time))\n",
    "\n",
    "        x_VIS_EXCITE=J_A_ext*mu_0*np.random.uniform(0,1,len(time))\n",
    "        x_VIS_INHIB=J_A_ext*mu_0*np.random.uniform(0,1,len(time))\n",
    "        x_AUDIO_EXCITE=J_A_ext*mu_0*np.random.uniform(0,1,len(time))\n",
    "        x_AUDIO_INHIB=J_A_ext*mu_0*np.random.uniform(0,1,len(time))\n",
    "\n",
    "\n",
    "        S_VIS_EXCITE=0.2*np.ones(len(time))+0.01*np.random.normal(0,1,len(time))\n",
    "        S_VIS_INHIB=0.2*np.ones(len(time))+0.01*np.random.normal(0,1,len(time)) \n",
    "        S_AUDIO_EXCITE=0.2*np.ones(len(time))+0.01*np.random.normal(0,1,len(time))\n",
    "        S_AUDIO_INHIB=0.2*np.ones(len(time))+0.01*np.random.normal(0,1,len(time)) \n",
    "\n",
    "\n",
    " \n",
    "\n",
    "        Firing_target_VIS_EXCITE[0]=H(x_VIS_EXCITE[0])\n",
    "        Firing_target_VIS_INHIB[0]=H(x_VIS_INHIB[0])\n",
    "        Firing_target_AUDIO_EXCITE[0]=H(x_VIS_EXCITE[0])\n",
    "        Firing_target_AUDIO_INHIB[0]=H(x_VIS_INHIB[0])\n",
    "\n",
    "\n",
    "\n",
    "        count_AUDIO=0\n",
    "\n",
    "        count_VIS=0\n",
    "        count_AV=0\n",
    "        for i in range (0,len(time)-1):\n",
    "            if time[i] >=0 and time[i]<1000:\n",
    "                c_dash=STIMULUS[0]\n",
    "            else:\n",
    "                c_dash=0.0\n",
    "\n",
    "        \n",
    "            I_noise_VIS_EXCITE[i+1]=Background_Activity(I_noise_VIS_EXCITE[i])\n",
    "            I_noise_VIS_INHIB[i+1]=Background_Activity(I_noise_VIS_INHIB[i])\n",
    "\n",
    "            I_VIS_EXCITE[i+1]=I_input_1(c_dash)\n",
    "            I_VIS_INHIB[i+1]=I_input_1(-c_dash)\n",
    "\n",
    "            x_VIS_EXCITE[i+1],x_VIS_INHIB[i+1]=total_synaptic_current(S_VIS_EXCITE[i],S_VIS_INHIB[i],S_AUDIO_EXCITE[i],S_AUDIO_INHIB[i],I_VIS_EXCITE[i],I_VIS_INHIB[i],I_noise_VIS_EXCITE[i],I_noise_VIS_INHIB[i])\n",
    "            S_VIS_EXCITE[i+1]=Network_Dynamics_VIS(S_VIS_EXCITE[i],x_VIS_EXCITE[i+1])\n",
    "            S_VIS_INHIB[i+1]=Network_Dynamics_VIS(S_VIS_INHIB[i],x_VIS_INHIB[i+1])\n",
    "            Firing_target_VIS_EXCITE[i+1]=H(x_VIS_EXCITE[i+1])\n",
    "            Firing_target_VIS_INHIB[i+1]=H(x_VIS_INHIB[i+1])\n",
    "            \n",
    "            I_noise_VIS_EXCITE[i+1]=Background_Activity(I_noise_VIS_EXCITE[i])\n",
    "            I_noise_VIS_INHIB[i+1]=Background_Activity(I_noise_VIS_INHIB[i])\n",
    "            x_AUDIO_EXCITE[i+1],x_AUDIO_INHIB[i+1]=total_synaptic_current(S_AUDIO_EXCITE[i],S_AUDIO_INHIB[i],S_VIS_EXCITE[i],S_VIS_INHIB[i],I_VIS_EXCITE[i],I_VIS_INHIB[i],I_noise_VIS_EXCITE[i],I_noise_VIS_INHIB[i])\n",
    "            S_AUDIO_EXCITE[i+1]=Network_Dynamics_AUDIO(S_AUDIO_EXCITE[i],x_AUDIO_EXCITE[i+1])\n",
    "            S_AUDIO_INHIB[i+1]=Network_Dynamics_AUDIO(S_AUDIO_INHIB[i],x_AUDIO_INHIB[i+1])\n",
    "            Firing_target_AUDIO_EXCITE[i+1]=H(x_AUDIO_EXCITE[i+1])\n",
    "            Firing_target_AUDIO_INHIB[i+1]=H(x_AUDIO_INHIB[i+1])\n",
    "            \n",
    "            \n",
    "            if count_AV <0.5:\n",
    "                ANSWER_AV[n],RT_AV[n],count_AV=Reaction_Time_MULT(Firing_target_VIS_EXCITE[i],Firing_target_VIS_INHIB[i],Firing_target_AUDIO_EXCITE[i],Firing_target_AUDIO_INHIB[i],Threshold,time[i])\n",
    "            if count_VIS <0.5:\n",
    "                ANSWER_VIS[n],RT_VIS[n],count_VIS=Reaction_Time_UNI(Firing_target_VIS_EXCITE[i],Firing_target_VIS_INHIB[i],Threshold,time[i])\n",
    "            if count_AUDIO <0.5:\n",
    "                ANSWER_AUDIO[n],RT_AUDIO[n],count_AUDIO=Reaction_Time_UNI(Firing_target_AUDIO_EXCITE[i],Firing_target_AUDIO_INHIB[i],Threshold,time[i])\n",
    "\n",
    "\n",
    "\n",
    "            \n",
    "    \n",
    "#   RT_VIS_coh_hit.append(np.average(RT_VIS[ANSWER_VIS==1]))\n",
    "#    RT_VIS_coh_miss.append(np.average(RT_VIS[ANSWER_VIS==0]))\n",
    "#    Prob_VIS.append(np.average(ANSWER_VIS))\n",
    "#    RT_AUDIO_coh_hit.append(np.average(RT_AUDIO[ANSWER_AUDIO==1]))\n",
    "#    RT_AUDIO_coh_miss.append(np.average(RT_AUDIO[ANSWER_AUDIO==0]))\n",
    "#    Prob_AUDIO.append(np.average(ANSWER_AUDIO))"
   ]
  },
  {
   "cell_type": "code",
   "execution_count": 12,
   "metadata": {},
   "outputs": [
    {
     "data": {
      "image/png": "[encoded data removed]",
      "text/plain": [
       "<Figure size 720x288 with 2 Axes>"
      ]
     },
     "metadata": {
      "needs_background": "light"
     },
     "output_type": "display_data"
    }
   ],
   "source": [
    "fig = plt.figure(figsize=(10,4))\n",
    "plt.subplot(121)\n",
    "plt.plot(time,Firing_target_AUDIO_EXCITE.T)\n",
    "plt.plot(time,Firing_target_AUDIO_INHIB.T)\n",
    "plt.subplot(122)\n",
    "plt.plot(time,Firing_target_VIS_EXCITE.T)\n",
    "plt.plot(time,Firing_target_VIS_INHIB.T)\n",
    "plt.show()"
   ]
  },
  {
   "cell_type": "markdown",
   "metadata": {},
   "source": [
    "### Plotting\n",
    "#### Input"
   ]
  },
  {
   "cell_type": "code",
   "execution_count": 13,
   "metadata": {},
   "outputs": [
    {
     "data": {
      "image/png": "[encoded data removed]",
      "text/plain": [
       "<Figure size 720x288 with 3 Axes>"
      ]
     },
     "metadata": {
      "needs_background": "light"
     },
     "output_type": "display_data"
    },
    {
     "name": "stdout",
     "output_type": "stream",
     "text": [
      "490.2129999999665\n",
      "478.9949999999671\n"
     ]
    },
    {
     "data": {
      "text/plain": [
       "422.50099999997025"
      ]
     },
     "execution_count": 13,
     "metadata": {},
     "output_type": "execute_result"
    }
   ],
   "source": [
    "fig = plt.figure(figsize=(10,4))\n",
    "plt.subplot(131)\n",
    "plt.hist(RT_VIS)\n",
    "plt.vlines(np.mean(RT_VIS),0,70,color='red')\n",
    "plt.xlim(0,1000)\n",
    "\n",
    "plt.xlabel('Visual Reaction Time')\n",
    "plt.title('V')\n",
    "\n",
    "\n",
    "plt.subplot(132)\n",
    "plt.hist(RT_AUDIO)\n",
    "plt.xlabel('Audio Reaction Time')\n",
    "plt.vlines(np.mean(RT_AUDIO),0,70,color='red')\n",
    "plt.xlim(0,1000)\n",
    "\n",
    "\n",
    "\n",
    "plt.title('A')\n",
    "\n",
    "plt.subplot(133)\n",
    "plt.hist(RT_AV)\n",
    "plt.vlines(np.mean(RT_AV),0,70,color='red')\n",
    "plt.xlabel('AV Reaction Time')\n",
    "plt.title('AV')\n",
    "plt.xlim(0,1000)\n",
    "\n",
    "\n",
    "plt.savefig('AV_Behavioural.png', bbox_inches='tight',dpi=300)\n",
    "plt.show()\n",
    "print(np.mean(RT_AUDIO))\n",
    "print(np.mean(RT_VIS))\n",
    "\n",
    "np.mean(RT_AV)\n"
   ]
  },
  {
   "cell_type": "code",
   "execution_count": 14,
   "metadata": {},
   "outputs": [
    {
     "data": {
      "image/png": "[encoded data removed]",
      "text/plain": [
       "<Figure size 432x288 with 1 Axes>"
      ]
     },
     "metadata": {
      "needs_background": "light"
     },
     "output_type": "display_data"
    },
    {
     "data": {
      "text/plain": [
       "Ttest_indResult(statistic=3.3549286654200987, pvalue=0.0009514310078025887)"
      ]
     },
     "execution_count": 14,
     "metadata": {},
     "output_type": "execute_result"
    }
   ],
   "source": [
    "df=pd.DataFrame({'Audio': RT_AUDIO, 'Visual': RT_VIS,'AV':RT_AV})\n",
    "#from matplotlib import pyplot as plt\n",
    "\n",
    "fig = plt.figure(figsize=(6,4))\n",
    "ax=df.boxplot(grid=False, rot=45, fontsize=15)\n",
    "#fig.set_ylabel('RT')\n",
    "ax.set_ylabel('RT', fontsize=15)\n",
    "ax.set_ylim((0,1000))\n",
    "#df.boxplot(grid=False, rot=45, fontsize=15)\n",
    "plt.show()\n",
    "\n",
    "\n",
    "ttest_ind(df['Visual'],df['AV'])"
   ]
  },
  {
   "cell_type": "code",
   "execution_count": 15,
   "metadata": {},
   "outputs": [
    {
     "data": {
      "text/html": [
       "<div>\n",
       "<style scoped>\n",
       "    .dataframe tbody tr th:only-of-type {\n",
       "        vertical-align: middle;\n",
       "    }\n",
       "\n",
       "    .dataframe tbody tr th {\n",
       "        vertical-align: top;\n",
       "    }\n",
       "\n",
       "    .dataframe thead th {\n",
       "        text-align: right;\n",
       "    }\n",
       "</style>\n",
       "<table border=\"1\" class=\"dataframe\">\n",
       "  <thead>\n",
       "    <tr style=\"text-align: right;\">\n",
       "      <th></th>\n",
       "      <th>sum_sq</th>\n",
       "      <th>df</th>\n",
       "      <th>F</th>\n",
       "      <th>PR(&gt;F)</th>\n",
       "    </tr>\n",
       "  </thead>\n",
       "  <tbody>\n",
       "    <tr>\n",
       "      <th>C(condition)</th>\n",
       "      <td>2.634110e+05</td>\n",
       "      <td>2.0</td>\n",
       "      <td>6.936184</td>\n",
       "      <td>0.001137</td>\n",
       "    </tr>\n",
       "    <tr>\n",
       "      <th>Residual</th>\n",
       "      <td>5.639490e+06</td>\n",
       "      <td>297.0</td>\n",
       "      <td>NaN</td>\n",
       "      <td>NaN</td>\n",
       "    </tr>\n",
       "  </tbody>\n",
       "</table>\n",
       "</div>"
      ],
      "text/plain": [
       "                    sum_sq     df         F    PR(>F)\n",
       "C(condition)  2.634110e+05    2.0  6.936184  0.001137\n",
       "Residual      5.639490e+06  297.0       NaN       NaN"
      ]
     },
     "execution_count": 15,
     "metadata": {},
     "output_type": "execute_result"
    }
   ],
   "source": [
    "df_melt = pd.melt(df.reset_index(), id_vars=['index'], value_vars=['Audio', 'Visual', 'AV'])\n",
    "# replace column names\n",
    "df_melt.columns = ['index', 'condition', 'RT']\n",
    "\n",
    "# get ANOVA table as R like output\n",
    "import statsmodels.api as sm\n",
    "from statsmodels.formula.api import ols\n",
    "\n",
    "# Ordinary Least Squares (OLS) model\n",
    "model = ols('RT ~ C(condition)', data=df_melt).fit()\n",
    "anova_table = sm.stats.anova_lm(model, typ=2)\n",
    "anova_table"
   ]
  },
  {
   "cell_type": "markdown",
   "metadata": {},
   "source": [
    "## Reference\n",
    "Fearon, C., Butler, J. S., Newman, L., Lynch, T., & Reilly, R. B. (2015). Audiovisual processing is abnormal in Parkinson’s disease and correlates with freezing of gait and disease duration. Journal of Parkinson's disease, 5(4), 925-936."
   ]
  }
 ],
 "metadata": {
  "kernelspec": {
   "display_name": "Python 3",
   "language": "python",
   "name": "python3"
  },
  "language_info": {
   "codemirror_mode": {
    "name": "ipython",
    "version": 3
   },
   "file_extension": ".py",
   "mimetype": "text/x-python",
   "name": "python",
   "nbconvert_exporter": "python",
   "pygments_lexer": "ipython3",
   "version": "3.8.8"
  }
 },
 "nbformat": 4,
 "nbformat_minor": 1
}
