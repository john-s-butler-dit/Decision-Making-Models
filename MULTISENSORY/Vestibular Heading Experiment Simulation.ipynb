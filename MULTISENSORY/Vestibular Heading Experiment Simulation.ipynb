{
 "cells": [
  {
   "cell_type": "markdown",
   "metadata": {},
   "source": [
    "# A Recurrent Network Mechanism of Time Integration in Perceptual Decisions\n",
    "Wong,  Wang\n",
    "Journal of Neuroscience, January 2006, 26(4):1212-1328"
   ]
  },
  {
   "cell_type": "markdown",
   "metadata": {},
   "source": [
    "## Material and Methods\n",
    "### The two-variable network model"
   ]
  },
  {
   "cell_type": "markdown",
   "metadata": {},
   "source": [
    "### Calling Library Fuctions"
   ]
  },
  {
   "cell_type": "code",
   "execution_count": 1,
   "metadata": {},
   "outputs": [],
   "source": [
    "# LIBRARY\n",
    "\n",
    "import numpy as np # vector manipulation\n",
    "import math  # math functions\n",
    "import sys\n",
    "\n",
    "# THIS IS FOR PLOTTING\n",
    "%matplotlib inline\n",
    "import matplotlib.pyplot as plt # side-stepping mpl backend\n",
    "import warnings\n",
    "warnings.filterwarnings(\"ignore\")\n"
   ]
  },
  {
   "cell_type": "markdown",
   "metadata": {},
   "source": [
    "### The Reduced Network Model\n",
    "#### Firing rate\n",
    "$$ H_i=\\frac{a x_i-b}{(1-exp[-d(ax_i-b)]}$$\n",
    "\n",
    "#### Parameter values\n",
    "$$ a=207 (VnC)^{-1}; \\:\\:  b=108Hz; \\:\\:d=0.154s$$"
   ]
  },
  {
   "cell_type": "code",
   "execution_count": 2,
   "metadata": {},
   "outputs": [],
   "source": [
    "def H(x):\n",
    "    a=270 # Hz/nA\n",
    "    b=108 # Hz\n",
    "    d=.154 # seconds\n",
    "    f=(a*x-b)/(1-np.exp(-d*(a*x-b)))\n",
    "    return f\n",
    "x=np.arange(-1,1,0.01)\n"
   ]
  },
  {
   "cell_type": "markdown",
   "metadata": {},
   "source": [
    "### Neural Circuit\n",
    "$$ x_{1}=J_{11}S_1-J_{12}S_2+I_{0}+I_{1}+I_{noise,1}$$\n",
    "$$ x_{2}=J_{22}S_2-J_{21}S_1+I_{0}+I_{2}+I_{noise,1}$$\n",
    "\n",
    "where the synaptic couplings are $J_{11}=0.2609$, $J_{22}=0.2609$, $J_{12}=0.0497$ and $J_{21}=0.0497$.\n",
    "$I_{0}=0.3255 nA$ represents external input \n"
   ]
  },
  {
   "cell_type": "code",
   "execution_count": 3,
   "metadata": {},
   "outputs": [],
   "source": [
    "def total_synaptic_current(S_1,S_2,I_1,I_2,I_noise_1,I_noise_2):\n",
    "    # Synaptic coupling\n",
    "    J_11=0.2609 # nA\n",
    "    J_22=0.2609 # nA\n",
    "    J_12=0.0497 # nA\n",
    "    J_21=0.0497 # nA\n",
    "    I_0=0.3255  # nA\n",
    "    x_1=J_11*S_1-J_12*S_2+I_0+I_1+I_noise_1\n",
    "    x_2=J_22*S_2-J_21*S_1+I_0+I_2+I_noise_2\n",
    "    return x_1, x_2\n"
   ]
  },
  {
   "cell_type": "markdown",
   "metadata": {},
   "source": [
    "### Background activity\n",
    "$$ \\tau_{AMPA}\\frac{d I_{noise,i}(t)}{dt} =-I_{noise,i}(t)+\\eta_i(t)\\sqrt{\\tau_{AMPA}}\\sigma_{noise}$$  \n",
    "#### Parameter values\n",
    "$$ \\tau_{AMPA}=2ms; \\:\\: \\sigma_{noise}=0.02nA; \\:\\:\\eta- Gaussian \\ white \\ noise  $$\n",
    "#### Background activity is approximated in the code below using Euler's method (when k=0)\n",
    "$$ I_{noise,i+1}=I_{noise,i}+\\frac{h}{\\tau_{AMPA}}(-I_{noise,i}+\\eta_i\\sqrt{\\tau_{AMPA}}\\sigma)$$"
   ]
  },
  {
   "cell_type": "code",
   "execution_count": 1,
   "metadata": {},
   "outputs": [],
   "source": [
    "def Background_Activity(I_noise):\n",
    "    h=0.1\n",
    "    sigma_noise=0.02 # nA\n",
    "    tau_AMPA=2 #ms\n",
    "    eta_noise=np.random.normal(0,1,1) #Gaussian white noise\n",
    "    I_noise_new=I_noise+h/tau_AMPA*(-I_noise+eta_noise*np.sqrt(tau_AMPA)*sigma_noise) #numerical approximation\n",
    "    return I_noise_new"
   ]
  },
  {
   "cell_type": "markdown",
   "metadata": {},
   "source": [
    "### Network Dynamics\n",
    "### Network Dynamics\n",
    "$$ \\frac{d S_{i}}{dt} =-\\frac{S_{i}}{\\tau_S}+(1-S_{i})\\gamma H_{i}$$\n",
    "\n",
    "#### Parameter values\n",
    "$$\\tau_S=0.1s;  \\gamma=0.641$$\n",
    "\n",
    "#### Approximated below using Heun's method: \n",
    "Heun's Method: $y_{i+1} = y_{i} + \\frac{h}{2}(f(y_i) + f(y_i + hf(y_i)))$\n",
    "\n",
    "$$k=h(-\\frac{S}{\\tau_S}+(1-S)\\gamma H(x)$$\n",
    "$$S_{new}=S_i+h(-\\frac{S+\\frac{k_1}{2}}{\\tau_S}+(1-S+\\frac{k}{2})\\gamma H(x)$$"
   ]
  },
  {
   "cell_type": "code",
   "execution_count": 5,
   "metadata": {},
   "outputs": [],
   "source": [
    "def Network_Dynamics(S,x):\n",
    "    h=0.1/1000 #ms\n",
    "    gamma=0.641\n",
    "    tau_S=.1#100 #s\n",
    "    k=(-S/tau_S+(1-S)*gamma*H(x))\n",
    "    S_new=S+h*(-(S+h/2*k)/tau_S+(1-S+h/2*k)*gamma*H(x))\n",
    "    return S_new"
   ]
  },
  {
   "cell_type": "markdown",
   "metadata": {},
   "source": [
    "### Input Current Target\n",
    "\n",
    "$$ I_i=J_{A,ext}\\mu_0\\left(1+ \\frac{c'}{100} \\right) $$\n"
   ]
  },
  {
   "cell_type": "code",
   "execution_count": 6,
   "metadata": {},
   "outputs": [],
   "source": [
    "def I_input_1(c_dash):\n",
    "    J_A_ext=5.2/10000 # nA/Hz\n",
    "    mu_0=30 # Hz\n",
    "    I_motion=J_A_ext*mu_0*(1+(c_dash)/100)\n",
    "    return I_motion"
   ]
  },
  {
   "cell_type": "markdown",
   "metadata": {},
   "source": [
    "$$ I_2=J_{A,ext}\\mu_0\\left(1- \\frac{c'}{100} \\right) $$"
   ]
  },
  {
   "cell_type": "code",
   "execution_count": 7,
   "metadata": {},
   "outputs": [],
   "source": [
    "def I_input_2(c_dash):\n",
    "    J_A_ext=5.2/10000  # nA/Hz\n",
    "    mu_0=30 # Hz\n",
    "    I_motion=J_A_ext*mu_0*(1-(c_dash)/100)\n",
    "    return I_motion"
   ]
  },
  {
   "cell_type": "code",
   "execution_count": 8,
   "metadata": {},
   "outputs": [
    {
     "name": "stdout",
     "output_type": "stream",
     "text": [
      "Heading= -20.00 , n= 0\n",
      "Heading= -10.00 , n= 0\n",
      "Heading= -5.00 , n= 0\n",
      "Heading= -3.00 , n= 0\n",
      "Heading= -1.00 , n= 0\n",
      "Heading= 1.00 , n= 0\n",
      "Heading= 3.00 , n= 0\n",
      "Heading= 5.00 , n= 0\n",
      "Heading= 10.00 , n= 0\n",
      "Heading= 20.00 , n= 0\n"
     ]
    }
   ],
   "source": [
    "h=0.1\n",
    "time=np.arange(-100,1000,h)\n",
    "J_A_ext=5.2/10000 # nA/Hz\n",
    "mu_0=30 # Hz\n",
    "Vector_coherence=[1.0,3.0,5.0,7.5,10.0,15.0]\n",
    "#Vector_coherence=[1.0,3.0,5.0]\n",
    "Vector_coherence=[-20.0,-10.0,-5.0,-3.0,-1.0,1.0,3.0,5.0,10.0,20.0]\n",
    "#Vector_coherence=[20,10.0,3.0,1.0,-1.0,-3.0,-10.0]\n",
    "\n",
    "Threshold=15\n",
    "N=200\n",
    "RT_coh_hit=np.zeros(len(Vector_coherence))\n",
    "RT_coh_miss=np.zeros(len(Vector_coherence))\n",
    "\n",
    "RT_avg=np.zeros(len(Vector_coherence))\n",
    "\n",
    "Prob=np.zeros(len(Vector_coherence))\n",
    "count=0\n",
    "#fig = plt.figure(figsize=(12,8))\n",
    "\n",
    "ALL_F_1=0.2*np.ones((N,len(time)))\n",
    "ALL_F_2=0.2*np.ones((N,len(time)))\n",
    "I_1=0.0*np.ones(len(time)) # np.zeros((1,len(time)))\n",
    "I_2=0.0*np.ones(len(time)) # np.zeros((1,len(time)))\n",
    "Firing_target_1=0*time # np.zeros((1,len(time)))\n",
    "Firing_target_2=0*time # np.zeros((1,len(time)))\n",
    "\n",
    "\n",
    "\n",
    "\n",
    "for j in range(0,len(Vector_coherence)):\n",
    "    ANSWER=np.zeros(N)\n",
    "    RT=np.zeros(N)\n",
    "\n",
    "\n",
    "    for n in range(0,N):\n",
    "        if n%500==0:\n",
    "               print('Heading= %2.2f , n= %d' %(Vector_coherence[j],n))\n",
    "        I_noise_1=0.001*np.random.normal(0,1,len(time))\n",
    "        I_noise_2=0.001*np.random.normal(0,1,len(time))\n",
    "\n",
    "        x_1=J_A_ext*mu_0*np.random.uniform(0,1,len(time))\n",
    "        x_2=J_A_ext*mu_0*np.random.uniform(0,1,len(time))\n",
    "\n",
    "        S_1=0.2*np.ones(len(time))+0.01*np.random.normal(0,1,len(time))#0.1*np.random.uniform(0,1,len(time))# np.random.normal(0,1,len(time))*0.0004\n",
    "        S_2=0.2*np.ones(len(time))+0.01*np.random.normal(0,1,len(time)) #0.1*np.random.uniform(0,1,len(time)) #np.random.normal(0,1,len(time))*0.0004\n",
    "\n",
    " \n",
    "\n",
    "        Firing_target_1[0]=H(x_1[0])\n",
    "        Firing_target_2[0]=H(x_2[0])\n",
    "\n",
    "\n",
    "        count=0\n",
    "        for i in range (0,len(time)-1):\n",
    "            if time[i] >=0 and time[i]<1000:\n",
    "                c_dash=Vector_coherence[j]\n",
    "            else:\n",
    "                c_dash=0.0\n",
    "\n",
    "        \n",
    "            I_noise_1[i+1]=Background_Activity(I_noise_1[i])\n",
    "            I_noise_2[i+1]=Background_Activity(I_noise_2[i])\n",
    "\n",
    "            I_1[i+1]=I_input_1(c_dash)\n",
    "            I_2[i+1]=I_input_2(c_dash)\n",
    "\n",
    "            x_1[i+1],x_2[i+1]=total_synaptic_current(S_1[i],S_2[i],I_1[i],I_2[i],I_noise_1[i],I_noise_2[i])\n",
    "            S_1[i+1]=Network_Dynamics(S_1[i],x_1[i+1])\n",
    "            S_2[i+1]=Network_Dynamics(S_2[i],x_2[i+1])\n",
    "            Firing_target_1[i]=H(x_1[i])\n",
    "            Firing_target_2[i]=H(x_2[i])\n",
    "\n",
    "\n",
    "            if count <0.5:\n",
    "                if Firing_target_1[i] >=Threshold: \n",
    "                    ANSWER[n]=1\n",
    "                    RT[n]=time[i]\n",
    "                    count=1\n",
    "                if Firing_target_2[i] >=Threshold:\n",
    "                    ANSWER[n]=0\n",
    "                    RT[n]=time[i]\n",
    "                    count=1\n",
    "        if count <0.5:\n",
    "            if Firing_target_1[i] >=Firing_target_2[i]: \n",
    "                ANSWER[n]=1\n",
    "                RT[n]=time[-1]\n",
    "            else:\n",
    "                ANSWER[n]=1\n",
    "                RT[n]=time[-1]\n",
    "                                    \n",
    "    \n",
    "    Prob[j]=np.average(ANSWER)\n",
    "    RT_coh_hit[j]=np.average(RT[ANSWER==1])\n",
    "    RT_coh_miss[j]=np.average(RT[ANSWER==0])\n",
    "\n",
    "    RT_avg[j]=np.average(RT)\n",
    "\n"
   ]
  },
  {
   "cell_type": "markdown",
   "metadata": {},
   "source": [
    "### Plotting\n",
    "#### Input"
   ]
  },
  {
   "cell_type": "code",
   "execution_count": 9,
   "metadata": {
    "scrolled": true
   },
   "outputs": [
    {
     "data": {
      "image/png": "[encoded data removed]",
      "text/plain": [
       "<Figure size 576x288 with 1 Axes>"
      ]
     },
     "metadata": {
      "needs_background": "light"
     },
     "output_type": "display_data"
    }
   ],
   "source": [
    "fig = plt.figure(figsize=(8,4))\n",
    "\n",
    "plt.plot(time,Firing_target_1,'-',color='blue',label=\"Right\")\n",
    "plt.plot(time,Firing_target_2,'-',color='red',label=\"Left\")\n",
    "plt.grid()\n",
    "plt.xlabel('time(ms)')\n",
    "plt.ylabel('Firing Rate (Hz)')\n",
    "plt.xlim((-100,1000))\n",
    "plt.ylim((0,Threshold))\n",
    "plt.legend(bbox_to_anchor=(1.05, 1), loc=2, borderaxespad=0.)\n",
    "plt.savefig('Example_Firing_Pattern.png', bbox_inches='tight',dpi=300)\n",
    "\n",
    "# plt.\n",
    "#plt.ylim((30,50))\n",
    "plt.show()\n"
   ]
  },
  {
   "cell_type": "code",
   "execution_count": 10,
   "metadata": {
    "scrolled": true
   },
   "outputs": [
    {
     "data": {
      "image/png": "[encoded data removed]",
      "text/plain": [
       "<Figure size 720x288 with 2 Axes>"
      ]
     },
     "metadata": {
      "needs_background": "light"
     },
     "output_type": "display_data"
    }
   ],
   "source": [
    "from scipy.optimize import curve_fit\n",
    "from scipy.stats import norm\n",
    "\n",
    "\n",
    "\n",
    "\n",
    "#Vector_coh=[0.01,0.03,0.05,0.075,0.1,.15]\n",
    "\n",
    "mu,sigma=curve_fit(norm.cdf,Vector_coherence,Prob,p0=[0,1])[0]\n",
    "\n",
    "\n",
    "fig = plt.figure(figsize=(10,4))\n",
    "plt.subplot(121)\n",
    "plt.plot(Vector_coherence,Prob,'o:',label='Model data')\n",
    "#Vector_coh=np.arange(np.min(Vector_coherence),np.max(Vector_coherence),0.1)\n",
    "Vector_coh=np.arange(-20,20,0.1)\n",
    "\n",
    "#plt.plot(Vector_coh*100,func_temp(Vector_coh,*popr),'k',label='Fit: a= %0.4f, b= %0.4f'% tuple(popr))\n",
    "plt.plot(Vector_coh,norm.cdf(Vector_coh,mu,sigma),'k',label='Fit: mu= %2.4f, sigma= %2.4f'% (mu,sigma))\n",
    "\n",
    "plt.legend()\n",
    "\n",
    "\n",
    "\n",
    "plt.xlabel('Heading Angle')\n",
    "plt.ylabel('Probability')\n",
    "#plt.xscale('log')\n",
    "plt.ylim(0,1)\n",
    "plt.subplot(122)\n",
    "plt.plot((Vector_coherence),RT_coh_hit,'o:',fillstyle='none',color='blue',label=\"Right\")\n",
    "plt.plot((Vector_coherence),RT_coh_miss,'o:',fillstyle='none',color='red',label=\"Left\")\n",
    "plt.plot((Vector_coherence),RT_avg,'o:',color='black',label=\"AVG\")\n",
    "\n",
    "\n",
    "#plt.xscale('log')\n",
    "plt.legend()\n",
    "plt.ylim(0,1400)\n",
    "plt.xlabel('Heading Angle')\n",
    "plt.ylabel('Reaction Time')\n",
    "plt.savefig('Visual Heading Behavioural.png', bbox_inches='tight',dpi=300)\n",
    "plt.show()"
   ]
  },
  {
   "cell_type": "markdown",
   "metadata": {},
   "source": [
    "# Reference\n",
    "Butler, J. S., Smith, S. T., Campos, J. L., & Bülthoff, H. H. (2010). Bayesian integration of visual and vestibular signals for heading. Journal of vision, 10(11), 23-23.\n",
    "\n",
    "Gu, Y., Angelaki, D. E., & DeAngelis, G. C. (2008). Neural correlates of multisensory cue integration in macaque MSTd. Nature neuroscience, 11(10), 1201-1210."
   ]
  },
  {
   "cell_type": "code",
   "execution_count": null,
   "metadata": {},
   "outputs": [],
   "source": []
  }
 ],
 "metadata": {
  "kernelspec": {
   "display_name": "Python 3",
   "language": "python",
   "name": "python3"
  },
  "language_info": {
   "codemirror_mode": {
    "name": "ipython",
    "version": 3
   },
   "file_extension": ".py",
   "mimetype": "text/x-python",
   "name": "python",
   "nbconvert_exporter": "python",
   "pygments_lexer": "ipython3",
   "version": "3.8.3"
  }
 },
 "nbformat": 4,
 "nbformat_minor": 1
}
