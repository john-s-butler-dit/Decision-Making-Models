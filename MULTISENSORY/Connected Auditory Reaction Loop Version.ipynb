{
 "cells": [
  {
   "cell_type": "markdown",
   "metadata": {},
   "source": [
    "# Connected Audio Reaction Time Simulation\n",
    "This notebook use the decision making model by Wang and colleagues to simulate linear audio-visual reaction time task.\n"
   ]
  },
  {
   "cell_type": "code",
   "execution_count": 1,
   "metadata": {},
   "outputs": [
    {
     "name": "stdout",
     "output_type": "stream",
     "text": [
      "3.8.12\n"
     ]
    }
   ],
   "source": [
    "from platform import python_version\n",
    "\n",
    "print(python_version())"
   ]
  },
  {
   "cell_type": "markdown",
   "metadata": {},
   "source": [
    "## Material and Methods"
   ]
  },
  {
   "cell_type": "markdown",
   "metadata": {},
   "source": [
    "### Calling Library Fuctions"
   ]
  },
  {
   "cell_type": "code",
   "execution_count": 2,
   "metadata": {},
   "outputs": [],
   "source": [
    "# LIBRARY\n",
    "## DDM LIBRARY\n",
    "import ddm.plot\n",
    "from ddm import Model, Fittable\n",
    "from ddm.models import DriftConstant, NoiseConstant, BoundConstant, OverlayChain,OverlayNonDecision,OverlayPoissonMixture,BoundCollapsingExponential\n",
    "from ddm.functions import fit_adjust_model, display_model\n",
    "from ddm import Sample\n",
    "from ddm.plot import model_gui\n",
    "from ddm.models import LossRobustBIC\n",
    "from ddm.functions import fit_adjust_model, display_model\n",
    "\n",
    "\n",
    "## LIBRARIES\n",
    "import numpy as np # vector manipulation\n",
    "import math  # math functions\n",
    "import sys\n",
    "import pandas as pd\n",
    "from scipy.stats import ttest_ind\n",
    "# THIS IS FOR PLOTTING\n",
    "%matplotlib inline\n",
    "import matplotlib.pyplot as plt # side-stepping mpl backend\n",
    "import warnings\n",
    "warnings.filterwarnings(\"ignore\")\n",
    "\n",
    "# get ANOVA table as R like output\n",
    "import statsmodels.api as sm\n",
    "from statsmodels.formula.api import ols\n",
    "\n",
    "import ptitprince as pt\n",
    "import seaborn as sns"
   ]
  },
  {
   "cell_type": "markdown",
   "metadata": {},
   "source": [
    "## The Reduced Network Model\n",
    "\n",
    "The firing rate function, the input-output, \n",
    "$$ H(x)=\\frac{ax-b}{1-e^{-d(ax-b)}},$$\n",
    "a=270, b=108 and d=0.154."
   ]
  },
  {
   "cell_type": "code",
   "execution_count": 3,
   "metadata": {},
   "outputs": [],
   "source": [
    "def H(x):\n",
    "    a=270 # Hz/nA\n",
    "    b=108 # Hz\n",
    "    d=.154 # seconds\n",
    "    f=(a*x-b)/(1-np.exp(-d*(a*x-b)))\n",
    "    return f\n",
    "x=np.arange(-1,1,0.01)\n"
   ]
  },
  {
   "cell_type": "markdown",
   "metadata": {},
   "source": [
    "## Neural Circuit\n",
    "\n",
    "### Unisensory version\n",
    "$$ x_{1}=J_{11}S_1-J_{12}S_2+I_{0}+I_{1}+I_{noise,1}$$\n",
    "$$ x_{2}=J_{22}S_2-J_{21}S_1+I_{0}+I_{2}+I_{noise,1}$$\n",
    "\n",
    "where the synaptic couplings are $J_{11}=0.2609$, $J_{22}=0.2609$, $J_{12}=0.0497$ and $J_{21}=0.0497$.\n",
    "$I_{0}=0.3255 nA$ represents external input and $S_1$ and $S_2$ are the auditory activity $A_1$ and $A_2$ or visual activity $V_1$ and $V_2$.\n",
    "Where 1 is HIT and 2 in MISS\n",
    "\n",
    "\n",
    "### Multisensory version\n",
    "TO BE TESTED?\n",
    "$$ x_{HIT}=J_{11}(A_1+V_1)-J_{12}(A_2+V_2)+I_{0}+I_{1}+I_{noise,1}$$\n",
    "$$ x_{MISS}=J_{22}(A_2+V_2)-J_{21}(A_1+V_1)+I_{0}+I_{2}+I_{noise,1}$$\n",
    "\n"
   ]
  },
  {
   "cell_type": "code",
   "execution_count": 4,
   "metadata": {},
   "outputs": [],
   "source": [
    "def total_synaptic_current(S_1,S_2,I_1,I_2,I_noise_1,I_noise_2):\n",
    "    # Synaptic coupling\n",
    "    J_11=0.2609 # nA\n",
    "    J_22=0.2609 # nA\n",
    "  \n",
    "    J_12=0.0497 # nA\n",
    "    J_21=0.0497 # nA\n",
    "    I_0=0.3255  # nA\n",
    "    x_1=J_11*S_1-J_12*S_2+I_0+I_1+I_noise_1\n",
    "    x_2=J_22*S_2-J_21*S_1+I_0+I_2+I_noise_2\n",
    "    return x_1, x_2\n",
    "\n",
    "\n",
    "def MULTISENSORY_total_synaptic_current(A_1,A_2,V_1,V_2,I_1,I_2,I_noise_1,I_noise_2):\n",
    "    # Synaptic coupling\n",
    "    J_11=0.2609 # nA\n",
    "    J_22=0.2609 # nA\n",
    "    J_12=0.0497 # nA\n",
    "    J_21=0.0497 # nA\n",
    "    I_0=0.3255  # nA\n",
    "    W_A=100/100\n",
    "    W_V=1-W_A\n",
    "\n",
    "\n",
    "    x_1=J_11*(W_A*A_1+W_V*V_1)-J_12*(W_A*A_2+W_V*V_2)+I_0+I_1+I_noise_1\n",
    "    x_2=J_22*(W_A*A_2+W_V*V_2)-J_21*(W_A*A_1+W_V*V_1)+I_0+I_2+I_noise_2\n",
    "    return x_1, x_2\n",
    "\n"
   ]
  },
  {
   "cell_type": "markdown",
   "metadata": {},
   "source": [
    "### Background activity\n",
    "$$ \\tau_{AMPA}\\frac{d I_{noise,i}(t)}{dt} =-I_{noise,i}(t)+\\eta_i(t)\\sqrt{\\tau_{AMPA}}\\sigma_{noise}$$"
   ]
  },
  {
   "cell_type": "code",
   "execution_count": 5,
   "metadata": {},
   "outputs": [],
   "source": [
    "def Background_Activity(I_noise):\n",
    "    h=0.1\n",
    "    sigma_noise=0.02 # nA\n",
    "    tau_AMPA=2 #ms\n",
    "    eta_noise=np.random.normal(0,1,1)\n",
    "    k=0#(-(I_noise)+eta_noise*np.sqrt(tau_AMPA)*sigma_noise)\n",
    "    I_noise_new=I_noise+h/tau_AMPA*(-(I_noise+h/2*k)+eta_noise\n",
    "                                *np.sqrt(tau_AMPA)*sigma_noise)\n",
    "    return I_noise_new"
   ]
  },
  {
   "cell_type": "markdown",
   "metadata": {},
   "source": [
    "### Network Dynamics\n",
    "$$ \\frac{d S_{i}}{dt} =-\\frac{S_{i}}{\\tau_S}+(1-S_{i})\\gamma H_{i}$$"
   ]
  },
  {
   "cell_type": "code",
   "execution_count": 6,
   "metadata": {},
   "outputs": [],
   "source": [
    "def Network_Dynamics_VIS(S,x,tau_S=0.1):\n",
    "    h=0.1/1000 #ms\n",
    "    gamma=0.641\n",
    "    k=(-S/tau_S+(1-S)*gamma*H(x)/1)\n",
    "    S_new=S+h*(-(S+h/2*k)/tau_S+(1-S+h/2*k)*gamma*H(x))\n",
    "    return S_new\n",
    "\n",
    "def Network_Dynamics_AUDIO(S,x,tau_S=0.1):\n",
    "    h=0.1/1000 #ms\n",
    "    gamma=0.641\n",
    "    #tau_S=.10 #s\n",
    "    k=(-S/tau_S+(1-S)*gamma*H(x)/1)\n",
    "    S_new=S+h*(-(S+h/2*k)/tau_S+(1-S+h/2*k)*gamma*H(x))\n",
    "    return S_new\n",
    "\n",
    "def Network_Dynamics_AV(S,x,tau_S=0.1):\n",
    "    h=0.1/1000 #ms\n",
    "    gamma=0.641\n",
    "    #tau_S=.10 #s\n",
    "    k=(-S/tau_S+(1-S)*gamma*H(x)/1)\n",
    "    S_new=S+h*(-(S+h/2*k)/tau_S+(1-S+h/2*k)*gamma*H(x))\n",
    "    return S_new"
   ]
  },
  {
   "cell_type": "markdown",
   "metadata": {},
   "source": [
    "### Input Current Target\n",
    "$c'$ is coherence in this formula but we use $c'$ as strenght of stimulus\n",
    "$$ I_i=J_{A,ext}\\mu_0\\left(1+ \\frac{c'}{100} \\right) $$\n",
    "default at 10 is close to 100 % hits but not quiet"
   ]
  },
  {
   "cell_type": "code",
   "execution_count": 7,
   "metadata": {},
   "outputs": [],
   "source": [
    "def I_input_1(c_dash):\n",
    "    J_A_ext=5.2/10000 # nA/Hz\n",
    "    mu_0=30 # Hz\n",
    "    I_motion=J_A_ext*mu_0*(1+(c_dash)/100)\n",
    "    return I_motion"
   ]
  },
  {
   "cell_type": "markdown",
   "metadata": {},
   "source": [
    "$$ I_2=J_{A,ext}\\mu_0\\left(1- \\frac{c'}{100} \\right) $$"
   ]
  },
  {
   "cell_type": "code",
   "execution_count": 8,
   "metadata": {},
   "outputs": [],
   "source": [
    "def I_input_2(c_dash):\n",
    "    J_A_ext=0.00052 # nA/Hz\n",
    "    mu_0=30 # Hz\n",
    "    I_motion=J_A_ext*mu_0*(1-(c_dash)/100)\n",
    "    return I_motion"
   ]
  },
  {
   "cell_type": "markdown",
   "metadata": {},
   "source": [
    "## Reaction Time Function\n",
    "This function detects when firing rate goes above Threshold.\n",
    "It takes in Firing rate for HIT and MISS, threshold and time, it returns ANSWER, Reation Time (RT) and count.\n",
    "If count =1 there has been a response if count =0 no response.\n"
   ]
  },
  {
   "cell_type": "code",
   "execution_count": 9,
   "metadata": {},
   "outputs": [],
   "source": [
    "def Reaction_Time_UNI(Firing_Rate_1,Firing_Rate_2,Threshold,time):\n",
    "    ANSWER=0\n",
    "    RT=0\n",
    "    count=0\n",
    "    if (Firing_Rate_1>=Threshold ): \n",
    "        ANSWER=1\n",
    "        RT=time\n",
    "        count=1\n",
    "    elif (Firing_Rate_2>=Threshold):\n",
    "        ANSWER=0\n",
    "        RT=time\n",
    "        count=1\n",
    "    return ANSWER,RT,count     \n"
   ]
  },
  {
   "cell_type": "markdown",
   "metadata": {},
   "source": [
    "## Multisensory Winner Take All\n",
    "The function takes in both Audio and Visual activity and checks which pass threshold."
   ]
  },
  {
   "cell_type": "code",
   "execution_count": 10,
   "metadata": {},
   "outputs": [],
   "source": [
    "def Reaction_Time_MULT(FR_Audio_HIT,Firing_Rate_2,FR_Video_HIT,Firing_Rate_4,Threshold,time):\n",
    "    ANSWER=0\n",
    "    RT=0\n",
    "    count=0\n",
    "    if (FR_Audio_HIT>=Threshold )| (FR_Video_HIT >=Threshold): \n",
    "        ANSWER=1\n",
    "        RT=time\n",
    "        count=1\n",
    "    elif (Firing_Rate_2>=Threshold)|(Firing_Rate_4 >=Threshold):\n",
    "        ANSWER=0\n",
    "        #RT=time\n",
    "        count=1\n",
    "    return ANSWER,RT,count"
   ]
  },
  {
   "cell_type": "markdown",
   "metadata": {},
   "source": [
    "## Setting up time\n",
    "Each epoch (trial) is between -100 ms and 1500ms.\n",
    "The Threshold is set to 20 Hz."
   ]
  },
  {
   "cell_type": "code",
   "execution_count": 11,
   "metadata": {},
   "outputs": [],
   "source": [
    "h=0.1\n",
    "time=np.arange(-500,4500,h)\n",
    "J_A_ext=0.00052 # nA/Hz\n",
    "mu_0=30 # Hz\n",
    "STIMULUS=[12.0]#,7.5,10.0,15.0]\n",
    "Threshold=20"
   ]
  },
  {
   "cell_type": "markdown",
   "metadata": {},
   "source": [
    "# Parameters\n",
    "* K is number of \"participants\"\n",
    "* N is number of trials"
   ]
  },
  {
   "cell_type": "code",
   "execution_count": 12,
   "metadata": {},
   "outputs": [],
   "source": [
    "K=1\n",
    "N=2\n",
    "\n",
    "RT_AUDIO_coh_hit=[]\n",
    "RT_AUDIO_coh_miss=[]#np.zeros(len(Vector_coherence))\n",
    "Prob_AUDIO=[]#np.zeros(len(Vector_coherence))\n",
    "RT_VIS_coh_hit=[]#np.zeros(len(Vector_coherence))\n",
    "RT_VIS_coh_miss=[]#np.zeros(len(Vector_coherence))\n",
    "Prob_VIS=[]#np.zeros(len(Vector_coherence))\n",
    "\n",
    "\n",
    "GROUP_RT=np.zeros((3,K))\n",
    "GROUP_ACC=np.zeros((3,K))\n",
    "ALL_F_1=0.2*np.ones((N,len(time)))\n",
    "ALL_F_2=0.2*np.ones((N,len(time)))\n",
    "I_VIS_HIT=0.0*np.ones(len(time)) \n",
    "I_VIS_MISS=0.0*np.ones(len(time)) \n",
    "I_AUDIO_HIT=0.0*np.ones(len(time)) \n",
    "I_AUDIO_MISS=0.0*np.ones(len(time)) \n",
    "\n",
    "Firing_target_VIS_HIT=0*time # np.zeros((1,len(time)))\n",
    "Firing_target_VIS_MISS=0*time # np.zeros((1,len(time)))\n",
    "Firing_target_AUDIO_HIT=0*time # np.zeros((1,len(time)))\n",
    "Firing_target_AUDIO_MISS=0*time # np.zeros((1,len(time)))\n",
    "Firing_target_AV_HIT=0*time # np.zeros((1,len(time)))\n",
    "Firing_target_AV_MISS=0*time # np.zeros((1,len(time)))"
   ]
  },
  {
   "cell_type": "markdown",
   "metadata": {},
   "source": [
    "Setting up group data"
   ]
  },
  {
   "cell_type": "code",
   "execution_count": 13,
   "metadata": {},
   "outputs": [],
   "source": [
    "AV_Drift=np.zeros(K)\n",
    "V_Drift=np.zeros(K)\n",
    "A_Drift=np.zeros(K)\n",
    "Pred_Drift=np.zeros(K)\n",
    "\n",
    "\n",
    "AV_time_delay=np.zeros(K)\n",
    "V_time_delay=np.zeros(K)\n",
    "A_time_delay=np.zeros(K)\n"
   ]
  },
  {
   "cell_type": "markdown",
   "metadata": {},
   "source": [
    "### Participant Variability\n",
    "Here each participant gets their own audio time constant $\\tau_A$ which is chosen randomly from a flat distribution from $(0.007, 0.013)$.\n",
    "For simplicities sake $\\tau_V=0.009$ and held constant for all participants."
   ]
  },
  {
   "cell_type": "code",
   "execution_count": 14,
   "metadata": {},
   "outputs": [],
   "source": [
    "TAU_AUDIO=np.random.uniform(low=0.07, high=0.13, size=K)\n"
   ]
  },
  {
   "cell_type": "markdown",
   "metadata": {},
   "source": [
    "### The DDM function\n",
    "\"Participants\" Audio, Visual and Audio-Visual Reaction time and accuracy data are each submitted inturn to the general drift diffusion model to fit a drift rate (k) and time delay ($\\tau_{r}$).\n",
    "* Drift range is between 5 and 14.\n",
    "* Noise is set to 1.5 (standard)\n",
    "* Bound is set to 2.5\n",
    "For a simple reaction time the drift rate for combination of sense is predicted by \n",
    "$$ \\hat{k}_{AV}=\\sqrt{k_A^2+k_V^2},$$\n",
    "where $k_A$ and $k_V$ are the audio and visual drift rates and $\\hat{k}_{AV}$ is the predicted drift rate."
   ]
  },
  {
   "cell_type": "code",
   "execution_count": 15,
   "metadata": {},
   "outputs": [],
   "source": [
    "def DDM_FIT(RT,ANSWER):\n",
    "    df=[]\n",
    "    \n",
    "    # RT is scalles to seconds, the function takes seconds\n",
    "    df=pd.DataFrame({'RT': RT/1000, 'correct': ANSWER})\n",
    "    df.head()\n",
    "    sample = Sample.from_pandas_dataframe(df, rt_column_name=\"RT\",\n",
    "                                                  correct_column_name=\"correct\")\n",
    "    model = Model(name='Model',\n",
    "                      drift=DriftConstant(drift=Fittable(minval=10, maxval=33)),\n",
    "                      noise=NoiseConstant(noise=1.5),\n",
    "                      bound=BoundConstant(B=2.5),\n",
    "                      overlay=OverlayChain(overlays=[OverlayNonDecision(nondectime=Fittable(minval=0, maxval=.8)),\n",
    "                                                    OverlayPoissonMixture(pmixturecoef=.02,\n",
    "                                                                          rate=1)]),\n",
    "                      dx=.001, dt=.01, T_dur=2)\n",
    "\n",
    "    # Fitting this will also be fast because PyDDM can automatically\n",
    "    # determine that DriftCoherence will allow an analytical solution.\n",
    "    fit_model = fit_adjust_model(sample=sample, model=model,fitting_method=\"differential_evolution\",\n",
    "                     lossfunction=LossRobustBIC,verbose=False)\n",
    "\n",
    "    param=fit_model.get_model_parameters()\n",
    "\n",
    "    Drift=np.asarray(param[0])\n",
    "    Delay=np.asarray(param[1])\n",
    "  \n",
    "    return Drift,Delay"
   ]
  },
  {
   "cell_type": "markdown",
   "metadata": {},
   "source": [
    "## Main Function\n",
    "Three loops, Participant (k and K), Trials (n and N) and time (i)."
   ]
  },
  {
   "cell_type": "code",
   "execution_count": 16,
   "metadata": {},
   "outputs": [
    {
     "name": "stdout",
     "output_type": "stream",
     "text": [
      "k: 0 of 1 n: 0 of 2\n"
     ]
    }
   ],
   "source": [
    "## PARTICIPANT LOOP\n",
    "for k in range(0,K):\n",
    "  # SETTING UP INDIVIDUAL RTS and ANSWERS (HIT 1 and MISS 0)\n",
    "    ANSWER_VIS=np.zeros(N)\n",
    "    RT_VIS=np.zeros(N)\n",
    "    ANSWER_AUDIO=np.zeros(N)\n",
    "    RT_AUDIO=np.zeros(N)\n",
    "    ANSWER_AV=np.zeros(N)\n",
    "    RT_AV=np.zeros(N)\n",
    "\n",
    "\n",
    "    tau_audio=TAU_AUDIO[k] ## PARTICIPANT TAU\n",
    "    \n",
    "    for n in range(0,N): # TRIAL LOOP\n",
    "        if n%50==0:\n",
    "            print('k: %d of %d n: %d of %d' %(k,K,n,N))\n",
    "        I_noise_VIS_HIT=0.001*np.random.normal(0,1,len(time))\n",
    "        I_noise_VIS_MISS=0.001*np.random.normal(0,1,len(time))\n",
    "\n",
    "        I_noise_AUDIO_HIT=0.001*np.random.normal(0,1,len(time))\n",
    "        I_noise_AUDIO_MISS=0.001*np.random.normal(0,1,len(time))\n",
    "\n",
    "\n",
    "        x_VIS_HIT=J_A_ext*mu_0*np.random.uniform(0,1,len(time))\n",
    "        x_VIS_MISS=J_A_ext*mu_0*np.random.uniform(0,1,len(time))\n",
    "        x_AUDIO_HIT=J_A_ext*mu_0*np.random.uniform(0,1,len(time))\n",
    "        x_AUDIO_MISS=J_A_ext*mu_0*np.random.uniform(0,1,len(time))\n",
    "        x_AV_HIT=J_A_ext*mu_0*np.random.uniform(0,1,len(time))\n",
    "        x_AV_MISS=J_A_ext*mu_0*np.random.uniform(0,1,len(time))\n",
    "\n",
    "\n",
    "\n",
    "        S_VIS_HIT=0.2*np.ones(len(time))+0.01*np.random.normal(0,1,len(time))\n",
    "        S_VIS_MISS=0.2*np.ones(len(time))+0.01*np.random.normal(0,1,len(time)) \n",
    "        S_AUDIO_HIT=0.2*np.ones(len(time))+0.01*np.random.normal(0,1,len(time))\n",
    "        S_AUDIO_MISS=0.2*np.ones(len(time))+0.01*np.random.normal(0,1,len(time)) \n",
    "\n",
    "\n",
    " \n",
    "\n",
    "        Firing_target_VIS_HIT[0]=H(x_VIS_HIT[0])\n",
    "        Firing_target_VIS_MISS[0]=H(x_VIS_MISS[0])\n",
    "        Firing_target_AUDIO_HIT[0]=H(x_VIS_HIT[0])\n",
    "        Firing_target_AUDIO_MISS[0]=H(x_VIS_MISS[0])\n",
    "        Firing_target_AV_HIT[0]=H(x_VIS_HIT[0])\n",
    "        Firing_target_AV_MISS[0]=H(x_VIS_MISS[0])\n",
    "\n",
    "\n",
    "        x_VIS_HIT,x_VIS_MISS=MULTISENSORY_total_synaptic_current(S_VIS_HIT,S_VIS_MISS,\n",
    "                                                                 S_AUDIO_HIT,\n",
    "                                                                          S_AUDIO_MISS,\n",
    "                                                                      I_VIS_HIT,I_VIS_MISS,\n",
    "                                                                      I_noise_VIS_HIT,\n",
    "                                                                      I_noise_VIS_MISS)\n",
    "        x_AUDIO_HIT,x_AUDIO_MISS=MULTISENSORY_total_synaptic_current(S_AUDIO_HIT,\n",
    "                                                                          S_AUDIO_MISS,\n",
    "                                                                     S_VIS_HIT,S_VIS_MISS,\n",
    "                                                                          I_AUDIO_HIT,\n",
    "                                                                          I_AUDIO_MISS,\n",
    "                                                                          I_noise_AUDIO_HIT,\n",
    "                                                                          I_noise_AUDIO_MISS)\n",
    "\n",
    "        count_AUDIO=0\n",
    "        count_VIS=0\n",
    "        count_AV=0\n",
    "\n",
    "\n",
    "\n",
    "        \n",
    "        # TIME LOOP\n",
    "        for i in range (0,len(time)-1):\n",
    "            if time[i] >=0 and time[i]<500:\n",
    "                c_dash=STIMULUS[0]\n",
    "                I_VIS_HIT[i+1]=I_input_1(0) # VISUAL HIT INPUT\n",
    "                I_VIS_MISS[i+1]=I_input_1(-0) # VISUAL MISS INPUT\n",
    "                I_AUDIO_HIT[i+1]=I_input_1(c_dash) # AUDITORY HIT INPUT\n",
    "                I_AUDIO_MISS[i+1]=I_input_1(-c_dash) # AUDITORY MISS INPUT\n",
    "\n",
    "            elif time[i] >=500 and time[i]<1000:\n",
    "                c_dash=STIMULUS[0]\n",
    "                I_VIS_HIT[i+1]=I_input_1(0) # VISUAL HIT INPUT\n",
    "                I_VIS_MISS[i+1]=I_input_1(-0) # VISUAL MISS INPUT\n",
    "                I_AUDIO_HIT[i+1]=I_input_1(-c_dash) # AUDITORY HIT INPUT\n",
    "                I_AUDIO_MISS[i+1]=I_input_1(c_dash) # AUDITORY MISS INPUT\n",
    "\n",
    "\n",
    "\n",
    "            else:\n",
    "                c_dash=0.0\n",
    "                I_VIS_HIT[i+1]=I_input_1(0) # VISUAL HIT INPUT\n",
    "                I_VIS_MISS[i+1]=I_input_1(-0) # VISUAL MISS INPUT\n",
    "                I_AUDIO_HIT[i+1]=I_input_1(-c_dash) # AUDITORY HIT INPUT\n",
    "                I_AUDIO_MISS[i+1]=I_input_1(+c_dash) # AUDITORY MISS INPUT\n",
    "\n",
    "\n",
    "\n",
    "        \n",
    "            I_noise_VIS_HIT[i+1]=Background_Activity(I_noise_VIS_HIT[i])\n",
    "            I_noise_VIS_MISS[i+1]=Background_Activity(I_noise_VIS_MISS[i])\n",
    "         \n",
    "         \n",
    "            S_VIS_HIT[i+1]=Network_Dynamics_VIS(S_VIS_HIT[i],x_VIS_HIT[i])\n",
    "            S_VIS_MISS[i+1]=Network_Dynamics_VIS(S_VIS_MISS[i],x_VIS_MISS[i])\n",
    "            \n",
    "            \n",
    "            \n",
    "\n",
    "            I_noise_AUDIO_HIT[i+1]=Background_Activity(I_noise_AUDIO_HIT[i])\n",
    "            I_noise_AUDIO_MISS[i+1]=Background_Activity(I_noise_AUDIO_MISS[i])\n",
    "            \n",
    "\n",
    "            S_AUDIO_HIT[i+1]=Network_Dynamics_AUDIO(S_AUDIO_HIT[i],x_AUDIO_HIT[i])\n",
    "            S_AUDIO_MISS[i+1]=Network_Dynamics_AUDIO(S_AUDIO_MISS[i],x_AUDIO_MISS[i])\n",
    "            \n",
    "            \n",
    "            x_VIS_HIT[i+1],x_VIS_MISS[i+1]=MULTISENSORY_total_synaptic_current( S_VIS_HIT[i+1],\n",
    "                                                                          S_VIS_MISS[i+1],\n",
    "                                                                          S_AUDIO_HIT[i+1],\n",
    "                                                                          S_AUDIO_MISS[i+1],\n",
    "                                                                          I_VIS_HIT[i+1],\n",
    "                                                                          I_VIS_MISS[i+1],\n",
    "                                                                          I_noise_AUDIO_HIT[i+1],\n",
    "                                                                          I_noise_AUDIO_MISS[i+1])\n",
    "                        \n",
    "            x_AUDIO_HIT[i+1],x_AUDIO_MISS[i+1]=MULTISENSORY_total_synaptic_current(S_AUDIO_HIT[i+1],\n",
    "                                                                          S_AUDIO_MISS[i+1],\n",
    "                                                                          S_VIS_HIT[i+1],\n",
    "                                                                          S_VIS_MISS[i+1],\n",
    "                                                                          I_AUDIO_HIT[i+1],\n",
    "                                                                          I_AUDIO_MISS[i+1],\n",
    "                                                                          I_noise_AUDIO_HIT[i+1],\n",
    "                                                                          I_noise_AUDIO_MISS[i+1])\n",
    "           \n",
    "            \n",
    "           \n",
    "            Firing_target_AUDIO_HIT[i+1]=H(x_AUDIO_HIT[i+1])\n",
    "            Firing_target_AUDIO_MISS[i+1]=H(x_AUDIO_MISS[i+1])\n",
    "            Firing_target_VIS_HIT[i+1]=H(x_VIS_HIT[i+1])\n",
    "            Firing_target_VIS_MISS[i+1]=H(x_VIS_MISS[i+1])\n",
    "            x_AV_HIT[i+1],x_AV_MISS[i+1]=MULTISENSORY_total_synaptic_current(S_AUDIO_HIT[i+1],\n",
    "                                                                          S_AUDIO_MISS[i+1],\n",
    "                                                                          S_VIS_HIT[i+1],\n",
    "                                                                          S_VIS_MISS[i+1],\n",
    "                                                                          I_VIS_HIT[i+1],\n",
    "                                                                          I_VIS_MISS[i+1],\n",
    "                                                                          I_noise_AUDIO_HIT[i+1],\n",
    "                                                                          I_noise_AUDIO_MISS[i+1])\n",
    "            Firing_target_AV_HIT[i+1]=H(x_AV_HIT[i+1])\n",
    "            Firing_target_AV_MISS[i+1]=H(x_AV_MISS[i+1])\n",
    "        \n",
    "            # AV RACE MODEL REACTION TIME\n",
    "            if time[i]>0:\n",
    "                if count_AV <0.5:\n",
    "                    ANSWER_AV[n],RT_AV[n],count_AV=Reaction_Time_MULT(Firing_target_VIS_HIT[i],Firing_target_VIS_MISS[i],Firing_target_AUDIO_HIT[i],Firing_target_AUDIO_MISS[i],Threshold,time[i])\n",
    "                    ANSWER_AV[n],RT_AV[n],count_AV=Reaction_Time_UNI(Firing_target_AV_HIT[i],Firing_target_AV_MISS[i],Threshold,time[i])\n",
    "\n",
    "                # VISUAL REACTION TIME THRESHOLD\n",
    "                if count_VIS <0.5:\n",
    "                    ANSWER_VIS[n],RT_VIS[n],count_VIS=Reaction_Time_UNI(Firing_target_VIS_HIT[i],Firing_target_VIS_MISS[i],Threshold,time[i])\n",
    "\n",
    "                # AUDITORY REACTION TIME THRESHOLD\n",
    "                if count_AUDIO <0.5:\n",
    "                    ANSWER_AUDIO[n],RT_AUDIO[n],count_AUDIO=Reaction_Time_UNI(Firing_target_AUDIO_HIT[i],Firing_target_AUDIO_MISS[i],Threshold,time[i])\n",
    "    # GENERATES GROUP DATA BY AVERAGING PARTICIPANTS TRIALS            \n",
    "    \n",
    "    \n",
    "    "
   ]
  },
  {
   "cell_type": "markdown",
   "metadata": {},
   "source": [
    "## Results"
   ]
  },
  {
   "cell_type": "code",
   "execution_count": 17,
   "metadata": {},
   "outputs": [
    {
     "data": {
      "image/png": "[encoded data removed]",
      "text/plain": [
       "<Figure size 1008x288 with 3 Axes>"
      ]
     },
     "metadata": {
      "needs_background": "light"
     },
     "output_type": "display_data"
    }
   ],
   "source": [
    "fig = plt.figure(figsize=(14,4))\n",
    "plt.subplot(131)\n",
    "plt.plot(time,Firing_target_AUDIO_HIT.T,'g')\n",
    "plt.plot(time,Firing_target_AUDIO_MISS.T,'r',alpha=0.5)\n",
    "\n",
    "plt.hlines(Threshold,-10,1500,colors='grey',linestyles='dashed',label='Threshold')\n",
    "plt.vlines(RT_AUDIO[-1],0,Threshold,colors='k',linestyles='dashed',label='Reaction Time')\n",
    "\n",
    "plt.plot(time,I_AUDIO_HIT*1000,'k:',alpha=0.5)\n",
    "\n",
    "\n",
    "plt.xlabel('time(ms)')\n",
    "plt.ylabel('Firing Rate')\n",
    "plt.xlim(-600,4500)\n",
    "\n",
    "\n",
    "plt.title(\"Auditory Trial\")\n",
    "#plt.legend()\n",
    "plt.subplot(132)\n",
    "plt.plot(time,Firing_target_VIS_HIT.T,'b')\n",
    "plt.plot(time,Firing_target_VIS_MISS.T,'r',alpha=0.5)\n",
    "plt.hlines(Threshold,-10,1500,colors='grey',linestyles='dashed',label='Threshold')\n",
    "plt.vlines(RT_VIS[-1],0,Threshold,colors='k',linestyles='dashed',label='Reaction Time')\n",
    "#plt.legend()\n",
    "plt.xlabel('time(ms)')\n",
    "plt.title(\"Visual Trial\")\n",
    "plt.xlim(-600,4500)\n",
    "\n",
    "\n",
    "plt.subplot(133)\n",
    "plt.plot(time,Firing_target_AV_HIT.T,'k')\n",
    "plt.plot(time,Firing_target_AV_MISS.T,'r',alpha=0.5)\n",
    "\n",
    "plt.hlines(Threshold,-10,1500,colors='grey',linestyles='dashed',label='Threshold')\n",
    "plt.vlines(RT_AV[-1],0,Threshold,colors='k',linestyles='dashed',label='Reaction Time')\n",
    "plt.xlabel('time(ms)')\n",
    "plt.ylabel('Firing Rate')\n",
    "plt.xlim(-600,4500)\n",
    "\n",
    "\n",
    "\n",
    "\n",
    "\n",
    "plt.savefig('FIGURES/ConnectedSingleTrial.png',dpi=300)\n",
    "\n",
    "plt.show()"
   ]
  }
 ],
 "metadata": {
  "kernelspec": {
   "display_name": "Python 3 (ipykernel)",
   "language": "python",
   "name": "python3"
  },
  "language_info": {
   "codemirror_mode": {
    "name": "ipython",
    "version": 3
   },
   "file_extension": ".py",
   "mimetype": "text/x-python",
   "name": "python",
   "nbconvert_exporter": "python",
   "pygments_lexer": "ipython3",
   "version": "3.8.12"
  }
 },
 "nbformat": 4,
 "nbformat_minor": 1
}
